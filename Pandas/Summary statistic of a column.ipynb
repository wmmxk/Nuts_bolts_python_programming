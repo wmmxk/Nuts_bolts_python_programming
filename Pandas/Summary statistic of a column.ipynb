{
 "cells": [
  {
   "cell_type": "code",
   "execution_count": 16,
   "metadata": {
    "collapsed": false,
    "scrolled": false
   },
   "outputs": [
    {
     "data": {
      "text/html": [
       "<div>\n",
       "<table border=\"1\" class=\"dataframe\">\n",
       "  <thead>\n",
       "    <tr style=\"text-align: right;\">\n",
       "      <th></th>\n",
       "      <th>A</th>\n",
       "      <th>B</th>\n",
       "      <th>C</th>\n",
       "      <th>D</th>\n",
       "      <th>name</th>\n",
       "    </tr>\n",
       "  </thead>\n",
       "  <tbody>\n",
       "    <tr>\n",
       "      <th>0</th>\n",
       "      <td>0.125695</td>\n",
       "      <td>-0.041888</td>\n",
       "      <td>0.513740</td>\n",
       "      <td>-1.549540</td>\n",
       "      <td>A</td>\n",
       "    </tr>\n",
       "    <tr>\n",
       "      <th>1</th>\n",
       "      <td>0.844699</td>\n",
       "      <td>-0.777836</td>\n",
       "      <td>0.896447</td>\n",
       "      <td>0.956701</td>\n",
       "      <td>A</td>\n",
       "    </tr>\n",
       "    <tr>\n",
       "      <th>2</th>\n",
       "      <td>1.571341</td>\n",
       "      <td>-1.869484</td>\n",
       "      <td>-0.821205</td>\n",
       "      <td>-1.164339</td>\n",
       "      <td>A</td>\n",
       "    </tr>\n",
       "    <tr>\n",
       "      <th>3</th>\n",
       "      <td>0.013995</td>\n",
       "      <td>0.288684</td>\n",
       "      <td>0.512003</td>\n",
       "      <td>1.243457</td>\n",
       "      <td>B</td>\n",
       "    </tr>\n",
       "    <tr>\n",
       "      <th>4</th>\n",
       "      <td>0.300527</td>\n",
       "      <td>-0.336183</td>\n",
       "      <td>-0.196948</td>\n",
       "      <td>-0.104226</td>\n",
       "      <td>B</td>\n",
       "    </tr>\n",
       "    <tr>\n",
       "      <th>5</th>\n",
       "      <td>1.285180</td>\n",
       "      <td>-1.751534</td>\n",
       "      <td>1.300438</td>\n",
       "      <td>0.357192</td>\n",
       "      <td>C</td>\n",
       "    </tr>\n",
       "    <tr>\n",
       "      <th>6</th>\n",
       "      <td>0.242243</td>\n",
       "      <td>0.689336</td>\n",
       "      <td>-0.484089</td>\n",
       "      <td>-0.854038</td>\n",
       "      <td>C</td>\n",
       "    </tr>\n",
       "    <tr>\n",
       "      <th>7</th>\n",
       "      <td>0.770669</td>\n",
       "      <td>-1.576481</td>\n",
       "      <td>-0.352335</td>\n",
       "      <td>-0.988985</td>\n",
       "      <td>D</td>\n",
       "    </tr>\n",
       "    <tr>\n",
       "      <th>8</th>\n",
       "      <td>0.240312</td>\n",
       "      <td>0.090391</td>\n",
       "      <td>-0.817494</td>\n",
       "      <td>1.151219</td>\n",
       "      <td>D</td>\n",
       "    </tr>\n",
       "    <tr>\n",
       "      <th>9</th>\n",
       "      <td>0.337195</td>\n",
       "      <td>0.172126</td>\n",
       "      <td>-0.063891</td>\n",
       "      <td>-0.421235</td>\n",
       "      <td>D</td>\n",
       "    </tr>\n",
       "  </tbody>\n",
       "</table>\n",
       "</div>"
      ],
      "text/plain": [
       "          A         B         C         D name\n",
       "0  0.125695 -0.041888  0.513740 -1.549540    A\n",
       "1  0.844699 -0.777836  0.896447  0.956701    A\n",
       "2  1.571341 -1.869484 -0.821205 -1.164339    A\n",
       "3  0.013995  0.288684  0.512003  1.243457    B\n",
       "4  0.300527 -0.336183 -0.196948 -0.104226    B\n",
       "5  1.285180 -1.751534  1.300438  0.357192    C\n",
       "6  0.242243  0.689336 -0.484089 -0.854038    C\n",
       "7  0.770669 -1.576481 -0.352335 -0.988985    D\n",
       "8  0.240312  0.090391 -0.817494  1.151219    D\n",
       "9  0.337195  0.172126 -0.063891 -0.421235    D"
      ]
     },
     "execution_count": 16,
     "metadata": {},
     "output_type": "execute_result"
    }
   ],
   "source": [
    "import pandas as pd\n",
    "import numpy as np\n",
    "df = pd.DataFrame(np.random.randn(10, 4), columns=list('ABCD'))\n",
    "df[\"name\"] = [\"A\",\"A\",\"A\",\"B\",\"B\",\"C\",\"C\",\"D\",\"D\",\"D\"]\n",
    "df"
   ]
  },
  {
   "cell_type": "code",
   "execution_count": 17,
   "metadata": {
    "collapsed": true
   },
   "outputs": [],
   "source": [
    "grouped = df.groupby('name')"
   ]
  },
  {
   "cell_type": "code",
   "execution_count": 20,
   "metadata": {
    "collapsed": false
   },
   "outputs": [
    {
     "data": {
      "text/plain": [
       "count    10.000000\n",
       "mean      0.573186\n",
       "std       0.524857\n",
       "min       0.013995\n",
       "25%       0.240795\n",
       "50%       0.318861\n",
       "75%       0.826191\n",
       "max       1.571341\n",
       "Name: A, dtype: float64"
      ]
     },
     "execution_count": 20,
     "metadata": {},
     "output_type": "execute_result"
    }
   ],
   "source": [
    "df['A'].describe()"
   ]
  },
  {
   "cell_type": "code",
   "execution_count": 19,
   "metadata": {
    "collapsed": false
   },
   "outputs": [
    {
     "data": {
      "text/plain": [
       "name       \n",
       "A     count    3.000000\n",
       "      mean     0.847245\n",
       "      std      0.722826\n",
       "      min      0.125695\n",
       "      25%      0.485197\n",
       "      50%      0.844699\n",
       "      75%      1.208020\n",
       "      max      1.571341\n",
       "B     count    2.000000\n",
       "      mean     0.157261\n",
       "      std      0.202609\n",
       "      min      0.013995\n",
       "      25%      0.085628\n",
       "      50%      0.157261\n",
       "      75%      0.228894\n",
       "      max      0.300527\n",
       "C     count    2.000000\n",
       "      mean     0.763712\n",
       "      std      0.737468\n",
       "      min      0.242243\n",
       "      25%      0.502978\n",
       "      50%      0.763712\n",
       "      75%      1.024446\n",
       "      max      1.285180\n",
       "D     count    3.000000\n",
       "      mean     0.449392\n",
       "      std      0.282420\n",
       "      min      0.240312\n",
       "      25%      0.288754\n",
       "      50%      0.337195\n",
       "      75%      0.553932\n",
       "      max      0.770669\n",
       "Name: A, dtype: float64"
      ]
     },
     "execution_count": 19,
     "metadata": {},
     "output_type": "execute_result"
    }
   ],
   "source": [
    "grouped['A'].describe()"
   ]
  }
 ],
 "metadata": {
  "kernelspec": {
   "display_name": "Python [Root]",
   "language": "python",
   "name": "Python [Root]"
  },
  "language_info": {
   "codemirror_mode": {
    "name": "ipython",
    "version": 2
   },
   "file_extension": ".py",
   "mimetype": "text/x-python",
   "name": "python",
   "nbconvert_exporter": "python",
   "pygments_lexer": "ipython2",
   "version": "2.7.12"
  }
 },
 "nbformat": 4,
 "nbformat_minor": 0
}
