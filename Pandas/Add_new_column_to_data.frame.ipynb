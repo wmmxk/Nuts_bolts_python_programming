{
 "cells": [
  {
   "cell_type": "code",
   "execution_count": 15,
   "metadata": {
    "collapsed": false
   },
   "outputs": [],
   "source": [
    "import pandas as pd\n",
    "import numpy as np\n",
    "import itertools\n",
    "dates = pd.date_range('20130101',periods=6)\n",
    "f = pd.DataFrame(np.random.randn(6,4),index=dates,columns=list('ABCD'))"
   ]
  },
  {
   "cell_type": "code",
   "execution_count": 16,
   "metadata": {
    "collapsed": false
   },
   "outputs": [],
   "source": [
    "f[\"new_col\"]=np.random.randn(6,1)"
   ]
  },
  {
   "cell_type": "code",
   "execution_count": 17,
   "metadata": {
    "collapsed": false
   },
   "outputs": [],
   "source": [
    "square_feature = 'A,B,C'.split(',')"
   ]
  },
  {
   "cell_type": "code",
   "execution_count": 18,
   "metadata": {
    "collapsed": false
   },
   "outputs": [
    {
     "data": {
      "text/plain": [
       "['A', 'B', 'C']"
      ]
     },
     "execution_count": 18,
     "metadata": {},
     "output_type": "execute_result"
    }
   ],
   "source": [
    "square_feature"
   ]
  },
  {
   "cell_type": "code",
   "execution_count": 20,
   "metadata": {
    "collapsed": false
   },
   "outputs": [],
   "source": [
    "for feature in square_feature:\n",
    "        feat=feature+\"square\"\n",
    "        f[feat] = f[feature]**2\n",
    "for comb in itertools.combinations(square_feature, 2):\n",
    "        feat = comb[0] + \"_\" + comb[1]\n",
    "        f[feat] = f[comb[0]]*f[comb[1]]"
   ]
  },
  {
   "cell_type": "code",
   "execution_count": 21,
   "metadata": {
    "collapsed": false,
    "scrolled": true
   },
   "outputs": [
    {
     "data": {
      "text/html": [
       "<div>\n",
       "<table border=\"1\" class=\"dataframe\">\n",
       "  <thead>\n",
       "    <tr style=\"text-align: right;\">\n",
       "      <th></th>\n",
       "      <th>A</th>\n",
       "      <th>B</th>\n",
       "      <th>C</th>\n",
       "      <th>D</th>\n",
       "      <th>new_col</th>\n",
       "      <th>Asquare</th>\n",
       "      <th>Bsquare</th>\n",
       "      <th>Csquare</th>\n",
       "      <th>A_B</th>\n",
       "      <th>A_C</th>\n",
       "      <th>B_C</th>\n",
       "    </tr>\n",
       "  </thead>\n",
       "  <tbody>\n",
       "    <tr>\n",
       "      <th>2013-01-01</th>\n",
       "      <td>-1.316784</td>\n",
       "      <td>-0.392603</td>\n",
       "      <td>1.919457</td>\n",
       "      <td>-0.582844</td>\n",
       "      <td>0.131189</td>\n",
       "      <td>1.733921</td>\n",
       "      <td>0.154137</td>\n",
       "      <td>3.684316</td>\n",
       "      <td>0.516973</td>\n",
       "      <td>-2.527511</td>\n",
       "      <td>-0.753584</td>\n",
       "    </tr>\n",
       "    <tr>\n",
       "      <th>2013-01-02</th>\n",
       "      <td>0.065496</td>\n",
       "      <td>-0.519005</td>\n",
       "      <td>-1.794306</td>\n",
       "      <td>-0.540623</td>\n",
       "      <td>-0.726382</td>\n",
       "      <td>0.004290</td>\n",
       "      <td>0.269366</td>\n",
       "      <td>3.219535</td>\n",
       "      <td>-0.033993</td>\n",
       "      <td>-0.117519</td>\n",
       "      <td>0.931253</td>\n",
       "    </tr>\n",
       "    <tr>\n",
       "      <th>2013-01-03</th>\n",
       "      <td>-1.739556</td>\n",
       "      <td>-1.446272</td>\n",
       "      <td>-1.223547</td>\n",
       "      <td>0.302557</td>\n",
       "      <td>-0.887278</td>\n",
       "      <td>3.026057</td>\n",
       "      <td>2.091703</td>\n",
       "      <td>1.497067</td>\n",
       "      <td>2.515872</td>\n",
       "      <td>2.128429</td>\n",
       "      <td>1.769582</td>\n",
       "    </tr>\n",
       "    <tr>\n",
       "      <th>2013-01-04</th>\n",
       "      <td>-1.180049</td>\n",
       "      <td>-0.110415</td>\n",
       "      <td>-0.479589</td>\n",
       "      <td>-1.389682</td>\n",
       "      <td>-1.416653</td>\n",
       "      <td>1.392516</td>\n",
       "      <td>0.012192</td>\n",
       "      <td>0.230006</td>\n",
       "      <td>0.130296</td>\n",
       "      <td>0.565939</td>\n",
       "      <td>0.052954</td>\n",
       "    </tr>\n",
       "    <tr>\n",
       "      <th>2013-01-05</th>\n",
       "      <td>-0.572650</td>\n",
       "      <td>-0.148279</td>\n",
       "      <td>-0.071043</td>\n",
       "      <td>-0.971969</td>\n",
       "      <td>0.414465</td>\n",
       "      <td>0.327928</td>\n",
       "      <td>0.021987</td>\n",
       "      <td>0.005047</td>\n",
       "      <td>0.084912</td>\n",
       "      <td>0.040683</td>\n",
       "      <td>0.010534</td>\n",
       "    </tr>\n",
       "    <tr>\n",
       "      <th>2013-01-06</th>\n",
       "      <td>0.760344</td>\n",
       "      <td>0.653596</td>\n",
       "      <td>1.325392</td>\n",
       "      <td>-0.845116</td>\n",
       "      <td>0.096958</td>\n",
       "      <td>0.578123</td>\n",
       "      <td>0.427188</td>\n",
       "      <td>1.756665</td>\n",
       "      <td>0.496958</td>\n",
       "      <td>1.007754</td>\n",
       "      <td>0.866271</td>\n",
       "    </tr>\n",
       "  </tbody>\n",
       "</table>\n",
       "</div>"
      ],
      "text/plain": [
       "                   A         B         C         D   new_col   Asquare  \\\n",
       "2013-01-01 -1.316784 -0.392603  1.919457 -0.582844  0.131189  1.733921   \n",
       "2013-01-02  0.065496 -0.519005 -1.794306 -0.540623 -0.726382  0.004290   \n",
       "2013-01-03 -1.739556 -1.446272 -1.223547  0.302557 -0.887278  3.026057   \n",
       "2013-01-04 -1.180049 -0.110415 -0.479589 -1.389682 -1.416653  1.392516   \n",
       "2013-01-05 -0.572650 -0.148279 -0.071043 -0.971969  0.414465  0.327928   \n",
       "2013-01-06  0.760344  0.653596  1.325392 -0.845116  0.096958  0.578123   \n",
       "\n",
       "             Bsquare   Csquare       A_B       A_C       B_C  \n",
       "2013-01-01  0.154137  3.684316  0.516973 -2.527511 -0.753584  \n",
       "2013-01-02  0.269366  3.219535 -0.033993 -0.117519  0.931253  \n",
       "2013-01-03  2.091703  1.497067  2.515872  2.128429  1.769582  \n",
       "2013-01-04  0.012192  0.230006  0.130296  0.565939  0.052954  \n",
       "2013-01-05  0.021987  0.005047  0.084912  0.040683  0.010534  \n",
       "2013-01-06  0.427188  1.756665  0.496958  1.007754  0.866271  "
      ]
     },
     "execution_count": 21,
     "metadata": {},
     "output_type": "execute_result"
    }
   ],
   "source": [
    "f"
   ]
  },
  {
   "cell_type": "code",
   "execution_count": null,
   "metadata": {
    "collapsed": true
   },
   "outputs": [],
   "source": []
  }
 ],
 "metadata": {
  "kernelspec": {
   "display_name": "Python [Root]",
   "language": "python",
   "name": "Python [Root]"
  },
  "language_info": {
   "codemirror_mode": {
    "name": "ipython",
    "version": 2
   },
   "file_extension": ".py",
   "mimetype": "text/x-python",
   "name": "python",
   "nbconvert_exporter": "python",
   "pygments_lexer": "ipython2",
   "version": "2.7.12"
  }
 },
 "nbformat": 4,
 "nbformat_minor": 0
}
