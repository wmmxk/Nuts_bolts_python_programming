{
 "cells": [
  {
   "cell_type": "code",
   "execution_count": null,
   "metadata": {
    "collapsed": true
   },
   "outputs": [],
   "source": [
    "Problem: average the rows which has the same value in the 2nd column\n",
    "# 1st method. \n",
    "   1. Find the unique value in 2nd column; \n",
    "   2. index = np.where(arr[:,2]==)\n",
    "   3. np.average(arr[index])\n",
    "  complexity: k*n. k is the number of unique values and n is the number of rows \n",
    "# 2nd solution:\n",
    "   1. sort the arr according to the 2nd column:\n",
    "    "
   ]
  },
  {
   "cell_type": "code",
   "execution_count": 10,
   "metadata": {
    "collapsed": false
   },
   "outputs": [
    {
     "name": "stdout",
     "output_type": "stream",
     "text": [
      "[[3 3]]\n"
     ]
    },
    {
     "data": {
      "text/plain": [
       "array([[ 3.,  3.]])"
      ]
     },
     "execution_count": 10,
     "metadata": {},
     "output_type": "execute_result"
    }
   ],
   "source": [
    "import numpy as np\n",
    "arr = np.random.randint(5,size=(5,2))\n",
    "arr = arr[arr[:,1].argsort()]\n",
    "print arr\n",
    "np.array([a.mean(0) for a in np.split(arr, np.argwhere(np.diff(arr[:, 1])) + 1)])"
   ]
  },
  {
   "cell_type": "code",
   "execution_count": 9,
   "metadata": {
    "collapsed": false
   },
   "outputs": [
    {
     "name": "stdout",
     "output_type": "stream",
     "text": [
      "[0 0 0 2 0 0 0 1 0]\n",
      "[[3]\n",
      " [7]]\n",
      "[array([[0, 1],\n",
      "       [2, 1],\n",
      "       [0, 1],\n",
      "       [3, 1]]), array([[2, 3],\n",
      "       [1, 3],\n",
      "       [2, 3],\n",
      "       [4, 3]]), array([[3, 4],\n",
      "       [4, 4]])]\n"
     ]
    }
   ],
   "source": [
    "print np.diff(arr[:,1])\n",
    "print np.argwhere(np.diff(arr[:,1]))\n",
    "print np.split(arr, np.argwhere(np.diff(arr[:,1]))+1)"
   ]
  }
 ],
 "metadata": {
  "kernelspec": {
   "display_name": "Python [Root]",
   "language": "python",
   "name": "Python [Root]"
  },
  "language_info": {
   "codemirror_mode": {
    "name": "ipython",
    "version": 2
   },
   "file_extension": ".py",
   "mimetype": "text/x-python",
   "name": "python",
   "nbconvert_exporter": "python",
   "pygments_lexer": "ipython2",
   "version": "2.7.12"
  }
 },
 "nbformat": 4,
 "nbformat_minor": 0
}
