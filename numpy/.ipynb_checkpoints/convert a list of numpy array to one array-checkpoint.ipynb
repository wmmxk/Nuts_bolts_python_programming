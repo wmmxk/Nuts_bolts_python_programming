{
 "cells": [
  {
   "cell_type": "code",
   "execution_count": 2,
   "metadata": {
    "collapsed": false
   },
   "outputs": [
    {
     "name": "stdout",
     "output_type": "stream",
     "text": [
      "[array([[  0.00000000e+000,   6.92395026e-310],\n",
      "       [  6.92391779e-310,   6.92393966e-310]]), array([[  6.92394959e-310,   6.92394959e-310],\n",
      "       [  8.88803343e+247,   2.42092166e-322]])]\n"
     ]
    },
    {
     "data": {
      "text/plain": [
       "array([[  0.00000000e+000,   6.92395026e-310],\n",
       "       [  6.92391779e-310,   6.92393966e-310],\n",
       "       [  6.92394959e-310,   6.92394959e-310],\n",
       "       [  8.88803343e+247,   2.42092166e-322]])"
      ]
     },
     "execution_count": 2,
     "metadata": {},
     "output_type": "execute_result"
    }
   ],
   "source": [
    "import numpy as np\n",
    "mylist =[np.empty([2,2]),np.empty([2,2])]\n",
    "print mylist\n",
    "np.concatenate(mylist,axis=0)"
   ]
  }
 ],
 "metadata": {
  "kernelspec": {
   "display_name": "Python [Root]",
   "language": "python",
   "name": "Python [Root]"
  },
  "language_info": {
   "codemirror_mode": {
    "name": "ipython",
    "version": 2
   },
   "file_extension": ".py",
   "mimetype": "text/x-python",
   "name": "python",
   "nbconvert_exporter": "python",
   "pygments_lexer": "ipython2",
   "version": "2.7.12"
  }
 },
 "nbformat": 4,
 "nbformat_minor": 0
}
