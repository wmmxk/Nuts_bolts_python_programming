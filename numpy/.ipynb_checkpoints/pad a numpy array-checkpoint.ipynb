{
 "cells": [
  {
   "cell_type": "code",
   "execution_count": 1,
   "metadata": {
    "collapsed": true
   },
   "outputs": [],
   "source": [
    "import numpy as np\n",
    "A = np.empty([3,2])"
   ]
  },
  {
   "cell_type": "code",
   "execution_count": 2,
   "metadata": {
    "collapsed": false,
    "scrolled": true
   },
   "outputs": [
    {
     "data": {
      "text/plain": [
       "array([[  0.00000000e+000,   9.64104682e-317],\n",
       "       [  6.90811475e-310,   6.90811485e-310],\n",
       "       [  6.90811161e-310,   6.90811031e-310]])"
      ]
     },
     "execution_count": 2,
     "metadata": {},
     "output_type": "execute_result"
    }
   ],
   "source": [
    "A"
   ]
  },
  {
   "cell_type": "code",
   "execution_count": 4,
   "metadata": {
    "collapsed": false
   },
   "outputs": [
    {
     "name": "stdout",
     "output_type": "stream",
     "text": [
      "[[  0.00000000e+000   9.64104682e-317   1.00000000e+000   1.00000000e+000]\n",
      " [  6.90811475e-310   6.90811485e-310   1.00000000e+000   1.00000000e+000]\n",
      " [  6.90811161e-310   6.90811031e-310   1.00000000e+000   1.00000000e+000]]\n"
     ]
    }
   ],
   "source": [
    "npad = ((0, 0), (0, 2))\n",
    "B= np.pad(A, pad_width=npad, mode='constant', constant_values=1)\n",
    "print B"
   ]
  }
 ],
 "metadata": {
  "kernelspec": {
   "display_name": "Python [Root]",
   "language": "python",
   "name": "Python [Root]"
  },
  "language_info": {
   "codemirror_mode": {
    "name": "ipython",
    "version": 2
   },
   "file_extension": ".py",
   "mimetype": "text/x-python",
   "name": "python",
   "nbconvert_exporter": "python",
   "pygments_lexer": "ipython2",
   "version": "2.7.12"
  }
 },
 "nbformat": 4,
 "nbformat_minor": 0
}
