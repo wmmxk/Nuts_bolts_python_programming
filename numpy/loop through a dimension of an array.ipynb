{
 "cells": [
  {
   "cell_type": "code",
   "execution_count": null,
   "metadata": {
    "collapsed": true
   },
   "outputs": [],
   "source": [
    "# loop through the first dimension"
   ]
  },
  {
   "cell_type": "code",
   "execution_count": 3,
   "metadata": {
    "collapsed": true
   },
   "outputs": [],
   "source": [
    "import numpy as np"
   ]
  },
  {
   "cell_type": "code",
   "execution_count": 4,
   "metadata": {
    "collapsed": false,
    "scrolled": false
   },
   "outputs": [
    {
     "name": "stdout",
     "output_type": "stream",
     "text": [
      "[[ 0  1  2  3]\n",
      " [ 4  5  6  7]\n",
      " [ 8  9 10 11]]\n",
      "[[12 13 14 15]\n",
      " [16 17 18 19]\n",
      " [20 21 22 23]]\n"
     ]
    }
   ],
   "source": [
    "c = np.arange(24).reshape(2,3,4)\n",
    "\n",
    "for r in c :\n",
    "     print r"
   ]
  },
  {
   "cell_type": "code",
   "execution_count": 6,
   "metadata": {
    "collapsed": false
   },
   "outputs": [
    {
     "name": "stdout",
     "output_type": "stream",
     "text": [
      "[[ 0  4  8]\n",
      " [12 16 20]]\n",
      "[[ 1  5  9]\n",
      " [13 17 21]]\n",
      "[[ 2  6 10]\n",
      " [14 18 22]]\n",
      "[[ 3  7 11]\n",
      " [15 19 23]]\n"
     ]
    }
   ],
   "source": [
    "for r in c.swapaxes(2,0).swapaxes(1,2):\n",
    "    print r"
   ]
  },
  {
   "cell_type": "code",
   "execution_count": null,
   "metadata": {
    "collapsed": true
   },
   "outputs": [],
   "source": [
    "# http://stackoverflow.com/questions/1589706/iterating-over-arbitrary-dimension-of-numpy-array\n",
    "# 下面的方法快慢有别，对于loop through其它维度的情况"
   ]
  },
  {
   "cell_type": "code",
   "execution_count": null,
   "metadata": {
    "collapsed": true
   },
   "outputs": [],
   "source": [
    "python -m timeit -s 'import numpy; c = numpy.arange(24).reshape(2,3,4)' 'for r in c.swapaxes(2,0).swapaxes(1,2): u = r'\n",
    "100000 loops, best of 3: 3.69 usec per loop\n",
    "\n",
    "python -m timeit -s 'import numpy; c = numpy.arange(24).reshape(2,3,4)' 'for i in range(c.shape[2]): u = c[:,:,i]'\n",
    "100000 loops, best of 3: 6.08 usec per loop\n",
    "\n",
    "python -m timeit -s 'import numpy; c = numpy.arange(24).reshape(2,3,4)' 'for r in numpy.rollaxis(c, 2): u = r'\n",
    "100000 loops, best of 3: 6.46 usec per loop"
   ]
  }
 ],
 "metadata": {
  "kernelspec": {
   "display_name": "Python [Root]",
   "language": "python",
   "name": "Python [Root]"
  },
  "language_info": {
   "codemirror_mode": {
    "name": "ipython",
    "version": 2
   },
   "file_extension": ".py",
   "mimetype": "text/x-python",
   "name": "python",
   "nbconvert_exporter": "python",
   "pygments_lexer": "ipython2",
   "version": "2.7.12"
  }
 },
 "nbformat": 4,
 "nbformat_minor": 0
}
