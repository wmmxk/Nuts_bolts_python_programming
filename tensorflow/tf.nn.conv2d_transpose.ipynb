{
 "cells": [
  {
   "cell_type": "code",
   "execution_count": 1,
   "metadata": {
    "collapsed": true
   },
   "outputs": [],
   "source": [
    "import tensorflow as tf\n"
   ]
  },
  {
   "cell_type": "code",
   "execution_count": 11,
   "metadata": {
    "collapsed": false,
    "scrolled": true
   },
   "outputs": [],
   "source": [
    "sess = tf.Session()\n",
    "batch_size = 1\n",
    "output_shape = [batch_size, 8, 8, 128]\n",
    "strides = [1, 2, 2, 1]\n",
    "\n",
    "input = tf.constant(0.1, shape=[batch_size, 4, 4, 4])\n",
    "w = tf.constant(0.1, shape=[7, 7, 128, 4])\n",
    "\n",
    "h1 = tf.nn.conv2d_transpose(input, w, output_shape=output_shape, strides=strides, padding='SAME')\n",
    "#sess.run(h1)"
   ]
  },
  {
   "cell_type": "code",
   "execution_count": null,
   "metadata": {
    "collapsed": true
   },
   "outputs": [],
   "source": [
    "# 先用tf.nn.conv2d看一下input与output的dimension对应关系"
   ]
  },
  {
   "cell_type": "code",
   "execution_count": 8,
   "metadata": {
    "collapsed": false
   },
   "outputs": [
    {
     "name": "stdout",
     "output_type": "stream",
     "text": [
      "(3, 4, 4, 4)\n"
     ]
    }
   ],
   "source": [
    "output = tf.constant(0.1, shape=output_shape)\n",
    "expected_input = tf.nn.conv2d(output, w, strides=strides, padding='SAME')\n",
    "print expected_input.get_shape()\n",
    "# Prints (3, 4, 4, 4)"
   ]
  }
 ],
 "metadata": {
  "kernelspec": {
   "display_name": "Python [Root]",
   "language": "python",
   "name": "Python [Root]"
  },
  "language_info": {
   "codemirror_mode": {
    "name": "ipython",
    "version": 2
   },
   "file_extension": ".py",
   "mimetype": "text/x-python",
   "name": "python",
   "nbconvert_exporter": "python",
   "pygments_lexer": "ipython2",
   "version": "2.7.12"
  }
 },
 "nbformat": 4,
 "nbformat_minor": 0
}
