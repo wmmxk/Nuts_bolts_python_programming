{
 "cells": [
  {
   "cell_type": "code",
   "execution_count": null,
   "metadata": {
    "collapsed": true
   },
   "outputs": [],
   "source": [
    "#这里对一个黑白image（即一个通道）进行卷积操作。"
   ]
  },
  {
   "cell_type": "code",
   "execution_count": null,
   "metadata": {
    "collapsed": true
   },
   "outputs": [],
   "source": [
    "# data = tf.constant([[1.0,1,1,1],[1,1,1,1],[1,1,1,1],[1,1,1,1]]) 这里如果都是整数，tf.nn.con2d那里报错。"
   ]
  },
  {
   "cell_type": "code",
   "execution_count": null,
   "metadata": {
    "collapsed": true
   },
   "outputs": [],
   "source": [
    "#input data 是四个维度： 1. batch_size, 2: width 3. length 4. channels.\n",
    "# filter 四个维度： 1. width 2. length. 3. the number of channels as input. 4. the number of channels as output"
   ]
  },
  {
   "cell_type": "code",
   "execution_count": 2,
   "metadata": {
    "collapsed": false
   },
   "outputs": [],
   "source": [
    "import tensorflow as tf\n",
    "conv1_weights = tf.Variable(\n",
    "  tf.truncated_normal([2,2,1,2],  # 2*2 filter, depth 2.\n",
    "                      stddev=0.1,\n",
    "                      seed=1))"
   ]
  },
  {
   "cell_type": "code",
   "execution_count": 6,
   "metadata": {
    "collapsed": false
   },
   "outputs": [
    {
     "name": "stdout",
     "output_type": "stream",
     "text": [
      "(4, 4)\n",
      "(1, 4, 4, 1)\n"
     ]
    }
   ],
   "source": [
    "data = tf.constant([[1.0,1,1,1],[1,1,1,1],[1,1,1,1],[1,1,1,1]])\n",
    "print data.get_shape()\n",
    "data = tf.reshape(data,[1,4,4,-1])\n",
    "print data.get_shape()"
   ]
  },
  {
   "cell_type": "code",
   "execution_count": 18,
   "metadata": {
    "collapsed": false
   },
   "outputs": [
    {
     "name": "stdout",
     "output_type": "stream",
     "text": [
      "WARNING:tensorflow:From <ipython-input-18-528ff287db00>:5 in <module>.: initialize_all_variables (from tensorflow.python.ops.variables) is deprecated and will be removed after 2017-03-02.\n",
      "Instructions for updating:\n",
      "Use `tf.global_variables_initializer` instead.\n"
     ]
    }
   ],
   "source": [
    "conv = tf.nn.conv2d(data,\n",
    "                      conv1_weights,\n",
    "                      strides=[1, 1, 1, 1],\n",
    "                      padding='SAME')\n",
    "init = tf.initialize_all_variables()"
   ]
  },
  {
   "cell_type": "code",
   "execution_count": 24,
   "metadata": {
    "collapsed": false,
    "scrolled": true
   },
   "outputs": [
    {
     "name": "stdout",
     "output_type": "stream",
     "text": [
      "[[[[ 0.00572439  0.16790129]\n",
      "   [ 0.00572439  0.16790129]\n",
      "   [ 0.00572439  0.16790129]\n",
      "   [-0.01716211  0.30954701]]\n",
      "\n",
      "  [[ 0.00572439  0.16790129]\n",
      "   [ 0.00572439  0.16790129]\n",
      "   [ 0.00572439  0.16790129]\n",
      "   [-0.01716211  0.30954701]]\n",
      "\n",
      "  [[ 0.00572439  0.16790129]\n",
      "   [ 0.00572439  0.16790129]\n",
      "   [ 0.00572439  0.16790129]\n",
      "   [-0.01716211  0.30954701]]\n",
      "\n",
      "  [[-0.07459889  0.15838473]\n",
      "   [-0.07459889  0.15838473]\n",
      "   [-0.07459889  0.15838473]\n",
      "   [-0.08113182  0.14845988]]]] \n",
      "\n",
      "[[[[-0.08113182  0.14845988]]\n",
      "\n",
      "  [[ 0.00653294  0.00992484]]]\n",
      "\n",
      "\n",
      " [[[ 0.06396971  0.16108713]]\n",
      "\n",
      "  [[ 0.01635356 -0.15157056]]]]\n"
     ]
    }
   ],
   "source": [
    "with tf.Session() as sess:\n",
    "    sess.run(init)\n",
    "    conv_res, weights = sess.run([conv,conv1_weights])\n",
    "    print conv_res, \"\\n\"\n",
    "    print weights"
   ]
  },
  {
   "cell_type": "code",
   "execution_count": null,
   "metadata": {
    "collapsed": true
   },
   "outputs": [],
   "source": [
    "# 这是把一个convolutional layer放到一个function中，包括relu和add bias\n",
    "def conv_layer(self, x, W_shape, b_shape, name, padding='SAME'):\n",
    "        W = self.weight_variable(W_shape)\n",
    "        b = self.bias_variable([b_shape])\n",
    "        return tf.nn.relu(tf.nn.conv2d(x, W, strides=[1, 1, 1, 1], padding=padding) + b)"
   ]
  }
 ],
 "metadata": {
  "kernelspec": {
   "display_name": "Python [Root]",
   "language": "python",
   "name": "Python [Root]"
  },
  "language_info": {
   "codemirror_mode": {
    "name": "ipython",
    "version": 2
   },
   "file_extension": ".py",
   "mimetype": "text/x-python",
   "name": "python",
   "nbconvert_exporter": "python",
   "pygments_lexer": "ipython2",
   "version": "2.7.12"
  }
 },
 "nbformat": 4,
 "nbformat_minor": 0
}
