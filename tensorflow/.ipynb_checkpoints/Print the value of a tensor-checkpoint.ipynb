{
 "cells": [
  {
   "cell_type": "code",
   "execution_count": 1,
   "metadata": {
    "collapsed": true
   },
   "outputs": [],
   "source": [
    "import matplotlib\n",
    "%matplotlib inline\n",
    "import matplotlib.pyplot as plt\n",
    "import math\n",
    "import numpy as np\n",
    "import tensorflow as tf"
   ]
  },
  {
   "cell_type": "code",
   "execution_count": 11,
   "metadata": {
    "collapsed": false
   },
   "outputs": [
    {
     "data": {
      "text/plain": [
       "<matplotlib.collections.PathCollection at 0x7f7474c2a610>"
      ]
     },
     "execution_count": 11,
     "metadata": {},
     "output_type": "execute_result"
    },
    {
     "data": {
      "image/png": "[encoded data removed]",
      "text/plain": [
       "<matplotlib.figure.Figure at 0x7f7474c39dd0>"
      ]
     },
     "metadata": {},
     "output_type": "display_data"
    }
   ],
   "source": [
    "def produce_batch(batch_size, noise=0.3):\n",
    "    xs = np.random.random(size=[batch_size, 1]) * 10\n",
    "    ys = np.sin(xs) + 5 + np.random.normal(size=[batch_size, 1], scale=noise)\n",
    "    return [xs.astype(np.float32), ys.astype(np.float32)]\n",
    "\n",
    "x_train, y_train = produce_batch(20)\n",
    "x_test, y_test = produce_batch(20)\n",
    "plt.scatter(x_train, y_train)"
   ]
  },
  {
   "cell_type": "code",
   "execution_count": 12,
   "metadata": {
    "collapsed": true
   },
   "outputs": [],
   "source": [
    "def convert_data_to_tensors(x, y):\n",
    "    inputs = tf.constant(x)\n",
    "    inputs.set_shape([None, 1])\n",
    "    \n",
    "    outputs = tf.constant(y)\n",
    "    outputs.set_shape([None, 1])\n",
    "    return inputs, outputs"
   ]
  },
  {
   "cell_type": "code",
   "execution_count": 14,
   "metadata": {
    "collapsed": false,
    "scrolled": true
   },
   "outputs": [
    {
     "name": "stdout",
     "output_type": "stream",
     "text": [
      "[[ 4.62390518]\n",
      " [ 5.06882906]\n",
      " [ 7.66525316]\n",
      " [ 9.16807175]\n",
      " [ 9.76908684]\n",
      " [ 4.97174263]\n",
      " [ 7.33857584]\n",
      " [ 9.47042274]\n",
      " [ 4.69367838]\n",
      " [ 0.87048054]\n",
      " [ 5.05758667]\n",
      " [ 5.06392956]\n",
      " [ 5.45775938]\n",
      " [ 9.04104233]\n",
      " [ 4.75647163]\n",
      " [ 4.26363468]\n",
      " [ 6.29138803]\n",
      " [ 3.02114201]\n",
      " [ 6.08400345]\n",
      " [ 5.42840195]]\n",
      "[[ 4.62390518]\n",
      " [ 5.06882906]\n",
      " [ 7.66525316]\n",
      " [ 9.16807175]\n",
      " [ 9.76908684]\n",
      " [ 4.97174263]\n",
      " [ 7.33857584]\n",
      " [ 9.47042274]\n",
      " [ 4.69367838]\n",
      " [ 0.87048054]\n",
      " [ 5.05758667]\n",
      " [ 5.06392956]\n",
      " [ 5.45775938]\n",
      " [ 9.04104233]\n",
      " [ 4.75647163]\n",
      " [ 4.26363468]\n",
      " [ 6.29138803]\n",
      " [ 3.02114201]\n",
      " [ 6.08400345]\n",
      " [ 5.42840195]]\n"
     ]
    }
   ],
   "source": [
    "\n",
    "a,b  =convert_data_to_tensors(x_train, y_train)\n",
    "with tf.Session() as sess:\n",
    "   print sess.run(a)  #两种方法都可以"
   ]
  },
  {
   "cell_type": "code",
   "execution_count": 15,
   "metadata": {
    "collapsed": false,
    "scrolled": true
   },
   "outputs": [
    {
     "name": "stdout",
     "output_type": "stream",
     "text": [
      "[[ 4.62390518]\n",
      " [ 5.06882906]\n",
      " [ 7.66525316]\n",
      " [ 9.16807175]\n",
      " [ 9.76908684]\n",
      " [ 4.97174263]\n",
      " [ 7.33857584]\n",
      " [ 9.47042274]\n",
      " [ 4.69367838]\n",
      " [ 0.87048054]\n",
      " [ 5.05758667]\n",
      " [ 5.06392956]\n",
      " [ 5.45775938]\n",
      " [ 9.04104233]\n",
      " [ 4.75647163]\n",
      " [ 4.26363468]\n",
      " [ 6.29138803]\n",
      " [ 3.02114201]\n",
      " [ 6.08400345]\n",
      " [ 5.42840195]]\n"
     ]
    }
   ],
   "source": [
    "with tf.Session() as sess:\n",
    "   print a.eval()"
   ]
  },
  {
   "cell_type": "code",
   "execution_count": null,
   "metadata": {
    "collapsed": true
   },
   "outputs": [],
   "source": [
    "s = tf.InteractiveSession()\n",
    "s.as_default()\n",
    "a,b  =convert_data_to_tensors(x_train, y_train)\n",
    "a.eval()"
   ]
  },
  {
   "cell_type": "code",
   "execution_count": 8,
   "metadata": {
    "collapsed": false
   },
   "outputs": [
    {
     "name": "stdout",
     "output_type": "stream",
     "text": [
      "WARNING:tensorflow:From <ipython-input-8-94c070a74523>:7 in <module>.: initialize_all_variables (from tensorflow.python.ops.variables) is deprecated and will be removed after 2017-03-02.\n",
      "Instructions for updating:\n",
      "Use `tf.global_variables_initializer` instead.\n",
      "[[-0.01185206 -0.04144186 -0.19599989]\n",
      " [ 0.05215445 -0.11484271 -0.13538153]]\n"
     ]
    }
   ],
   "source": [
    "import tensorflow as tf\n",
    "\n",
    "#define a variable to hold normal random values \n",
    "normal_rv = tf.Variable( tf.truncated_normal([2,3],stddev = 0.1))\n",
    "\n",
    "#initialize the variable\n",
    "init_op = tf.initialize_all_variables()\n",
    "\n",
    "#run the graph\n",
    "with tf.Session() as sess:\n",
    "    sess.run(init_op) #execute init_op\n",
    "    #print the random values that we sample\n",
    "    print (sess.run(normal_rv))"
   ]
  }
 ],
 "metadata": {
  "kernelspec": {
   "display_name": "Python [Root]",
   "language": "python",
   "name": "Python [Root]"
  },
  "language_info": {
   "codemirror_mode": {
    "name": "ipython",
    "version": 2
   },
   "file_extension": ".py",
   "mimetype": "text/x-python",
   "name": "python",
   "nbconvert_exporter": "python",
   "pygments_lexer": "ipython2",
   "version": "2.7.12"
  }
 },
 "nbformat": 4,
 "nbformat_minor": 0
}
