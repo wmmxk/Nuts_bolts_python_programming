{
 "cells": [
  {
   "cell_type": "code",
   "execution_count": null,
   "metadata": {
    "collapsed": true
   },
   "outputs": [],
   "source": [
    "# 读入一个图像，用tf.expand_dims在第一个维度，扩充成四维tensor\n",
    "# tf.nn.max_pool得到一个四维tensor，visualize第一个\n",
    "# source: https://github.com/fabianbormann/Tensorflow-DeconvNet-Segmentation/blob/master/DeconvNet.py"
   ]
  },
  {
   "cell_type": "code",
   "execution_count": 10,
   "metadata": {
    "collapsed": false,
    "scrolled": true
   },
   "outputs": [
    {
     "name": "stdout",
     "output_type": "stream",
     "text": [
      "(965, 800, 3)\n"
     ]
    },
    {
     "data": {
      "text/plain": [
       "TensorShape([Dimension(1), Dimension(965), Dimension(800), Dimension(3)])"
      ]
     },
     "execution_count": 10,
     "metadata": {},
     "output_type": "execute_result"
    }
   ],
   "source": [
    "import tensorflow as tf\n",
    "import cv2\n",
    "import numpy as np\n",
    "\n",
    "import matplotlib.pyplot as plt\n",
    "\n",
    "image = cv2.imread('./data/mydog.png')\n",
    "print image.shape\n",
    "image_tensor = tf.expand_dims(tf.Variable(image, dtype=tf.float32), 0)\n",
    "image_tensor.get_shape()"
   ]
  },
  {
   "cell_type": "code",
   "execution_count": 13,
   "metadata": {
    "collapsed": false
   },
   "outputs": [
    {
     "data": {
      "text/plain": [
       "TensorShape([Dimension(1), Dimension(483), Dimension(400), Dimension(3)])"
      ]
     },
     "execution_count": 13,
     "metadata": {},
     "output_type": "execute_result"
    }
   ],
   "source": [
    "#output, argmax = tf.nn.max_pool_with_argmax(image_tensor, ksize=[1, 2, 2, 1], strides=[1, 2, 2, 1], padding='SAME', name='pool1')\n",
    "output = tf.nn.max_pool(image_tensor, ksize=[1, 4, 4, 1], strides=[1, 2, 2, 1], padding='SAME', name='pool1')\n",
    "\n",
    "output.get_shape()"
   ]
  },
  {
   "cell_type": "code",
   "execution_count": 14,
   "metadata": {
    "collapsed": false
   },
   "outputs": [
    {
     "name": "stdout",
     "output_type": "stream",
     "text": [
      "WARNING:tensorflow:From <ipython-input-14-1bfb3cb88067>:1 in <module>.: initialize_all_variables (from tensorflow.python.ops.variables) is deprecated and will be removed after 2017-03-02.\n",
      "Instructions for updating:\n",
      "Use `tf.global_variables_initializer` instead.\n"
     ]
    }
   ],
   "source": [
    "init = tf.initialize_all_variables()\n",
    "session = tf.Session()\n",
    "session.run(init)\n",
    "\n",
    "output = session.run(output)\n",
    "\n",
    "session.close()\n",
    "\n",
    "image = cv2.cvtColor(image, cv2.COLOR_RGB2BGR)\n",
    "plt.figure()\n",
    "plt.imshow(image)\n",
    "plt.show()\n",
    "\n",
    "output = cv2.cvtColor(output[0], cv2.COLOR_RGB2BGR)\n",
    "plt.figure()\n",
    "plt.imshow(255-output)\n",
    "plt.show() "
   ]
  }
 ],
 "metadata": {
  "kernelspec": {
   "display_name": "Python [Root]",
   "language": "python",
   "name": "Python [Root]"
  },
  "language_info": {
   "codemirror_mode": {
    "name": "ipython",
    "version": 2
   },
   "file_extension": ".py",
   "mimetype": "text/x-python",
   "name": "python",
   "nbconvert_exporter": "python",
   "pygments_lexer": "ipython2",
   "version": "2.7.12"
  }
 },
 "nbformat": 4,
 "nbformat_minor": 0
}
