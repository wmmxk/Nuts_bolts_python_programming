{
 "cells": [
  {
   "cell_type": "code",
   "execution_count": 1,
   "metadata": {
    "collapsed": false
   },
   "outputs": [
    {
     "name": "stdout",
     "output_type": "stream",
     "text": [
      "(5, 5, 32)\n",
      "[[[1 1 0 1 1 0 1 0 1 1 1 0 1 0 1 0 1 1 1 0 1 1 0 0 1 1 0 1 1 1 1 0]\n",
      "  [0 0 1 0 1 1 0 1 1 1 1 0 0 1 1 1 0 0 0 0 0 1 0 0 0 1 0 1 1 1 1 0]\n",
      "  [1 1 1 1 0 1 1 0 1 0 0 1 0 1 0 1 1 1 0 1 1 1 0 1 1 1 0 1 1 1 1 0]\n",
      "  [0 1 0 0 1 1 1 1 1 0 0 1 0 0 0 1 1 0 1 0 1 0 0 0 0 1 1 1 1 0 1 1]\n",
      "  [0 1 1 1 0 1 1 0 1 1 1 0 0 0 0 1 0 1 1 0 1 0 0 1 1 0 0 1 1 0 0 0]]\n",
      "\n",
      " [[0 0 1 0 0 0 1 0 0 1 1 1 1 0 1 0 0 1 0 0 0 0 0 1 1 1 0 1 0 0 0 1]\n",
      "  [0 0 0 1 0 0 1 0 1 1 1 0 1 0 1 1 0 0 0 0 0 0 1 1 0 0 1 1 1 1 1 1]\n",
      "  [1 0 1 1 1 0 1 1 0 1 0 0 1 0 1 0 0 0 0 1 0 1 1 1 1 1 1 0 0 1 1 0]\n",
      "  [1 0 1 1 0 0 0 0 1 0 1 0 1 1 0 0 1 1 1 1 0 1 0 1 0 0 1 1 1 0 1 0]\n",
      "  [0 0 1 1 1 1 1 1 1 1 1 1 1 1 0 1 1 1 1 0 1 1 1 1 0 1 0 0 1 1 1 0]]\n",
      "\n",
      " [[1 0 0 0 0 1 1 0 1 1 0 1 1 1 1 1 1 1 1 0 0 1 1 1 0 0 0 0 1 1 0 0]\n",
      "  [1 0 0 0 1 1 1 1 0 1 0 0 1 1 1 1 0 1 1 1 1 1 1 0 0 0 1 1 1 0 1 1]\n",
      "  [0 1 0 1 0 1 1 1 1 1 1 0 0 1 0 0 1 0 1 1 1 1 1 0 1 1 1 1 0 1 1 1]\n",
      "  [1 1 1 1 0 1 1 0 1 0 0 1 0 0 0 1 1 1 1 1 1 0 1 0 1 1 0 1 0 1 0 0]\n",
      "  [0 1 0 1 0 1 0 0 0 0 1 0 1 1 0 1 0 0 1 1 1 0 0 0 0 1 0 1 0 1 0 0]]\n",
      "\n",
      " [[0 1 0 0 0 1 1 0 1 0 1 1 0 1 0 1 0 0 1 0 0 0 1 1 0 0 1 0 1 1 0 1]\n",
      "  [0 0 0 0 1 0 0 1 1 1 0 1 1 1 1 1 1 1 0 0 1 0 1 0 0 0 1 1 1 0 1 1]\n",
      "  [0 1 0 1 0 1 0 1 0 1 0 1 0 0 0 1 0 0 0 0 1 1 1 0 1 1 1 0 0 1 1 0]\n",
      "  [0 0 1 1 1 0 0 1 1 0 0 1 0 1 1 1 1 1 0 0 0 0 0 0 0 0 1 0 1 0 0 1]\n",
      "  [0 0 1 0 0 1 0 1 0 0 1 1 0 0 0 0 1 1 0 0 1 1 0 0 0 1 0 0 0 0 1 1]]\n",
      "\n",
      " [[1 0 1 0 0 1 0 1 1 1 1 0 0 0 0 1 0 0 0 1 1 0 0 0 0 1 0 1 0 0 1 0]\n",
      "  [0 0 0 1 0 0 0 0 0 0 1 0 1 0 0 1 0 0 0 1 0 1 1 0 0 1 0 0 1 0 1 0]\n",
      "  [0 0 0 1 1 1 0 1 0 1 1 1 0 0 1 1 1 0 1 0 1 1 0 1 1 1 0 1 0 1 0 0]\n",
      "  [0 0 0 1 0 0 0 1 0 0 1 1 0 1 1 1 1 1 0 0 0 1 0 1 1 0 0 0 1 1 1 1]\n",
      "  [1 1 0 0 0 0 1 1 1 1 1 0 1 0 1 0 0 0 1 1 1 1 1 0 1 1 0 0 1 0 0 1]]]\n"
     ]
    }
   ],
   "source": [
    "import tensorflow as tf\n",
    "x = tf.random_uniform([5,5,32],0,2, dtype = tf.int32, seed = 0)\n",
    "\n",
    "with tf.Session() as sess:\n",
    "    tf.initialize_all_variables().run()\n",
    "    print x.get_shape()\n",
    "    print x.eval()\n"
   ]
  },
  {
   "cell_type": "code",
   "execution_count": 9,
   "metadata": {
    "collapsed": false
   },
   "outputs": [
    {
     "name": "stdout",
     "output_type": "stream",
     "text": [
      "[1 1 0 1 1 0 1 0 1 1 1 0 1 0 1 0 1 1 1 0 1 1 0 0 1 1 0 1 1 1 1 0 0 0 1 0 1\n",
      " 1 0 1 1 1 1 0 0 1 1 1 0 0]\n",
      "[0 0 0 2 2 0 2 2 2 0 2 0 0 0 2 0 2 2 2 0 2 2 2 2 0 2 0 2 2 0 0 0 2 2 0 0 2\n",
      " 2 2 0 0 0 2 2 2 0 2 2 0 0]\n"
     ]
    },
    {
     "name": "stderr",
     "output_type": "stream",
     "text": [
      "Exception AssertionError: AssertionError() in <bound method InteractiveSession.__del__ of <tensorflow.python.client.session.InteractiveSession object at 0x7f368878b3d0>> ignored\n"
     ]
    }
   ],
   "source": [
    "\n"
   ]
  }
 ],
 "metadata": {
  "kernelspec": {
   "display_name": "Python [Root]",
   "language": "python",
   "name": "Python [Root]"
  },
  "language_info": {
   "codemirror_mode": {
    "name": "ipython",
    "version": 2
   },
   "file_extension": ".py",
   "mimetype": "text/x-python",
   "name": "python",
   "nbconvert_exporter": "python",
   "pygments_lexer": "ipython2",
   "version": "2.7.12"
  }
 },
 "nbformat": 4,
 "nbformat_minor": 0
}
