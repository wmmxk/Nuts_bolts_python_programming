{
 "cells": [
  {
   "cell_type": "code",
   "execution_count": 1,
   "metadata": {
    "collapsed": true
   },
   "outputs": [],
   "source": [
    "import tensorflow as tf"
   ]
  },
  {
   "cell_type": "code",
   "execution_count": null,
   "metadata": {
    "collapsed": true
   },
   "outputs": [],
   "source": [
    "# source: http://stackoverflow.com/questions/35488717/confused-about-conv2d-transpose"
   ]
  },
  {
   "cell_type": "code",
   "execution_count": null,
   "metadata": {
    "collapsed": true
   },
   "outputs": [],
   "source": [
    "sess = tf.Session()\n",
    "batch_size = 3\n",
    "output_shape = [batch_size, 8, 8, 128]\n",
    "strides = [1, 2, 2, 1]\n",
    "\n",
    "input = tf.constant(0.1, shape=[batch_size, 4, 4, 4])\n",
    "w = tf.constant(0.1, shape=[7, 7, 128, 4])\n",
    "\n",
    "h1 = tf.nn.conv2d_transpose(input, w, output_shape=output_shape, strides=strides, padding='SAME')\n",
    "print sess.run(h1)"
   ]
  },
  {
   "cell_type": "code",
   "execution_count": null,
   "metadata": {
    "collapsed": true
   },
   "outputs": [],
   "source": [
    "#理清 Input和Output的维度关系，如果"
   ]
  },
  {
   "cell_type": "code",
   "execution_count": 7,
   "metadata": {
    "collapsed": false
   },
   "outputs": [
    {
     "name": "stdout",
     "output_type": "stream",
     "text": [
      "(3, 8, 8, 4)\n"
     ]
    }
   ],
   "source": [
    "output_shape = [batch_size, 16, 16, 128]\n",
    "strides = [1, 2, 2, 1]\n",
    "w = tf.constant(0.1, shape=[7, 7, 128, 4])\n",
    "output = tf.constant(0.1, shape=output_shape)\n",
    "expected_l = tf.nn.conv2d(output, w, strides=strides, padding='SAME')\n",
    "print expected_l.get_shape()"
   ]
  },
  {
   "cell_type": "code",
   "execution_count": null,
   "metadata": {
    "collapsed": true
   },
   "outputs": [],
   "source": [
    "#walk_through_2"
   ]
  },
  {
   "cell_type": "code",
   "execution_count": 9,
   "metadata": {
    "collapsed": false
   },
   "outputs": [
    {
     "name": "stdout",
     "output_type": "stream",
     "text": [
      "WARNING:tensorflow:From <ipython-input-9-72fd8494d6f3>:21 in <module>.: initialize_all_variables (from tensorflow.python.ops.variables) is deprecated and will be removed after 2017-03-02.\n",
      "Instructions for updating:\n",
      "Use `tf.global_variables_initializer` instead.\n",
      "The shape of x:\t(1, 3, 2, 1) ,\t and the x.reshape(3,2) is :\n",
      "[[ 1. -1.]\n",
      " [ 2.  2.]\n",
      " [ 1.  2.]]\n",
      "\n",
      "The shape of x:\t(1, 2, 1, 1) ,\t and the W.reshape(1,2) is :\n",
      "[[ 1. -1.]]\n",
      "\n",
      "The shape of y:\t(1, 3, 3, 1) ,\t and the y.reshape(3,3) is :\n",
      "[[ 1. -2.  1.]\n",
      " [ 2.  0. -2.]\n",
      " [ 1.  1. -2.]]\n",
      "\n"
     ]
    }
   ],
   "source": [
    "import numpy as np\n",
    "import tensorflow as tf\n",
    "\n",
    "\n",
    "# [batch, height, width, depth]\n",
    "x_image = tf.placeholder(tf.float32,shape=[3,2])\n",
    "x = tf.reshape(x_image,[1,3,2,1])\n",
    "\n",
    "#Filter: W  [kernel_height, kernel_width, output_depth, input_depth]\n",
    "W_cpu = np.array([[1,-1]],dtype=np.float32)\n",
    "W = tf.Variable(W_cpu)\n",
    "W = tf.reshape(W, [1,2,1,1])\n",
    "\n",
    "strides=[1, 1, 1, 1]\n",
    "padding='VALID'\n",
    "\n",
    "y = tf.nn.conv2d_transpose(x, W, [1,3,3,1],strides, padding)\n",
    "\n",
    "x_data = np.array([[1,-1],[2,2],[1,2]],dtype=np.float32)\n",
    "with tf.Session() as sess:\n",
    "    init = tf.initialize_all_variables()\n",
    "    sess.run(init)\n",
    "\n",
    "    x = (sess.run(x, feed_dict={x_image: x_data}))\n",
    "    W = (sess.run(W, feed_dict={x_image: x_data}))\n",
    "    y = (sess.run(y, feed_dict={x_image: x_data}))\n",
    "\n",
    "    print \"The shape of x:\\t\", x.shape, \",\\t and the x.reshape(3,2) is :\"\n",
    "    print x.reshape(3,2)\n",
    "    print \"\"\n",
    "\n",
    "    print \"The shape of x:\\t\", W.shape, \",\\t and the W.reshape(1,2) is :\"\n",
    "    print W.reshape(1,2)\n",
    "    print \"\"\n",
    "\n",
    "    print \"The shape of y:\\t\", y.shape, \",\\t and the y.reshape(3,3) is :\"\n",
    "    print y.reshape(3,3)\n",
    "    print \"\""
   ]
  }
 ],
 "metadata": {
  "kernelspec": {
   "display_name": "Python [Root]",
   "language": "python",
   "name": "Python [Root]"
  },
  "language_info": {
   "codemirror_mode": {
    "name": "ipython",
    "version": 2
   },
   "file_extension": ".py",
   "mimetype": "text/x-python",
   "name": "python",
   "nbconvert_exporter": "python",
   "pygments_lexer": "ipython2",
   "version": "2.7.12"
  }
 },
 "nbformat": 4,
 "nbformat_minor": 0
}
