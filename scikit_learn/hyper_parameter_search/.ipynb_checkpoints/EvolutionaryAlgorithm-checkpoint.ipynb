{
 "cells": [
  {
   "cell_type": "code",
   "execution_count": 1,
   "metadata": {
    "collapsed": true
   },
   "outputs": [],
   "source": [
    "#note datalink: https://www.kaggle.com/johnolafenwa/us-census-data"
   ]
  },
  {
   "cell_type": "markdown",
   "metadata": {},
   "source": [
    "#version:\n",
    "scikit-learn==0.19.0 #0.18 does not work for EvolutionaryAlgorithmSearchCV\n",
    "EvolutionaryAlgorithmSearchCV is in sklearn-deap"
   ]
  },
  {
   "cell_type": "code",
   "execution_count": 2,
   "metadata": {},
   "outputs": [
    {
     "name": "stderr",
     "output_type": "stream",
     "text": [
      "/home/wxk/anaconda2/envs/py3/lib/python3.6/site-packages/matplotlib/colors.py:680: MatplotlibDeprecationWarning: The is_string_like function was deprecated in version 2.1.\n",
      "  not cbook.is_string_like(colors[0]):\n",
      "/home/wxk/anaconda2/envs/py3/lib/python3.6/site-packages/statsmodels/compat/pandas.py:56: FutureWarning: The pandas.core.datetools module is deprecated and will be removed in a future version. Please use the pandas.tseries module instead.\n",
      "  from pandas.core import datetools\n"
     ]
    }
   ],
   "source": [
    "\n",
    "\n",
    "import pandas as pd\n",
    "import numpy as np\n",
    "from plotnine import *\n",
    "import matplotlib.pyplot as plt\n",
    "\n",
    "from sklearn.preprocessing import LabelEncoder\n",
    "from sklearn_pandas import DataFrameMapper\n",
    "from sklearn.tree import DecisionTreeClassifier\n",
    "from sklearn.ensemble import RandomForestClassifier"
   ]
  },
  {
   "cell_type": "code",
   "execution_count": 3,
   "metadata": {
    "collapsed": true
   },
   "outputs": [],
   "source": [
    "project_name = \"USIncome\"\n",
    "data_dir = \"/home/wxk/Data/%s\"%(project_name)\n",
    "\n",
    "training_data = data_dir+'/adult-training.csv'\n",
    "test_data = data_dir+'/adult-test.csv'\n"
   ]
  },
  {
   "cell_type": "code",
   "execution_count": 4,
   "metadata": {
    "collapsed": true
   },
   "outputs": [],
   "source": [
    "\n",
    "\n",
    "columns = ['Age','Workclass','fnlgwt','Education','EdNum','MaritalStatus',\n",
    "           'Occupation','Relationship','Race','Sex','CapitalGain','CapitalLoss',\n",
    "           'HoursPerWeek','Country','Income']\n",
    "\n",
    "df_train_set = pd.read_csv(training_data, names=columns)\n",
    "df_test_set = pd.read_csv(test_data, names=columns, skiprows=1)\n",
    "df_train_set.drop('fnlgwt', axis=1, inplace=True)\n",
    "df_test_set.drop('fnlgwt', axis=1, inplace=True)"
   ]
  },
  {
   "cell_type": "code",
   "execution_count": 5,
   "metadata": {
    "collapsed": true
   },
   "outputs": [],
   "source": [
    "#data clean\n",
    "for i in df_train_set.columns:\n",
    "    df_train_set[i].replace(' ?', 'Unknown', inplace=True)\n",
    "    df_test_set[i].replace(' ?', 'Unknown', inplace=True)\n",
    "\n",
    "for col in df_train_set.columns:\n",
    "    if df_train_set[col].dtype != 'int64':\n",
    "        df_train_set[col] = df_train_set[col].apply(lambda val: val.replace(\" \", \"\"))\n",
    "        df_train_set[col] = df_train_set[col].apply(lambda val: val.replace(\".\", \"\"))\n",
    "        df_test_set[col] = df_test_set[col].apply(lambda val: val.replace(\" \", \"\"))\n",
    "        df_test_set[col] = df_test_set[col].apply(lambda val: val.replace(\".\", \"\"))"
   ]
  },
  {
   "cell_type": "code",
   "execution_count": 6,
   "metadata": {
    "collapsed": true
   },
   "outputs": [],
   "source": [
    "df_train_set.drop([\"Country\", \"Education\"], axis=1, inplace=True)\n",
    "df_test_set.drop([\"Country\", \"Education\"], axis=1, inplace=True)\n",
    "\n",
    "colnames = list(df_train_set.columns)\n",
    "colnames.remove('Age')\n",
    "colnames.remove('EdNum')\n",
    "colnames = ['AgeGroup', 'Education'] + colnames\n",
    "\n",
    "labels = [\"{0}-{1}\".format(i, i + 9) for i in range(0, 100, 10)]\n",
    "df_train_set['AgeGroup'] = pd.cut(df_train_set.Age, range(0, 101, 10), right=False, labels=labels)\n",
    "df_test_set['AgeGroup'] = pd.cut(df_test_set.Age, range(0, 101, 10), right=False, labels=labels)\n",
    "\n",
    "labels = [\"{0}-{1}\".format(i, i + 4) for i in range(0, 20, 5)]\n",
    "df_train_set['Education'] = pd.cut(df_train_set.EdNum, range(0, 21, 5), right=False, labels=labels)\n",
    "df_test_set['Education'] = pd.cut(df_test_set.EdNum, range(0, 21, 5), right=False, labels=labels)\n",
    "\n",
    "df_train_set = df_train_set[colnames]\n",
    "df_test_set = df_test_set[colnames]"
   ]
  },
  {
   "cell_type": "code",
   "execution_count": 7,
   "metadata": {
    "collapsed": true
   },
   "outputs": [],
   "source": [
    "mapper = DataFrameMapper([\n",
    "    ('AgeGroup', LabelEncoder()),\n",
    "    ('Education', LabelEncoder()),\n",
    "    ('Workclass', LabelEncoder()),\n",
    "    ('MaritalStatus', LabelEncoder()),\n",
    "    ('Occupation', LabelEncoder()),\n",
    "    ('Relationship', LabelEncoder()),\n",
    "    ('Race', LabelEncoder()),\n",
    "    ('Sex', LabelEncoder()),\n",
    "    ('Income', LabelEncoder())\n",
    "], df_out=True, default=None)\n",
    "\n",
    "cols = list(df_train_set.columns)\n",
    "cols.remove(\"Income\")\n",
    "cols = cols[:-3] + [\"Income\"] + cols[-3:]\n",
    "\n",
    "df_train = mapper.fit_transform(df_train_set.copy())\n",
    "df_train.columns = cols\n",
    "\n",
    "df_test = mapper.transform(df_test_set.copy())\n",
    "df_test.columns = cols\n",
    "\n",
    "cols.remove(\"Income\")\n",
    "x_train, y_train = df_train[cols].values, df_train[\"Income\"].values\n",
    "x_test, y_test = df_test[cols].values, df_test[\"Income\"].values"
   ]
  },
  {
   "cell_type": "code",
   "execution_count": 8,
   "metadata": {},
   "outputs": [
    {
     "data": {
      "text/plain": [
       "0.85516860143725815"
      ]
     },
     "execution_count": 8,
     "metadata": {},
     "output_type": "execute_result"
    }
   ],
   "source": [
    "from sklearn.ensemble import AdaBoostClassifier\n",
    "aclf = AdaBoostClassifier(DecisionTreeClassifier(max_depth=5), n_estimators=100)\n",
    "aclf.fit(x_train, y_train)\n",
    "aclf.score(x_test, y_test)"
   ]
  },
  {
   "cell_type": "code",
   "execution_count": 9,
   "metadata": {
    "collapsed": true
   },
   "outputs": [],
   "source": [
    "from evolutionary_search import EvolutionaryAlgorithmSearchCV\n",
    "\n",
    "parameters = {\n",
    "     'base_estimator__max_features':(11, 9, 6),\n",
    "     'base_estimator__max_depth':(1, 2, 4, 8),\n",
    "     #'base_estimator__min_samples_split': (2, 4, 8),\n",
    "    # 'base_estimator__min_samples_leaf': (16, 12, 8, 4),\n",
    "    # 'n_estimators': (50, 100, 200, 500),\n",
    "     'learning_rate': (1, 0.1, 0.01, 10)\n",
    "}\n",
    "\n"
   ]
  },
  {
   "cell_type": "markdown",
   "metadata": {
    "collapsed": true
   },
   "source": [
    "?EvolutionaryAlgorithmSearchCV"
   ]
  },
  {
   "cell_type": "code",
   "execution_count": 10,
   "metadata": {},
   "outputs": [],
   "source": [
    "clf2 = EvolutionaryAlgorithmSearchCV(estimator=aclf,\n",
    "                                   params=parameters,\n",
    "                                   scoring=\"accuracy\",\n",
    "                                   cv=5,\n",
    "                                   verbose=1,\n",
    "                                   population_size=200,\n",
    "                                   gene_mutation_prob=0.10,\n",
    "                                   gene_crossover_prob=0.5,\n",
    "                                   tournament_size=10,\n",
    "                                   generations_number=100,\n",
    "                                   n_jobs=8)"
   ]
  },
  {
   "cell_type": "code",
   "execution_count": 11,
   "metadata": {
    "scrolled": false
   },
   "outputs": [
    {
     "name": "stdout",
     "output_type": "stream",
     "text": [
      "Types [1, 1, 1] and maxint [2, 3, 3] detected\n",
      "--- Evolve in 48 possible combinations ---\n",
      "gen\tnevals\tavg     \tmin     \tmax    \tstd     \n",
      "0  \t200   \t0.705619\t0.200086\t0.87095\t0.242905\n",
      "1  \t133   \t0.845074\t0.231289\t0.87095\t0.107344\n",
      "2  \t118   \t0.869713\t0.837659\t0.87095\t0.00505475\n",
      "3  \t115   \t0.867442\t0.231289\t0.87095\t0.0451629 \n",
      "4  \t127   \t0.870031\t0.837659\t0.871103\t0.00464587\n",
      "5  \t118   \t0.867141\t0.231289\t0.871103\t0.0452001 \n",
      "6  \t137   \t0.864148\t0.226774\t0.871103\t0.0628895 \n",
      "7  \t119   \t0.870421\t0.84202 \t0.871472\t0.00244005\n",
      "8  \t128   \t0.866997\t0.307853\t0.871472\t0.0401297 \n",
      "9  \t103   \t0.867262\t0.239028\t0.871472\t0.0446504 \n",
      "10 \t117   \t0.866601\t0.224778\t0.871472\t0.0457361 \n",
      "11 \t127   \t0.870271\t0.840085\t0.871472\t0.00332722\n",
      "12 \t119   \t0.867516\t0.315777\t0.871472\t0.0393138 \n",
      "13 \t133   \t0.866833\t0.229231\t0.871472\t0.0453344 \n"
     ]
    },
    {
     "name": "stderr",
     "output_type": "stream",
     "text": [
      "Process ForkPoolWorker-3:\n",
      "Process ForkPoolWorker-6:\n",
      "Process ForkPoolWorker-8:\n",
      "Process ForkPoolWorker-1:\n",
      "Process ForkPoolWorker-4:\n",
      "Process ForkPoolWorker-5:\n",
      "Process ForkPoolWorker-7:\n",
      "Process ForkPoolWorker-2:\n",
      "Traceback (most recent call last):\n",
      "Traceback (most recent call last):\n",
      "Traceback (most recent call last):\n",
      "Traceback (most recent call last):\n",
      "Traceback (most recent call last):\n",
      "  File \"/home/wxk/anaconda2/envs/py3/lib/python3.6/multiprocessing/process.py\", line 249, in _bootstrap\n",
      "    self.run()\n",
      "  File \"/home/wxk/anaconda2/envs/py3/lib/python3.6/multiprocessing/process.py\", line 249, in _bootstrap\n",
      "    self.run()\n",
      "  File \"/home/wxk/anaconda2/envs/py3/lib/python3.6/multiprocessing/process.py\", line 93, in run\n",
      "    self._target(*self._args, **self._kwargs)\n",
      "  File \"/home/wxk/anaconda2/envs/py3/lib/python3.6/multiprocessing/process.py\", line 249, in _bootstrap\n",
      "    self.run()\n",
      "  File \"/home/wxk/anaconda2/envs/py3/lib/python3.6/multiprocessing/process.py\", line 93, in run\n",
      "    self._target(*self._args, **self._kwargs)\n",
      "  File \"/home/wxk/anaconda2/envs/py3/lib/python3.6/multiprocessing/process.py\", line 249, in _bootstrap\n",
      "    self.run()\n",
      "  File \"/home/wxk/anaconda2/envs/py3/lib/python3.6/multiprocessing/process.py\", line 249, in _bootstrap\n",
      "    self.run()\n",
      "  File \"/home/wxk/anaconda2/envs/py3/lib/python3.6/multiprocessing/pool.py\", line 119, in worker\n",
      "    result = (True, func(*args, **kwds))\n",
      "  File \"/home/wxk/anaconda2/envs/py3/lib/python3.6/multiprocessing/process.py\", line 93, in run\n",
      "    self._target(*self._args, **self._kwargs)\n",
      "  File \"/home/wxk/anaconda2/envs/py3/lib/python3.6/multiprocessing/pool.py\", line 44, in mapstar\n",
      "    return list(map(*args))\n",
      "  File \"/home/wxk/anaconda2/envs/py3/lib/python3.6/multiprocessing/pool.py\", line 119, in worker\n",
      "    result = (True, func(*args, **kwds))\n",
      "  File \"/home/wxk/anaconda2/envs/py3/lib/python3.6/multiprocessing/pool.py\", line 119, in worker\n",
      "    result = (True, func(*args, **kwds))\n",
      "  File \"/home/wxk/anaconda2/envs/py3/lib/python3.6/site-packages/evolutionary_search/cv.py\", line 104, in _evalFunction\n",
      "    error_score=error_score)[0]\n",
      "  File \"/home/wxk/anaconda2/envs/py3/lib/python3.6/multiprocessing/process.py\", line 93, in run\n",
      "    self._target(*self._args, **self._kwargs)\n",
      "  File \"/home/wxk/anaconda2/envs/py3/lib/python3.6/multiprocessing/process.py\", line 93, in run\n",
      "    self._target(*self._args, **self._kwargs)\n",
      "  File \"/home/wxk/anaconda2/envs/py3/lib/python3.6/multiprocessing/pool.py\", line 44, in mapstar\n",
      "    return list(map(*args))\n",
      "  File \"/home/wxk/anaconda2/envs/py3/lib/python3.6/site-packages/sklearn/model_selection/_validation.py\", line 437, in _fit_and_score\n",
      "    estimator.fit(X_train, y_train, **fit_params)\n",
      "  File \"/home/wxk/anaconda2/envs/py3/lib/python3.6/multiprocessing/pool.py\", line 44, in mapstar\n",
      "    return list(map(*args))\n",
      "  File \"/home/wxk/anaconda2/envs/py3/lib/python3.6/multiprocessing/pool.py\", line 119, in worker\n",
      "    result = (True, func(*args, **kwds))\n",
      "  File \"/home/wxk/anaconda2/envs/py3/lib/python3.6/multiprocessing/pool.py\", line 119, in worker\n",
      "    result = (True, func(*args, **kwds))\n",
      "  File \"/home/wxk/anaconda2/envs/py3/lib/python3.6/site-packages/evolutionary_search/cv.py\", line 104, in _evalFunction\n",
      "    error_score=error_score)[0]\n",
      "Traceback (most recent call last):\n",
      "  File \"/home/wxk/anaconda2/envs/py3/lib/python3.6/multiprocessing/pool.py\", line 44, in mapstar\n",
      "    return list(map(*args))\n",
      "  File \"/home/wxk/anaconda2/envs/py3/lib/python3.6/site-packages/evolutionary_search/cv.py\", line 104, in _evalFunction\n",
      "    error_score=error_score)[0]\n",
      "  File \"/home/wxk/anaconda2/envs/py3/lib/python3.6/multiprocessing/process.py\", line 249, in _bootstrap\n",
      "    self.run()\n",
      "  File \"/home/wxk/anaconda2/envs/py3/lib/python3.6/site-packages/sklearn/model_selection/_validation.py\", line 437, in _fit_and_score\n",
      "    estimator.fit(X_train, y_train, **fit_params)\n",
      "  File \"/home/wxk/anaconda2/envs/py3/lib/python3.6/site-packages/sklearn/model_selection/_validation.py\", line 437, in _fit_and_score\n",
      "    estimator.fit(X_train, y_train, **fit_params)\n",
      "  File \"/home/wxk/anaconda2/envs/py3/lib/python3.6/site-packages/sklearn/ensemble/weight_boosting.py\", line 413, in fit\n",
      "    return super(AdaBoostClassifier, self).fit(X, y, sample_weight)\n",
      "  File \"/home/wxk/anaconda2/envs/py3/lib/python3.6/site-packages/evolutionary_search/cv.py\", line 104, in _evalFunction\n",
      "    error_score=error_score)[0]\n",
      "  File \"/home/wxk/anaconda2/envs/py3/lib/python3.6/multiprocessing/process.py\", line 93, in run\n",
      "    self._target(*self._args, **self._kwargs)\n",
      "  File \"/home/wxk/anaconda2/envs/py3/lib/python3.6/site-packages/sklearn/ensemble/weight_boosting.py\", line 413, in fit\n",
      "    return super(AdaBoostClassifier, self).fit(X, y, sample_weight)\n",
      "  File \"/home/wxk/anaconda2/envs/py3/lib/python3.6/site-packages/sklearn/ensemble/weight_boosting.py\", line 413, in fit\n",
      "    return super(AdaBoostClassifier, self).fit(X, y, sample_weight)\n",
      "  File \"/home/wxk/anaconda2/envs/py3/lib/python3.6/site-packages/sklearn/ensemble/weight_boosting.py\", line 145, in fit\n",
      "    random_state)\n",
      "  File \"/home/wxk/anaconda2/envs/py3/lib/python3.6/multiprocessing/pool.py\", line 44, in mapstar\n",
      "    return list(map(*args))\n",
      "  File \"/home/wxk/anaconda2/envs/py3/lib/python3.6/multiprocessing/pool.py\", line 119, in worker\n",
      "    result = (True, func(*args, **kwds))\n",
      "  File \"/home/wxk/anaconda2/envs/py3/lib/python3.6/site-packages/sklearn/ensemble/weight_boosting.py\", line 145, in fit\n",
      "    random_state)\n",
      "  File \"/home/wxk/anaconda2/envs/py3/lib/python3.6/site-packages/sklearn/ensemble/weight_boosting.py\", line 473, in _boost\n",
      "    return self._boost_real(iboost, X, y, sample_weight, random_state)\n",
      "  File \"/home/wxk/anaconda2/envs/py3/lib/python3.6/site-packages/sklearn/ensemble/weight_boosting.py\", line 483, in _boost_real\n",
      "    estimator.fit(X, y, sample_weight=sample_weight)\n",
      "  File \"/home/wxk/anaconda2/envs/py3/lib/python3.6/multiprocessing/pool.py\", line 44, in mapstar\n",
      "    return list(map(*args))\n",
      "  File \"/home/wxk/anaconda2/envs/py3/lib/python3.6/site-packages/sklearn/ensemble/weight_boosting.py\", line 473, in _boost\n",
      "    return self._boost_real(iboost, X, y, sample_weight, random_state)\n",
      "  File \"/home/wxk/anaconda2/envs/py3/lib/python3.6/site-packages/sklearn/ensemble/weight_boosting.py\", line 483, in _boost_real\n",
      "    estimator.fit(X, y, sample_weight=sample_weight)\n",
      "  File \"/home/wxk/anaconda2/envs/py3/lib/python3.6/site-packages/sklearn/tree/tree.py\", line 790, in fit\n",
      "    X_idx_sorted=X_idx_sorted)\n",
      "  File \"/home/wxk/anaconda2/envs/py3/lib/python3.6/site-packages/sklearn/model_selection/_validation.py\", line 437, in _fit_and_score\n",
      "    estimator.fit(X_train, y_train, **fit_params)\n",
      "  File \"/home/wxk/anaconda2/envs/py3/lib/python3.6/site-packages/sklearn/ensemble/weight_boosting.py\", line 145, in fit\n",
      "    random_state)\n",
      "  File \"/home/wxk/anaconda2/envs/py3/lib/python3.6/site-packages/evolutionary_search/cv.py\", line 104, in _evalFunction\n",
      "    error_score=error_score)[0]\n",
      "  File \"/home/wxk/anaconda2/envs/py3/lib/python3.6/site-packages/evolutionary_search/cv.py\", line 104, in _evalFunction\n",
      "    error_score=error_score)[0]\n",
      "  File \"/home/wxk/anaconda2/envs/py3/lib/python3.6/site-packages/sklearn/tree/tree.py\", line 790, in fit\n",
      "    X_idx_sorted=X_idx_sorted)\n",
      "  File \"/home/wxk/anaconda2/envs/py3/lib/python3.6/site-packages/sklearn/ensemble/weight_boosting.py\", line 413, in fit\n",
      "    return super(AdaBoostClassifier, self).fit(X, y, sample_weight)\n",
      "  File \"/home/wxk/anaconda2/envs/py3/lib/python3.6/site-packages/sklearn/model_selection/_validation.py\", line 437, in _fit_and_score\n",
      "    estimator.fit(X_train, y_train, **fit_params)\n",
      "  File \"/home/wxk/anaconda2/envs/py3/lib/python3.6/site-packages/sklearn/tree/tree.py\", line 362, in fit\n",
      "    builder.build(self.tree_, X, y, sample_weight, X_idx_sorted)\n",
      "  File \"/home/wxk/anaconda2/envs/py3/lib/python3.6/site-packages/sklearn/ensemble/weight_boosting.py\", line 473, in _boost\n",
      "    return self._boost_real(iboost, X, y, sample_weight, random_state)\n",
      "  File \"/home/wxk/anaconda2/envs/py3/lib/python3.6/site-packages/sklearn/ensemble/weight_boosting.py\", line 145, in fit\n",
      "    random_state)\n",
      "  File \"/home/wxk/anaconda2/envs/py3/lib/python3.6/site-packages/sklearn/tree/tree.py\", line 362, in fit\n",
      "    builder.build(self.tree_, X, y, sample_weight, X_idx_sorted)\n"
     ]
    },
    {
     "name": "stderr",
     "output_type": "stream",
     "text": [
      "  File \"/home/wxk/anaconda2/envs/py3/lib/python3.6/site-packages/sklearn/model_selection/_validation.py\", line 437, in _fit_and_score\n",
      "    estimator.fit(X_train, y_train, **fit_params)\n",
      "  File \"/home/wxk/anaconda2/envs/py3/lib/python3.6/site-packages/sklearn/ensemble/weight_boosting.py\", line 473, in _boost\n",
      "    return self._boost_real(iboost, X, y, sample_weight, random_state)\n",
      "  File \"/home/wxk/anaconda2/envs/py3/lib/python3.6/site-packages/sklearn/ensemble/weight_boosting.py\", line 483, in _boost_real\n",
      "    estimator.fit(X, y, sample_weight=sample_weight)\n",
      "KeyboardInterrupt\n",
      "  File \"/home/wxk/anaconda2/envs/py3/lib/python3.6/site-packages/sklearn/ensemble/weight_boosting.py\", line 413, in fit\n",
      "    return super(AdaBoostClassifier, self).fit(X, y, sample_weight)\n",
      "  File \"/home/wxk/anaconda2/envs/py3/lib/python3.6/site-packages/sklearn/ensemble/weight_boosting.py\", line 413, in fit\n",
      "    return super(AdaBoostClassifier, self).fit(X, y, sample_weight)\n",
      "  File \"/home/wxk/anaconda2/envs/py3/lib/python3.6/site-packages/sklearn/tree/tree.py\", line 790, in fit\n",
      "    X_idx_sorted=X_idx_sorted)\n",
      "  File \"/home/wxk/anaconda2/envs/py3/lib/python3.6/site-packages/sklearn/ensemble/weight_boosting.py\", line 533, in _boost_real\n",
      "    (estimator_weight < 0)))\n",
      "  File \"/home/wxk/anaconda2/envs/py3/lib/python3.6/site-packages/sklearn/ensemble/weight_boosting.py\", line 145, in fit\n",
      "    random_state)\n",
      "KeyboardInterrupt\n",
      "  File \"/home/wxk/anaconda2/envs/py3/lib/python3.6/site-packages/sklearn/ensemble/weight_boosting.py\", line 473, in _boost\n",
      "    return self._boost_real(iboost, X, y, sample_weight, random_state)\n",
      "  File \"/home/wxk/anaconda2/envs/py3/lib/python3.6/site-packages/sklearn/tree/tree.py\", line 362, in fit\n",
      "    builder.build(self.tree_, X, y, sample_weight, X_idx_sorted)\n",
      "  File \"/home/wxk/anaconda2/envs/py3/lib/python3.6/site-packages/sklearn/ensemble/weight_boosting.py\", line 485, in _boost_real\n",
      "    y_predict_proba = estimator.predict_proba(X)\n",
      "KeyboardInterrupt\n",
      "  File \"/home/wxk/anaconda2/envs/py3/lib/python3.6/site-packages/sklearn/ensemble/weight_boosting.py\", line 145, in fit\n",
      "    random_state)\n",
      "Traceback (most recent call last):\n",
      "  File \"/home/wxk/anaconda2/envs/py3/lib/python3.6/site-packages/sklearn/ensemble/weight_boosting.py\", line 473, in _boost\n",
      "    return self._boost_real(iboost, X, y, sample_weight, random_state)\n",
      "KeyboardInterrupt\n",
      "  File \"/home/wxk/anaconda2/envs/py3/lib/python3.6/site-packages/sklearn/tree/tree.py\", line 822, in predict_proba\n",
      "    proba = self.tree_.predict(X)\n",
      "  File \"/home/wxk/anaconda2/envs/py3/lib/python3.6/multiprocessing/process.py\", line 249, in _bootstrap\n",
      "    self.run()\n",
      "KeyboardInterrupt\n",
      "  File \"/home/wxk/anaconda2/envs/py3/lib/python3.6/multiprocessing/process.py\", line 93, in run\n",
      "    self._target(*self._args, **self._kwargs)\n",
      "  File \"/home/wxk/anaconda2/envs/py3/lib/python3.6/multiprocessing/pool.py\", line 119, in worker\n",
      "    result = (True, func(*args, **kwds))\n",
      "  File \"/home/wxk/anaconda2/envs/py3/lib/python3.6/multiprocessing/pool.py\", line 44, in mapstar\n",
      "    return list(map(*args))\n",
      "  File \"/home/wxk/anaconda2/envs/py3/lib/python3.6/site-packages/evolutionary_search/cv.py\", line 104, in _evalFunction\n",
      "    error_score=error_score)[0]\n",
      "  File \"/home/wxk/anaconda2/envs/py3/lib/python3.6/site-packages/sklearn/model_selection/_validation.py\", line 437, in _fit_and_score\n",
      "    estimator.fit(X_train, y_train, **fit_params)\n",
      "  File \"/home/wxk/anaconda2/envs/py3/lib/python3.6/site-packages/sklearn/ensemble/weight_boosting.py\", line 413, in fit\n",
      "    return super(AdaBoostClassifier, self).fit(X, y, sample_weight)\n",
      "  File \"/home/wxk/anaconda2/envs/py3/lib/python3.6/site-packages/sklearn/ensemble/weight_boosting.py\", line 145, in fit\n",
      "    random_state)\n",
      "  File \"/home/wxk/anaconda2/envs/py3/lib/python3.6/site-packages/sklearn/ensemble/weight_boosting.py\", line 473, in _boost\n",
      "    return self._boost_real(iboost, X, y, sample_weight, random_state)\n",
      "  File \"/home/wxk/anaconda2/envs/py3/lib/python3.6/site-packages/sklearn/ensemble/weight_boosting.py\", line 483, in _boost_real\n",
      "    estimator.fit(X, y, sample_weight=sample_weight)\n",
      "Traceback (most recent call last):\n",
      "  File \"/home/wxk/anaconda2/envs/py3/lib/python3.6/site-packages/sklearn/tree/tree.py\", line 790, in fit\n",
      "    X_idx_sorted=X_idx_sorted)\n",
      "  File \"/home/wxk/anaconda2/envs/py3/lib/python3.6/site-packages/sklearn/ensemble/weight_boosting.py\", line 483, in _boost_real\n",
      "    estimator.fit(X, y, sample_weight=sample_weight)\n",
      "  File \"/home/wxk/anaconda2/envs/py3/lib/python3.6/site-packages/sklearn/tree/tree.py\", line 141, in fit\n",
      "    y = np.copy(y)\n",
      "  File \"/home/wxk/anaconda2/envs/py3/lib/python3.6/multiprocessing/process.py\", line 249, in _bootstrap\n",
      "    self.run()\n",
      "  File \"/home/wxk/anaconda2/envs/py3/lib/python3.6/site-packages/sklearn/tree/tree.py\", line 790, in fit\n",
      "    X_idx_sorted=X_idx_sorted)\n",
      "  File \"/home/wxk/anaconda2/envs/py3/lib/python3.6/multiprocessing/process.py\", line 93, in run\n",
      "    self._target(*self._args, **self._kwargs)\n",
      "  File \"/home/wxk/anaconda2/envs/py3/lib/python3.6/site-packages/sklearn/tree/tree.py\", line 362, in fit\n",
      "    builder.build(self.tree_, X, y, sample_weight, X_idx_sorted)\n",
      "  File \"/home/wxk/anaconda2/envs/py3/lib/python3.6/multiprocessing/pool.py\", line 119, in worker\n",
      "    result = (True, func(*args, **kwds))\n",
      "  File \"/home/wxk/anaconda2/envs/py3/lib/python3.6/multiprocessing/pool.py\", line 44, in mapstar\n",
      "    return list(map(*args))\n",
      "KeyboardInterrupt\n",
      "  File \"/home/wxk/anaconda2/envs/py3/lib/python3.6/site-packages/evolutionary_search/cv.py\", line 104, in _evalFunction\n",
      "    error_score=error_score)[0]\n",
      "  File \"/home/wxk/anaconda2/envs/py3/lib/python3.6/site-packages/sklearn/model_selection/_validation.py\", line 437, in _fit_and_score\n",
      "    estimator.fit(X_train, y_train, **fit_params)\n",
      "  File \"/home/wxk/anaconda2/envs/py3/lib/python3.6/site-packages/numpy/lib/function_base.py\", line 1497, in copy\n",
      "    return array(a, order=order, copy=True)\n",
      "  File \"/home/wxk/anaconda2/envs/py3/lib/python3.6/site-packages/sklearn/ensemble/weight_boosting.py\", line 413, in fit\n",
      "    return super(AdaBoostClassifier, self).fit(X, y, sample_weight)\n",
      "KeyboardInterrupt\n",
      "  File \"/home/wxk/anaconda2/envs/py3/lib/python3.6/site-packages/sklearn/ensemble/weight_boosting.py\", line 158, in fit\n",
      "    sample_weight_sum = np.sum(sample_weight)\n",
      "  File \"/home/wxk/anaconda2/envs/py3/lib/python3.6/site-packages/numpy/core/fromnumeric.py\", line 1814, in sum\n",
      "    out=out, **kwargs)\n",
      "  File \"/home/wxk/anaconda2/envs/py3/lib/python3.6/site-packages/numpy/core/_methods.py\", line 32, in _sum\n",
      "    return umr_sum(a, axis, dtype, out, keepdims)\n",
      "KeyboardInterrupt\n"
     ]
    },
    {
     "ename": "KeyboardInterrupt",
     "evalue": "",
     "output_type": "error",
     "traceback": [
      "\u001b[0;31m---------------------------------------------------------------------------\u001b[0m",
      "\u001b[0;31mKeyboardInterrupt\u001b[0m                         Traceback (most recent call last)",
      "\u001b[0;32m<ipython-input-11-1b630ab1c42e>\u001b[0m in \u001b[0;36m<module>\u001b[0;34m()\u001b[0m\n\u001b[0;32m----> 1\u001b[0;31m \u001b[0mclf2\u001b[0m\u001b[0;34m.\u001b[0m\u001b[0mfit\u001b[0m\u001b[0;34m(\u001b[0m\u001b[0mx_train\u001b[0m\u001b[0;34m,\u001b[0m \u001b[0my_train\u001b[0m\u001b[0;34m)\u001b[0m\u001b[0;34m\u001b[0m\u001b[0m\n\u001b[0m",
      "\u001b[0;32m/home/wxk/anaconda2/envs/py3/lib/python3.6/site-packages/evolutionary_search/cv.py\u001b[0m in \u001b[0;36mfit\u001b[0;34m(self, X, y)\u001b[0m\n\u001b[1;32m    354\u001b[0m         \u001b[0;32mfor\u001b[0m \u001b[0mpossible_params\u001b[0m \u001b[0;32min\u001b[0m \u001b[0mself\u001b[0m\u001b[0;34m.\u001b[0m\u001b[0mpossible_params\u001b[0m\u001b[0;34m:\u001b[0m\u001b[0;34m\u001b[0m\u001b[0m\n\u001b[1;32m    355\u001b[0m             \u001b[0m_check_param_grid\u001b[0m\u001b[0;34m(\u001b[0m\u001b[0mpossible_params\u001b[0m\u001b[0;34m)\u001b[0m\u001b[0;34m\u001b[0m\u001b[0m\n\u001b[0;32m--> 356\u001b[0;31m             \u001b[0mself\u001b[0m\u001b[0;34m.\u001b[0m\u001b[0m_fit\u001b[0m\u001b[0;34m(\u001b[0m\u001b[0mX\u001b[0m\u001b[0;34m,\u001b[0m \u001b[0my\u001b[0m\u001b[0;34m,\u001b[0m \u001b[0mpossible_params\u001b[0m\u001b[0;34m)\u001b[0m\u001b[0;34m\u001b[0m\u001b[0m\n\u001b[0m\u001b[1;32m    357\u001b[0m         \u001b[0;32mif\u001b[0m \u001b[0mself\u001b[0m\u001b[0;34m.\u001b[0m\u001b[0mrefit\u001b[0m\u001b[0;34m:\u001b[0m\u001b[0;34m\u001b[0m\u001b[0m\n\u001b[1;32m    358\u001b[0m             \u001b[0mself\u001b[0m\u001b[0;34m.\u001b[0m\u001b[0mbest_estimator_\u001b[0m \u001b[0;34m=\u001b[0m \u001b[0mclone\u001b[0m\u001b[0;34m(\u001b[0m\u001b[0mself\u001b[0m\u001b[0;34m.\u001b[0m\u001b[0mestimator\u001b[0m\u001b[0;34m)\u001b[0m\u001b[0;34m\u001b[0m\u001b[0m\n",
      "\u001b[0;32m/home/wxk/anaconda2/envs/py3/lib/python3.6/site-packages/evolutionary_search/cv.py\u001b[0m in \u001b[0;36m_fit\u001b[0;34m(self, X, y, parameter_dict)\u001b[0m\n\u001b[1;32m    444\u001b[0m         pop, logbook = algorithms.eaSimple(pop, toolbox, cxpb=0.5, mutpb=0.2,\n\u001b[1;32m    445\u001b[0m                                            \u001b[0mngen\u001b[0m\u001b[0;34m=\u001b[0m\u001b[0mself\u001b[0m\u001b[0;34m.\u001b[0m\u001b[0mgenerations_number\u001b[0m\u001b[0;34m,\u001b[0m \u001b[0mstats\u001b[0m\u001b[0;34m=\u001b[0m\u001b[0mstats\u001b[0m\u001b[0;34m,\u001b[0m\u001b[0;34m\u001b[0m\u001b[0m\n\u001b[0;32m--> 446\u001b[0;31m                                            halloffame=hof, verbose=self.verbose)\n\u001b[0m\u001b[1;32m    447\u001b[0m \u001b[0;34m\u001b[0m\u001b[0m\n\u001b[1;32m    448\u001b[0m         \u001b[0;31m# Save History\u001b[0m\u001b[0;34m\u001b[0m\u001b[0;34m\u001b[0m\u001b[0m\n",
      "\u001b[0;32m/home/wxk/anaconda2/envs/py3/lib/python3.6/site-packages/deap/algorithms.py\u001b[0m in \u001b[0;36meaSimple\u001b[0;34m(population, toolbox, cxpb, mutpb, ngen, stats, halloffame, verbose)\u001b[0m\n\u001b[1;32m    170\u001b[0m         \u001b[0;31m# Evaluate the individuals with an invalid fitness\u001b[0m\u001b[0;34m\u001b[0m\u001b[0;34m\u001b[0m\u001b[0m\n\u001b[1;32m    171\u001b[0m         \u001b[0minvalid_ind\u001b[0m \u001b[0;34m=\u001b[0m \u001b[0;34m[\u001b[0m\u001b[0mind\u001b[0m \u001b[0;32mfor\u001b[0m \u001b[0mind\u001b[0m \u001b[0;32min\u001b[0m \u001b[0moffspring\u001b[0m \u001b[0;32mif\u001b[0m \u001b[0;32mnot\u001b[0m \u001b[0mind\u001b[0m\u001b[0;34m.\u001b[0m\u001b[0mfitness\u001b[0m\u001b[0;34m.\u001b[0m\u001b[0mvalid\u001b[0m\u001b[0;34m]\u001b[0m\u001b[0;34m\u001b[0m\u001b[0m\n\u001b[0;32m--> 172\u001b[0;31m         \u001b[0mfitnesses\u001b[0m \u001b[0;34m=\u001b[0m \u001b[0mtoolbox\u001b[0m\u001b[0;34m.\u001b[0m\u001b[0mmap\u001b[0m\u001b[0;34m(\u001b[0m\u001b[0mtoolbox\u001b[0m\u001b[0;34m.\u001b[0m\u001b[0mevaluate\u001b[0m\u001b[0;34m,\u001b[0m \u001b[0minvalid_ind\u001b[0m\u001b[0;34m)\u001b[0m\u001b[0;34m\u001b[0m\u001b[0m\n\u001b[0m\u001b[1;32m    173\u001b[0m         \u001b[0;32mfor\u001b[0m \u001b[0mind\u001b[0m\u001b[0;34m,\u001b[0m \u001b[0mfit\u001b[0m \u001b[0;32min\u001b[0m \u001b[0mzip\u001b[0m\u001b[0;34m(\u001b[0m\u001b[0minvalid_ind\u001b[0m\u001b[0;34m,\u001b[0m \u001b[0mfitnesses\u001b[0m\u001b[0;34m)\u001b[0m\u001b[0;34m:\u001b[0m\u001b[0;34m\u001b[0m\u001b[0m\n\u001b[1;32m    174\u001b[0m             \u001b[0mind\u001b[0m\u001b[0;34m.\u001b[0m\u001b[0mfitness\u001b[0m\u001b[0;34m.\u001b[0m\u001b[0mvalues\u001b[0m \u001b[0;34m=\u001b[0m \u001b[0mfit\u001b[0m\u001b[0;34m\u001b[0m\u001b[0m\n",
      "\u001b[0;32m/home/wxk/anaconda2/envs/py3/lib/python3.6/multiprocessing/pool.py\u001b[0m in \u001b[0;36mmap\u001b[0;34m(self, func, iterable, chunksize)\u001b[0m\n\u001b[1;32m    258\u001b[0m         \u001b[0;32min\u001b[0m \u001b[0ma\u001b[0m \u001b[0mlist\u001b[0m \u001b[0mthat\u001b[0m \u001b[0;32mis\u001b[0m \u001b[0mreturned\u001b[0m\u001b[0;34m.\u001b[0m\u001b[0;34m\u001b[0m\u001b[0m\n\u001b[1;32m    259\u001b[0m         '''\n\u001b[0;32m--> 260\u001b[0;31m         \u001b[0;32mreturn\u001b[0m \u001b[0mself\u001b[0m\u001b[0;34m.\u001b[0m\u001b[0m_map_async\u001b[0m\u001b[0;34m(\u001b[0m\u001b[0mfunc\u001b[0m\u001b[0;34m,\u001b[0m \u001b[0miterable\u001b[0m\u001b[0;34m,\u001b[0m \u001b[0mmapstar\u001b[0m\u001b[0;34m,\u001b[0m \u001b[0mchunksize\u001b[0m\u001b[0;34m)\u001b[0m\u001b[0;34m.\u001b[0m\u001b[0mget\u001b[0m\u001b[0;34m(\u001b[0m\u001b[0;34m)\u001b[0m\u001b[0;34m\u001b[0m\u001b[0m\n\u001b[0m\u001b[1;32m    261\u001b[0m \u001b[0;34m\u001b[0m\u001b[0m\n\u001b[1;32m    262\u001b[0m     \u001b[0;32mdef\u001b[0m \u001b[0mstarmap\u001b[0m\u001b[0;34m(\u001b[0m\u001b[0mself\u001b[0m\u001b[0;34m,\u001b[0m \u001b[0mfunc\u001b[0m\u001b[0;34m,\u001b[0m \u001b[0miterable\u001b[0m\u001b[0;34m,\u001b[0m \u001b[0mchunksize\u001b[0m\u001b[0;34m=\u001b[0m\u001b[0;32mNone\u001b[0m\u001b[0;34m)\u001b[0m\u001b[0;34m:\u001b[0m\u001b[0;34m\u001b[0m\u001b[0m\n",
      "\u001b[0;32m/home/wxk/anaconda2/envs/py3/lib/python3.6/multiprocessing/pool.py\u001b[0m in \u001b[0;36mget\u001b[0;34m(self, timeout)\u001b[0m\n\u001b[1;32m    600\u001b[0m \u001b[0;34m\u001b[0m\u001b[0m\n\u001b[1;32m    601\u001b[0m     \u001b[0;32mdef\u001b[0m \u001b[0mget\u001b[0m\u001b[0;34m(\u001b[0m\u001b[0mself\u001b[0m\u001b[0;34m,\u001b[0m \u001b[0mtimeout\u001b[0m\u001b[0;34m=\u001b[0m\u001b[0;32mNone\u001b[0m\u001b[0;34m)\u001b[0m\u001b[0;34m:\u001b[0m\u001b[0;34m\u001b[0m\u001b[0m\n\u001b[0;32m--> 602\u001b[0;31m         \u001b[0mself\u001b[0m\u001b[0;34m.\u001b[0m\u001b[0mwait\u001b[0m\u001b[0;34m(\u001b[0m\u001b[0mtimeout\u001b[0m\u001b[0;34m)\u001b[0m\u001b[0;34m\u001b[0m\u001b[0m\n\u001b[0m\u001b[1;32m    603\u001b[0m         \u001b[0;32mif\u001b[0m \u001b[0;32mnot\u001b[0m \u001b[0mself\u001b[0m\u001b[0;34m.\u001b[0m\u001b[0mready\u001b[0m\u001b[0;34m(\u001b[0m\u001b[0;34m)\u001b[0m\u001b[0;34m:\u001b[0m\u001b[0;34m\u001b[0m\u001b[0m\n\u001b[1;32m    604\u001b[0m             \u001b[0;32mraise\u001b[0m \u001b[0mTimeoutError\u001b[0m\u001b[0;34m\u001b[0m\u001b[0m\n",
      "\u001b[0;32m/home/wxk/anaconda2/envs/py3/lib/python3.6/multiprocessing/pool.py\u001b[0m in \u001b[0;36mwait\u001b[0;34m(self, timeout)\u001b[0m\n\u001b[1;32m    597\u001b[0m \u001b[0;34m\u001b[0m\u001b[0m\n\u001b[1;32m    598\u001b[0m     \u001b[0;32mdef\u001b[0m \u001b[0mwait\u001b[0m\u001b[0;34m(\u001b[0m\u001b[0mself\u001b[0m\u001b[0;34m,\u001b[0m \u001b[0mtimeout\u001b[0m\u001b[0;34m=\u001b[0m\u001b[0;32mNone\u001b[0m\u001b[0;34m)\u001b[0m\u001b[0;34m:\u001b[0m\u001b[0;34m\u001b[0m\u001b[0m\n\u001b[0;32m--> 599\u001b[0;31m         \u001b[0mself\u001b[0m\u001b[0;34m.\u001b[0m\u001b[0m_event\u001b[0m\u001b[0;34m.\u001b[0m\u001b[0mwait\u001b[0m\u001b[0;34m(\u001b[0m\u001b[0mtimeout\u001b[0m\u001b[0;34m)\u001b[0m\u001b[0;34m\u001b[0m\u001b[0m\n\u001b[0m\u001b[1;32m    600\u001b[0m \u001b[0;34m\u001b[0m\u001b[0m\n\u001b[1;32m    601\u001b[0m     \u001b[0;32mdef\u001b[0m \u001b[0mget\u001b[0m\u001b[0;34m(\u001b[0m\u001b[0mself\u001b[0m\u001b[0;34m,\u001b[0m \u001b[0mtimeout\u001b[0m\u001b[0;34m=\u001b[0m\u001b[0;32mNone\u001b[0m\u001b[0;34m)\u001b[0m\u001b[0;34m:\u001b[0m\u001b[0;34m\u001b[0m\u001b[0m\n",
      "\u001b[0;32m/home/wxk/anaconda2/envs/py3/lib/python3.6/threading.py\u001b[0m in \u001b[0;36mwait\u001b[0;34m(self, timeout)\u001b[0m\n\u001b[1;32m    549\u001b[0m             \u001b[0msignaled\u001b[0m \u001b[0;34m=\u001b[0m \u001b[0mself\u001b[0m\u001b[0;34m.\u001b[0m\u001b[0m_flag\u001b[0m\u001b[0;34m\u001b[0m\u001b[0m\n\u001b[1;32m    550\u001b[0m             \u001b[0;32mif\u001b[0m \u001b[0;32mnot\u001b[0m \u001b[0msignaled\u001b[0m\u001b[0;34m:\u001b[0m\u001b[0;34m\u001b[0m\u001b[0m\n\u001b[0;32m--> 551\u001b[0;31m                 \u001b[0msignaled\u001b[0m \u001b[0;34m=\u001b[0m \u001b[0mself\u001b[0m\u001b[0;34m.\u001b[0m\u001b[0m_cond\u001b[0m\u001b[0;34m.\u001b[0m\u001b[0mwait\u001b[0m\u001b[0;34m(\u001b[0m\u001b[0mtimeout\u001b[0m\u001b[0;34m)\u001b[0m\u001b[0;34m\u001b[0m\u001b[0m\n\u001b[0m\u001b[1;32m    552\u001b[0m             \u001b[0;32mreturn\u001b[0m \u001b[0msignaled\u001b[0m\u001b[0;34m\u001b[0m\u001b[0m\n\u001b[1;32m    553\u001b[0m \u001b[0;34m\u001b[0m\u001b[0m\n",
      "\u001b[0;32m/home/wxk/anaconda2/envs/py3/lib/python3.6/threading.py\u001b[0m in \u001b[0;36mwait\u001b[0;34m(self, timeout)\u001b[0m\n\u001b[1;32m    293\u001b[0m         \u001b[0;32mtry\u001b[0m\u001b[0;34m:\u001b[0m    \u001b[0;31m# restore state no matter what (e.g., KeyboardInterrupt)\u001b[0m\u001b[0;34m\u001b[0m\u001b[0m\n\u001b[1;32m    294\u001b[0m             \u001b[0;32mif\u001b[0m \u001b[0mtimeout\u001b[0m \u001b[0;32mis\u001b[0m \u001b[0;32mNone\u001b[0m\u001b[0;34m:\u001b[0m\u001b[0;34m\u001b[0m\u001b[0m\n\u001b[0;32m--> 295\u001b[0;31m                 \u001b[0mwaiter\u001b[0m\u001b[0;34m.\u001b[0m\u001b[0macquire\u001b[0m\u001b[0;34m(\u001b[0m\u001b[0;34m)\u001b[0m\u001b[0;34m\u001b[0m\u001b[0m\n\u001b[0m\u001b[1;32m    296\u001b[0m                 \u001b[0mgotit\u001b[0m \u001b[0;34m=\u001b[0m \u001b[0;32mTrue\u001b[0m\u001b[0;34m\u001b[0m\u001b[0m\n\u001b[1;32m    297\u001b[0m             \u001b[0;32melse\u001b[0m\u001b[0;34m:\u001b[0m\u001b[0;34m\u001b[0m\u001b[0m\n",
      "\u001b[0;31mKeyboardInterrupt\u001b[0m: "
     ]
    }
   ],
   "source": [
    "clf2.fit(x_train, y_train)"
   ]
  }
 ],
 "metadata": {
  "kernelspec": {
   "display_name": "Python 3",
   "language": "python",
   "name": "python3"
  },
  "language_info": {
   "codemirror_mode": {
    "name": "ipython",
    "version": 3
   },
   "file_extension": ".py",
   "mimetype": "text/x-python",
   "name": "python",
   "nbconvert_exporter": "python",
   "pygments_lexer": "ipython3",
   "version": "3.6.1"
  }
 },
 "nbformat": 4,
 "nbformat_minor": 2
}
