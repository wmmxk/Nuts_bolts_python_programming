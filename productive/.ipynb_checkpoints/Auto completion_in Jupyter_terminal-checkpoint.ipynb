{
 "cells": [
  {
   "cell_type": "code",
   "execution_count": 1,
   "metadata": {
    "collapsed": true
   },
   "outputs": [],
   "source": [
    "import tensorflow as tf\n"
   ]
  },
  {
   "cell_type": "code",
   "execution_count": null,
   "metadata": {
    "collapsed": true
   },
   "outputs": [],
   "source": [
    "#press tab after you type in dot\n",
    "tf.nn.\n",
    "\n",
    "tf.nn # if you press tab here not popup"
   ]
  },
  {
   "cell_type": "code",
   "execution_count": null,
   "metadata": {
    "collapsed": true
   },
   "outputs": [],
   "source": [
    "In order to allow autocompletion, you can create \n",
    "a file .pythonrc\n",
    "\n",
    "# ~./pythonrc\n",
    "# enable syntax completion\n",
    "try:\n",
    "    import readline\n",
    "except ImportError:\n",
    "    pring (\"Module readline not available\")\n",
    "else:\n",
    "    import rlcompleter\n",
    "    readline.parse_and_bind(\"tab: complete\")\n",
    "    \n",
    "Then in your .bashrc file, add\n",
    "\n",
    "export PYTHONSTARTUP=~/.pythonrc\n"
   ]
  }
 ],
 "metadata": {
  "kernelspec": {
   "display_name": "Python [Root]",
   "language": "python",
   "name": "Python [Root]"
  },
  "language_info": {
   "codemirror_mode": {
    "name": "ipython",
    "version": 2
   },
   "file_extension": ".py",
   "mimetype": "text/x-python",
   "name": "python",
   "nbconvert_exporter": "python",
   "pygments_lexer": "ipython2",
   "version": "2.7.12"
  }
 },
 "nbformat": 4,
 "nbformat_minor": 0
}
