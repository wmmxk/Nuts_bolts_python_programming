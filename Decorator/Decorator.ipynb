{
 "cells": [
  {
   "cell_type": "code",
   "execution_count": null,
   "metadata": {
    "collapsed": true
   },
   "outputs": [],
   "source": [
    "#情景1： 给两个functions增添一段同样的代码：\n",
    "#source:http://www.cnblogs.com/xupeizhi/archive/2013/02/07/2908600.html\n",
    "#有了decorator就可以很好的应对以下情景： 对已有code的修改，调用。 这样不用都从头开始\n",
    "    "
   ]
  },
  {
   "cell_type": "code",
   "execution_count": 1,
   "metadata": {
    "collapsed": false
   },
   "outputs": [
    {
     "name": "stdout",
     "output_type": "stream",
     "text": [
      "I am function func1\n",
      "I am function func2\n"
     ]
    }
   ],
   "source": [
    "def func1():\n",
    "    print 'I am function func1'\n",
    "def func2():\n",
    "    print 'I am function func2'\n",
    "func1()\n",
    "func2()"
   ]
  },
  {
   "cell_type": "code",
   "execution_count": 2,
   "metadata": {
    "collapsed": false
   },
   "outputs": [],
   "source": [
    "# 定义一个修饰符，修饰符是function的function\n",
    "def de(f):\n",
    "    def _call():\n",
    "        print '-------------------------------'\n",
    "        return f()\n",
    "    return _call\n",
    "\n",
    "@de\n",
    "def func1():\n",
    "    print 'I am function func1'\n",
    "@de\n",
    "def func2():\n",
    "    print 'I am function func2'"
   ]
  },
  {
   "cell_type": "code",
   "execution_count": 3,
   "metadata": {
    "collapsed": false
   },
   "outputs": [
    {
     "name": "stdout",
     "output_type": "stream",
     "text": [
      "-------------------------------\n",
      "I am function func1\n",
      "-------------------------------\n",
      "I am function func2\n"
     ]
    }
   ],
   "source": [
    "func1()\n",
    "func2()"
   ]
  },
  {
   "cell_type": "code",
   "execution_count": null,
   "metadata": {
    "collapsed": true
   },
   "outputs": [],
   "source": [
    "How does a decorator work?"
   ]
  },
  {
   "cell_type": "code",
   "execution_count": null,
   "metadata": {
    "collapsed": true
   },
   "outputs": [],
   "source": [
    "A decorator is just a callable that takes a function as an argument and returns a replacement function. \n",
    "@de\n",
    "def func1:\n",
    "----- equivalent to  ------\n",
    "func1 = de( func1 )    "
   ]
  },
  {
   "cell_type": "code",
   "execution_count": null,
   "metadata": {
    "collapsed": true
   },
   "outputs": [],
   "source": [
    "# a decorator returns a callable\n",
    "def de( f ):\n",
    "    def call_():\n",
    "        return f()\n",
    "    return _call "
   ]
  },
  {
   "cell_type": "code",
   "execution_count": 5,
   "metadata": {
    "collapsed": false,
    "scrolled": true
   },
   "outputs": [
    {
     "name": "stdout",
     "output_type": "stream",
     "text": [
      "param type error\n",
      "a 1\n",
      "b 2\n"
     ]
    }
   ],
   "source": [
    "import sys\n",
    "import traceback\n",
    "def de( f ):\n",
    "    def call( *args, **kwargs ):\n",
    "        try:\n",
    "            return f( *args , **kwargs )\n",
    "        except:\n",
    "            print 'param type error'\n",
    "    return call\n",
    "@de\n",
    "def func1( lst1, lst2 ):\n",
    "    for item in lst1+lst2:\n",
    "        print item\n",
    "@de\n",
    "def func2( dic ):\n",
    "    for k, v in dic.items():\n",
    "        print k, v\n",
    "\n",
    "func1( [1,2], (3,4) )\n",
    "func2( {\"a\":1,\"b\":2} )"
   ]
  },
  {
   "cell_type": "code",
   "execution_count": null,
   "metadata": {
    "collapsed": true
   },
   "outputs": [],
   "source": [
    "# 场景2定义一个函数对另外一个对象的执行时间进行评估： Decorator把code 进一步拆分\n",
    "#http://bbs.fishc.com/thread-51109-1-1.html"
   ]
  },
  {
   "cell_type": "code",
   "execution_count": null,
   "metadata": {
    "collapsed": true
   },
   "outputs": [],
   "source": [
    "# 如果没有修饰符：\n",
    "import time\n",
    " \n",
    "def timeslong(func):\n",
    "    start = time.clock()\n",
    "    print(\"It's time starting ! \")\n",
    "    func() # 如果没有修饰符，这里需要把这个func重新写一遍，并且混到一起了\n",
    "    print(\"It's time ending ! \")\n",
    "    end = time.clock()\n",
    "    return \"It's used : %s .\" % (end - start)\n"
   ]
  },
  {
   "cell_type": "code",
   "execution_count": 17,
   "metadata": {
    "collapsed": false,
    "scrolled": false
   },
   "outputs": [
    {
     "name": "stdout",
     "output_type": "stream",
     "text": [
      "It's time starting ! \n",
      "0\n",
      "1000\n",
      "2000\n",
      "3000\n",
      "4000\n",
      "5000\n",
      "6000\n",
      "7000\n",
      "8000\n",
      "9000\n",
      "It's time ending ! \n",
      "It's used : 0.003602 .\n"
     ]
    }
   ],
   "source": [
    "# 用decorator\n",
    "import time\n",
    " \n",
    "def timeslong(func):\n",
    "    def call():\n",
    "        start = time.clock()\n",
    "        print(\"It's time starting ! \")\n",
    "        func()\n",
    "        print(\"It's time ending ! \")\n",
    "        end = time.clock()\n",
    "        return \"It's used : %s .\" % (end - start)\n",
    "    return call\n",
    "\n",
    "@timeslong\n",
    "def f():\n",
    "    y = 0\n",
    "    for i in range(10000):\n",
    "        y = y + i + 1\n",
    "        if i%1000==0:\n",
    "          print(i)\n",
    "    return y\n",
    "\n",
    "print(f())"
   ]
  },
  {
   "cell_type": "code",
   "execution_count": null,
   "metadata": {
    "collapsed": true
   },
   "outputs": [],
   "source": [
    "# 情景三，python 内置修饰符： classmethod. source 与情景2相同"
   ]
  },
  {
   "cell_type": "code",
   "execution_count": 31,
   "metadata": {
    "collapsed": false
   },
   "outputs": [],
   "source": [
    "class Hello(object):\n",
    "    def __init__(self):\n",
    "        pass\n",
    " \n",
    "    @classmethod\n",
    "    def print_hello(cls):\n",
    "        print(\"Hello\")\n"
   ]
  },
  {
   "cell_type": "code",
   "execution_count": 33,
   "metadata": {
    "collapsed": false,
    "scrolled": false
   },
   "outputs": [
    {
     "name": "stdout",
     "output_type": "stream",
     "text": [
      "Hello\n"
     ]
    }
   ],
   "source": [
    "Hello.print_hello()"
   ]
  },
  {
   "cell_type": "code",
   "execution_count": null,
   "metadata": {
    "collapsed": true
   },
   "outputs": [],
   "source": [
    "# difference between simple method, instance method, class method, and static methods\n",
    "#source: http://www.bogotobogo.com/python/python_differences_between_static_method_and_class_method_instance_method.php\n"
   ]
  },
  {
   "cell_type": "code",
   "execution_count": 34,
   "metadata": {
    "collapsed": true
   },
   "outputs": [],
   "source": [
    "class A:\n",
    "   message = \"class message\"\n",
    "\n",
    "   @classmethod\n",
    "   def cfoo(cls):\n",
    "      print(cls.message)\n",
    "\n",
    "   def foo(self, msg):\n",
    "      self.message = msg\n",
    "      print(self.message)\n",
    "\n",
    "   def __str__(self):\n",
    "      return self.message"
   ]
  },
  {
   "cell_type": "code",
   "execution_count": 38,
   "metadata": {
    "collapsed": false
   },
   "outputs": [
    {
     "name": "stdout",
     "output_type": "stream",
     "text": [
      "foo function\n",
      "instance method\n",
      "class message\n"
     ]
    }
   ],
   "source": [
    "a = A()\n",
    "\n",
    "print \"class function\"\n",
    "A.cfoo()\n",
    "print \"foo function\"\n",
    "a.foo(\"instance method\")\n"
   ]
  },
  {
   "cell_type": "code",
   "execution_count": null,
   "metadata": {
    "collapsed": true
   },
   "outputs": [],
   "source": [
    "# staticmethod"
   ]
  },
  {
   "cell_type": "code",
   "execution_count": 40,
   "metadata": {
    "collapsed": true
   },
   "outputs": [],
   "source": [
    "class S:\n",
    "   nInstances = 0\n",
    "   def __init__(self):\n",
    "      S.nInstances = S.nInstances + 1\n",
    "\n",
    "   @staticmethod\n",
    "   def howManyInstances():\n",
    "      print('Number of instances created: ', S.nInstances)"
   ]
  },
  {
   "cell_type": "code",
   "execution_count": 42,
   "metadata": {
    "collapsed": false
   },
   "outputs": [],
   "source": [
    ">>> a = S()\n",
    ">>> b = S()\n",
    ">>> c = S()"
   ]
  },
  {
   "cell_type": "code",
   "execution_count": null,
   "metadata": {
    "collapsed": true
   },
   "outputs": [],
   "source": [
    "#Now that we have static method, we can call it in two ways: 1. from class 2. from instance"
   ]
  },
  {
   "cell_type": "code",
   "execution_count": 43,
   "metadata": {
    "collapsed": false
   },
   "outputs": [
    {
     "name": "stdout",
     "output_type": "stream",
     "text": [
      "('Number of instances created: ', 3)\n",
      "('Number of instances created: ', 3)\n"
     ]
    }
   ],
   "source": [
    ">>> S.howManyInstances()\n",
    ">>> a.howManyInstances()"
   ]
  }
 ],
 "metadata": {
  "kernelspec": {
   "display_name": "Python [Root]",
   "language": "python",
   "name": "Python [Root]"
  },
  "language_info": {
   "codemirror_mode": {
    "name": "ipython",
    "version": 2
   },
   "file_extension": ".py",
   "mimetype": "text/x-python",
   "name": "python",
   "nbconvert_exporter": "python",
   "pygments_lexer": "ipython2",
   "version": "2.7.12"
  }
 },
 "nbformat": 4,
 "nbformat_minor": 0
}
