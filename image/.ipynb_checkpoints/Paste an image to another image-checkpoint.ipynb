{
 "cells": [
  {
   "cell_type": "code",
   "execution_count": 24,
   "metadata": {
    "collapsed": false
   },
   "outputs": [],
   "source": [
    "from PIL import Image\n",
    "import numpy as np\n",
    "\n",
    "img1 = Image.open('./images/fishlocal.png')\n",
    "img2= Image.open('./images/cat.jpg')\n",
    "\n",
    "location = tuple(np.subtract(img2.size,img1.size))\n",
    "\n",
    "\n",
    "img2_copy = img2.copy()\n",
    "img2_copy.paste(img1, location)\n",
    "\n",
    "img2_copy.show()"
   ]
  }
 ],
 "metadata": {
  "kernelspec": {
   "display_name": "Python [Root]",
   "language": "python",
   "name": "Python [Root]"
  },
  "language_info": {
   "codemirror_mode": {
    "name": "ipython",
    "version": 2
   },
   "file_extension": ".py",
   "mimetype": "text/x-python",
   "name": "python",
   "nbconvert_exporter": "python",
   "pygments_lexer": "ipython2",
   "version": "2.7.12"
  }
 },
 "nbformat": 4,
 "nbformat_minor": 0
}
