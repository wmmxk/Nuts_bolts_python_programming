{
 "cells": [
  {
   "cell_type": "code",
   "execution_count": null,
   "metadata": {
    "collapsed": true
   },
   "outputs": [],
   "source": [
    "By default the minimum is at the top"
   ]
  },
  {
   "cell_type": "code",
   "execution_count": 11,
   "metadata": {
    "collapsed": false
   },
   "outputs": [],
   "source": [
    "import heapq\n",
    "\n",
    "q = []  # the queue is a regular list\n",
    "\n",
    "A = (3, 5, \"Element A\")  # our first item, a three-tuple with two priorities and a value\n",
    "B = (3, 1, \"Element B\")  # a second item\n",
    "C = (1, 2, \"Element C\")  # a third item\n",
    "\n",
    "heapq.heappush(q, A)  # push the items into the queue\n",
    "heapq.heappush(q, B)\n",
    "heapq.heappush(q,C)\n",
    "\n"
   ]
  },
  {
   "cell_type": "code",
   "execution_count": 13,
   "metadata": {
    "collapsed": false
   },
   "outputs": [
    {
     "data": {
      "text/plain": [
       "(3, 1, 'Element B')"
      ]
     },
     "execution_count": 13,
     "metadata": {},
     "output_type": "execute_result"
    }
   ],
   "source": [
    "q[2]"
   ]
  },
  {
   "cell_type": "code",
   "execution_count": 10,
   "metadata": {
    "collapsed": false
   },
   "outputs": [
    {
     "name": "stdout",
     "output_type": "stream",
     "text": [
      "Element C\n",
      "Element D\n",
      "Element B\n"
     ]
    }
   ],
   "source": [
    "print(heapq.heappop(q)[2])  # p\n",
    "D = (0, 2, \"Element D\")  # a third item\n",
    "heapq.heappush(q,D)\n",
    "print(heapq.heappop(q)[2])  # p\n",
    "print(heapq.heappop(q)[2])  # p"
   ]
  },
  {
   "cell_type": "code",
   "execution_count": 14,
   "metadata": {
    "collapsed": false
   },
   "outputs": [
    {
     "name": "stdout",
     "output_type": "stream",
     "text": [
      "(-4, 4)\n",
      "(-3, 3)\n",
      "(0, inf)\n"
     ]
    }
   ],
   "source": [
    "hp=[(0, float(\"inf\"))]\n",
    "heapq.heappush(hp,(-3,3))\n",
    "heapq.heappush(hp,(-4,4))\n",
    "print heapq.heappop(hp)\n",
    "print heapq.heappop(hp)\n",
    "print heapq.heappop(hp)"
   ]
  },
  {
   "cell_type": "code",
   "execution_count": 15,
   "metadata": {
    "collapsed": false
   },
   "outputs": [
    {
     "name": "stdout",
     "output_type": "stream",
     "text": [
      "(-4, 4) (0, inf) (-3, 3)\n"
     ]
    }
   ],
   "source": [
    "hp=[(0, float(\"inf\"))]\n",
    "heapq.heappush(hp,(-3,3))\n",
    "heapq.heappush(hp,(-4,4))\n",
    "print hp[0],hp[1],hp[2]"
   ]
  }
 ],
 "metadata": {
  "kernelspec": {
   "display_name": "Python [Root]",
   "language": "python",
   "name": "Python [Root]"
  },
  "language_info": {
   "codemirror_mode": {
    "name": "ipython",
    "version": 2
   },
   "file_extension": ".py",
   "mimetype": "text/x-python",
   "name": "python",
   "nbconvert_exporter": "python",
   "pygments_lexer": "ipython2",
   "version": "2.7.12"
  }
 },
 "nbformat": 4,
 "nbformat_minor": 0
}
