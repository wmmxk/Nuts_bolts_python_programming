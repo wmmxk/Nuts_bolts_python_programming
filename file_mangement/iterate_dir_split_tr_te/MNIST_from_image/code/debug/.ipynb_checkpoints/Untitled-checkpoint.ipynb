{
 "cells": [
  {
   "cell_type": "code",
   "execution_count": 1,
   "metadata": {
    "collapsed": false
   },
   "outputs": [
    {
     "name": "stdout",
     "output_type": "stream",
     "text": [
      "Extracting MNIST_data/train-images-idx3-ubyte.gz\n",
      "Extracting MNIST_data/train-labels-idx1-ubyte.gz\n",
      "Extracting MNIST_data/t10k-images-idx3-ubyte.gz\n",
      "Extracting MNIST_data/t10k-labels-idx1-ubyte.gz\n",
      "(28, 28, 1)\n",
      "/media/wxk/My Passport/DataScience/Kaggle/speech/code/MNIST/code/MNIST/data/7.jpg\n"
     ]
    }
   ],
   "source": [
    "from _init_paths import *\n",
    "from to_image.data_generator import *    \n",
    "import cv2\n",
    "import os\n",
    "from PIL import Image\n",
    "tr_generator = generator(images_tr, labels_tr,1)    \n",
    "\n",
    "imgs, labels = next(tr_generator)\n",
    "print(imgs[0].shape)\n",
    "print(os.path.join(project_dir,\"code\",\"MNIST\",\"data\",str(labels[0])+\".jpg\"))\n",
    "\n",
    "\n"
   ]
  },
  {
   "cell_type": "code",
   "execution_count": null,
   "metadata": {
    "collapsed": false,
    "scrolled": true
   },
   "outputs": [],
   "source": [
    "cv2.imshow(\"image\", imgs[0]);\n"
   ]
  },
  {
   "cell_type": "code",
   "execution_count": null,
   "metadata": {
    "collapsed": true
   },
   "outputs": [],
   "source": [
    "cv2.imwrite(os.path.join(project_dir,\"code\",\"MNIST\",\"data\",str(labels[0])+\".jpg\"),imgs[0])"
   ]
  }
 ],
 "metadata": {
  "kernelspec": {
   "display_name": "Python 3",
   "language": "python",
   "name": "python3"
  },
  "language_info": {
   "codemirror_mode": {
    "name": "ipython",
    "version": 3
   },
   "file_extension": ".py",
   "mimetype": "text/x-python",
   "name": "python",
   "nbconvert_exporter": "python",
   "pygments_lexer": "ipython3",
   "version": "3.6.0"
  }
 },
 "nbformat": 4,
 "nbformat_minor": 2
}
