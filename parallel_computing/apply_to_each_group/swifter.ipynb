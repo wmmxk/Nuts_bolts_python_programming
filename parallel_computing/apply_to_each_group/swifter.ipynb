{
 "cells": [
  {
   "cell_type": "code",
   "execution_count": null,
   "metadata": {},
   "outputs": [],
   "source": [
    "# source: https://gdcoder.com/speed-up-pandas-apply-function-using-dask-or-swifter-tutorial/"
   ]
  },
  {
   "cell_type": "code",
   "execution_count": 1,
   "metadata": {},
   "outputs": [],
   "source": [
    "from multiprocessing import Pool, cpu_count\n",
    "import pandas as pd\n",
    "import numpy as np\n",
    "import timeit\n",
    "import time\n",
    "import swifter"
   ]
  },
  {
   "cell_type": "code",
   "execution_count": 2,
   "metadata": {},
   "outputs": [],
   "source": [
    "# Create a Dataframe for a minimum example\n",
    "df = pd.DataFrame()\n",
    "# 5000 users with approx 100 values\n",
    "df[\"user_id\"] = np.random.randint(5000, size=500000)\n",
    "# Generate 500000 random integer values\n",
    "df[\"value\"] = np.random.randint(30, size=500000)\n",
    "# Create data_chunk based on modulo of user_id\n",
    "df[\"data_chunk\"] = df[\"user_id\"].mod(cpu_count() * 3)\n",
    "# Any not optimised and intensive function i want to apply to each group"
   ]
  },
  {
   "cell_type": "code",
   "execution_count": 13,
   "metadata": {},
   "outputs": [],
   "source": [
    "def group_function(group):\n",
    "    # Inverse cumulative sum\n",
    "    group[\"inv_sum\"] = group.iloc[::-1]['value'].cumsum()[::-1].shift(-1).fillna(0)\n",
    "    return group\n"
   ]
  }
 ],
 "metadata": {
  "kernelspec": {
   "display_name": "Python 3",
   "language": "python",
   "name": "python3"
  },
  "language_info": {
   "codemirror_mode": {
    "name": "ipython",
    "version": 3
   },
   "file_extension": ".py",
   "mimetype": "text/x-python",
   "name": "python",
   "nbconvert_exporter": "python",
   "pygments_lexer": "ipython3",
   "version": "3.6.5"
  }
 },
 "nbformat": 4,
 "nbformat_minor": 2
}
