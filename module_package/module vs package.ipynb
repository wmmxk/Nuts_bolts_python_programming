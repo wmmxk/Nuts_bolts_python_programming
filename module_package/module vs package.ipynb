{
 "cells": [
  {
   "cell_type": "code",
   "execution_count": null,
   "metadata": {
    "collapsed": true
   },
   "outputs": [],
   "source": []
  },
  {
   "cell_type": "markdown",
   "metadata": {},
   "source": [
    "Any python file is a module, its name being the file's base name without the .py extension.\n",
    "\n",
    "A package is a collection of Python modeules: while a module is a single python file, a package\n",
    "  is a directory of python modules containing an additional __init__.py file to distinguish a package\n",
    "  from a directory that just happens to contain a bunch of python scripts\n",
    "  "
   ]
  }
 ],
 "metadata": {
  "kernelspec": {
   "display_name": "Python 2",
   "language": "python",
   "name": "python2"
  },
  "language_info": {
   "codemirror_mode": {
    "name": "ipython",
    "version": 2
   },
   "file_extension": ".py",
   "mimetype": "text/x-python",
   "name": "python",
   "nbconvert_exporter": "python",
   "pygments_lexer": "ipython2",
   "version": "2.7.12"
  }
 },
 "nbformat": 4,
 "nbformat_minor": 0
}
