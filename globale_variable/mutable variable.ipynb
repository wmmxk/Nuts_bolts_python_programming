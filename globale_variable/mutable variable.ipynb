{
 "cells": [
  {
   "cell_type": "code",
   "execution_count": 4,
   "metadata": {},
   "outputs": [],
   "source": [
    "from itertools import cycle"
   ]
  },
  {
   "cell_type": "code",
   "execution_count": 94,
   "metadata": {},
   "outputs": [
    {
     "name": "stdout",
     "output_type": "stream",
     "text": [
      "count: ----- 1\n",
      "0\n",
      "count: ----- 2\n",
      "1\n",
      "count: ----- 3\n",
      "2\n",
      "count: ----- 4\n",
      "0\n",
      "count: ----- 5\n",
      "1\n",
      "count: ----- 6\n",
      "2\n",
      "count: ----- 7\n",
      "0\n"
     ]
    }
   ],
   "source": [
    "count = 0\n",
    "for i in cycle(range(3)):\n",
    "    count += 1\n",
    "    print(\"count: -----\", count)\n",
    "    print(i)\n",
    "    if count > 6:\n",
    "        break"
   ]
  },
  {
   "cell_type": "code",
   "execution_count": 12,
   "metadata": {},
   "outputs": [],
   "source": [
    "\n",
    "# bids = [[1, 10, 5], [2, 10, 5]]\n",
    "# bids = [[1, 10, 5], [2, 8, 4], [2, 8, 3]]"
   ]
  },
  {
   "cell_type": "code",
   "execution_count": 84,
   "metadata": {},
   "outputs": [],
   "source": [
    "def assign_to_one(top_bids, left):\n",
    "    for i in range(left[0]):\n",
    "        while top_bids[0][2] > 0:\n",
    "            top_bids[0][2] -= 1\n",
    "            left[0] -= 1\n",
    "        break\n",
    "    \n",
    "\n",
    "def assign_to_multiple(top_bids, left):\n",
    "    for i in cycle(range(len(top_bids))):\n",
    "        if top_bids[i][2] > 0 and left[0] > 0:\n",
    "            top_bids[i][2] -= 1\n",
    "            left[0] -= 1\n",
    "        elif left[0] == 0 or sum([bid[2] for bid in top_bids]) ==0:\n",
    "            break\n",
    "        else:\n",
    "            continue"
   ]
  },
  {
   "cell_type": "code",
   "execution_count": 85,
   "metadata": {},
   "outputs": [],
   "source": [
    "left = [11]\n",
    "bids = [[2, 8, 4], [2, 8, 3]]\n",
    "assign_to_multiple(bids, left)"
   ]
  },
  {
   "cell_type": "code",
   "execution_count": 32,
   "metadata": {},
   "outputs": [],
   "source": [
    "left = [20]\n",
    "bids = [[1, 10, 5]]\n",
    "assign_to_one(bids, left)"
   ]
  },
  {
   "cell_type": "code",
   "execution_count": 90,
   "metadata": {},
   "outputs": [],
   "source": [
    "budget = 9\n",
    "left = [budget]\n",
    "bids = [[1, 10, 5], [2, 8, 4], [2, 8, 3]]\n",
    "num_shares = [bid[2] for bid in bids]\n",
    "\n",
    "def recursion(bids, left):\n",
    "    if left[0] == 0 or sum([bid[2] for bid in bids]) ==0:\n",
    "        return \"done\"\n",
    "    price = 0\n",
    "    for i, bid in enumerate(bids):\n",
    "        if bid[1] >= price:\n",
    "            cutoff = i+1\n",
    "            price = bid[1]\n",
    "        else:\n",
    "            break\n",
    "\n",
    "    top_bids = bids[:cutoff]\n",
    "    left_bids = bids[cutoff:]\n",
    "    print(\"split 1\", top_bids)\n",
    "    print(\"split 2\", left_bids)\n",
    "    \n",
    "    if len(top_bids) == 1:\n",
    "        assign_to_one(top_bids, left)\n",
    "    else:\n",
    "        assign_to_multiple(top_bids, left)\n",
    "    \n",
    "    recursion(left_bids, left)\n"
   ]
  },
  {
   "cell_type": "code",
   "execution_count": 91,
   "metadata": {},
   "outputs": [
    {
     "name": "stdout",
     "output_type": "stream",
     "text": [
      "split 1 [[1, 10, 5]]\n",
      "split 2 [[2, 8, 4], [2, 8, 3]]\n",
      "split 1 [[2, 8, 4], [2, 8, 3]]\n",
      "split 2 []\n"
     ]
    }
   ],
   "source": [
    "recursion(bids, left)"
   ]
  },
  {
   "cell_type": "code",
   "execution_count": 92,
   "metadata": {},
   "outputs": [
    {
     "data": {
      "text/plain": [
       "[[1, 10, 0], [2, 8, 2], [2, 8, 1]]"
      ]
     },
     "execution_count": 92,
     "metadata": {},
     "output_type": "execute_result"
    }
   ],
   "source": [
    "bids"
   ]
  },
  {
   "cell_type": "code",
   "execution_count": 93,
   "metadata": {},
   "outputs": [
    {
     "data": {
      "text/plain": [
       "[0]"
      ]
     },
     "execution_count": 93,
     "metadata": {},
     "output_type": "execute_result"
    }
   ],
   "source": [
    "left"
   ]
  }
 ],
 "metadata": {
  "kernelspec": {
   "display_name": "Python 3",
   "language": "python",
   "name": "python3"
  },
  "language_info": {
   "codemirror_mode": {
    "name": "ipython",
    "version": 3
   },
   "file_extension": ".py",
   "mimetype": "text/x-python",
   "name": "python",
   "nbconvert_exporter": "python",
   "pygments_lexer": "ipython3",
   "version": "3.6.5"
  }
 },
 "nbformat": 4,
 "nbformat_minor": 2
}
