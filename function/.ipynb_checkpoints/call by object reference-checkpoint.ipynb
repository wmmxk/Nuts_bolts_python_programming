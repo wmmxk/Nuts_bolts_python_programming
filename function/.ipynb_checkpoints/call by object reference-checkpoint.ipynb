{
 "cells": [
  {
   "cell_type": "code",
   "execution_count": null,
   "metadata": {
    "collapsed": true
   },
   "outputs": [],
   "source": [
    "source of explanation: https://jeffknupp.com/blog/2012/11/13/is-python-callbyvalue-or-callbyreference-neither/"
   ]
  },
  {
   "cell_type": "code",
   "execution_count": null,
   "metadata": {
    "collapsed": true
   },
   "outputs": [],
   "source": [
    "1. A reference to an object is different from the object itself. In the following example,\n",
    "both the \"z\" and \"spins\" are a reference to a list object. The variable z is superfluous.\n",
    "\n",
    "2. list are imutable, so you can modify a list object by either reference name.\n",
    "\n",
    "3. If you want  to make a copy of the list object refereced by the \"spins\" just use z=spins[:]"
   ]
  },
  {
   "cell_type": "code",
   "execution_count": null,
   "metadata": {
    "collapsed": true
   },
   "outputs": [],
   "source": [
    "Changes to a mutable object are visible through all names bound to it."
   ]
  },
  {
   "cell_type": "code",
   "execution_count": 10,
   "metadata": {
    "collapsed": true
   },
   "outputs": [],
   "source": [
    "def flip1(spins,j):\n",
    "    z = spins\n",
    "    z[j] = z[j]*-1\n",
    "    return z"
   ]
  },
  {
   "cell_type": "code",
   "execution_count": 11,
   "metadata": {
    "collapsed": true
   },
   "outputs": [],
   "source": [
    "spin = [1,1,1]\n",
    "test = flip1(spin,1)"
   ]
  },
  {
   "cell_type": "code",
   "execution_count": 12,
   "metadata": {
    "collapsed": false
   },
   "outputs": [
    {
     "name": "stdout",
     "output_type": "stream",
     "text": [
      "[1, -1, 1]\n",
      "[1, -1, 1]\n"
     ]
    }
   ],
   "source": [
    "print test\n",
    "print spin"
   ]
  },
  {
   "cell_type": "code",
   "execution_count": 13,
   "metadata": {
    "collapsed": true
   },
   "outputs": [],
   "source": [
    "def flip2(spins,j):\n",
    "    z = spins[:]\n",
    "    z[j] = z[j]*-1\n",
    "    return z"
   ]
  },
  {
   "cell_type": "code",
   "execution_count": 14,
   "metadata": {
    "collapsed": false
   },
   "outputs": [
    {
     "name": "stdout",
     "output_type": "stream",
     "text": [
      "[1, 1, 1] [1, -1, 1]\n"
     ]
    }
   ],
   "source": [
    "test=flip2(spin,1)\n",
    "print test,\n",
    "print spin"
   ]
  }
 ],
 "metadata": {
  "kernelspec": {
   "display_name": "Python 2",
   "language": "python",
   "name": "python2"
  },
  "language_info": {
   "codemirror_mode": {
    "name": "ipython",
    "version": 2
   },
   "file_extension": ".py",
   "mimetype": "text/x-python",
   "name": "python",
   "nbconvert_exporter": "python",
   "pygments_lexer": "ipython2",
   "version": "2.7.12"
  }
 },
 "nbformat": 4,
 "nbformat_minor": 0
}
