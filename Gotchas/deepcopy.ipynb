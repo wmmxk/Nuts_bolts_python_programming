{
 "cells": [
  {
   "cell_type": "code",
   "execution_count": 2,
   "metadata": {
    "collapsed": false
   },
   "outputs": [
    {
     "name": "stdout",
     "output_type": "stream",
     "text": [
      "{1: 10, 2: 3}\n",
      "{1: 2, 2: 3}\n",
      "{1: 10, 2: 3}\n"
     ]
    }
   ],
   "source": [
    "from copy import deepcopy\n",
    "v={1:2,2:3}\n",
    "v1 = deepcopy(v)\n",
    "v[1]  = 10\n",
    "v2 = v\n",
    "print v\n",
    "print v1\n",
    "print v2\n",
    "\n"
   ]
  }
 ],
 "metadata": {
  "kernelspec": {
   "display_name": "Python 2",
   "language": "python",
   "name": "python2"
  },
  "language_info": {
   "codemirror_mode": {
    "name": "ipython",
    "version": 2
   },
   "file_extension": ".py",
   "mimetype": "text/x-python",
   "name": "python",
   "nbconvert_exporter": "python",
   "pygments_lexer": "ipython2",
   "version": "2.7.12"
  }
 },
 "nbformat": 4,
 "nbformat_minor": 0
}
