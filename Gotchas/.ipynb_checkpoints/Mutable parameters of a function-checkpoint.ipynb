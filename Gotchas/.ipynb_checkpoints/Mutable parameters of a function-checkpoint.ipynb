{
 "cells": [
  {
   "cell_type": "markdown",
   "metadata": {},
   "source": [
    "Python’s default arguments are evaluated once when the function is defined, not each time \n",
    "the function is called (like it is in say, Ruby). This means that if you use a mutable\n",
    "default argument and mutate it, you will and have mutated \n",
    "that object for all future calls to the function as well."
   ]
  },
  {
   "cell_type": "code",
   "execution_count": 1,
   "metadata": {
    "collapsed": false,
    "scrolled": true
   },
   "outputs": [
    {
     "name": "stdout",
     "output_type": "stream",
     "text": [
      "[4]\n",
      "[4, 5]\n"
     ]
    }
   ],
   "source": [
    "def append_to(element, to=[]):\n",
    "    to.append(element)\n",
    "    return to\n",
    "\n",
    "print append_to(4)\n",
    "print append_to(5)"
   ]
  },
  {
   "cell_type": "code",
   "execution_count": 19,
   "metadata": {
    "collapsed": false
   },
   "outputs": [
    {
     "name": "stdout",
     "output_type": "stream",
     "text": [
      "140143395546464\n",
      "140143395546464\n",
      "[1, 3]\n",
      "140143395545528\n",
      "140143395545528\n",
      "[4]\n",
      "140143512791664\n",
      "140143512791664\n",
      "[5]\n"
     ]
    }
   ],
   "source": [
    "#This version takes care of empyt or a list with elements\n",
    "def append_to(element, to=None):\n",
    "    print id(to)\n",
    "    if to is None:\n",
    "        to = []\n",
    "    to.append(element)\n",
    "    print id(to)\n",
    "    return to\n",
    "\n",
    "candidates = [1]\n",
    "empty = []\n",
    "empty2 = []\n",
    "print append_to(3,candidates)\n",
    "print append_to(4,empty)\n",
    "print append_to(5,empty2)"
   ]
  },
  {
   "cell_type": "code",
   "execution_count": 18,
   "metadata": {
    "collapsed": false
   },
   "outputs": [
    {
     "name": "stdout",
     "output_type": "stream",
     "text": [
      "140143395545528\n",
      "140143395545672\n",
      "[4]\n",
      "140143395545528\n",
      "140143395545600\n",
      "[5]\n"
     ]
    }
   ],
   "source": [
    "# Another tricky solution\n",
    "def append_to(element, to=[]):\n",
    "    print id(to)\n",
    "    to = to + [element] # assign to to, makes to local and the default one untouched. \n",
    "                        # if you rename the to on the left, it will be more clear\n",
    "    print id(to)\n",
    "    return to\n",
    "\n",
    "print append_to(4)\n",
    "print append_to(5)"
   ]
  },
  {
   "cell_type": "code",
   "execution_count": null,
   "metadata": {
    "collapsed": true
   },
   "outputs": [],
   "source": [
    "# A practical example: find all the pathes between two nodes in a graph"
   ]
  },
  {
   "cell_type": "code",
   "execution_count": 20,
   "metadata": {
    "collapsed": true
   },
   "outputs": [],
   "source": [
    "g = {'A': ['B', 'C'],\n",
    "             'B': ['C', 'D'],\n",
    "             'C': ['D'],\n",
    "             'D': ['C'],\n",
    "             'E': ['F'],\n",
    "             'F': ['C']}"
   ]
  },
  {
   "cell_type": "code",
   "execution_count": 27,
   "metadata": {
    "collapsed": true
   },
   "outputs": [],
   "source": [
    "def find_all_paths(graph, start, end, path__=[]):\n",
    "    path = path__ + [start]  # You cannot use path__.append(start) here\n",
    "    if start == end:\n",
    "        return [path]\n",
    "    if not graph.has_key(start):\n",
    "        return []\n",
    "    paths = []\n",
    "    for node in graph[start]:\n",
    "        if node not in path:\n",
    "            newpaths = find_all_paths(graph, node, end, path)\n",
    "            for newpath in newpaths:\n",
    "                paths.append(newpath)\n",
    "    return paths"
   ]
  },
  {
   "cell_type": "code",
   "execution_count": 29,
   "metadata": {
    "collapsed": false
   },
   "outputs": [
    {
     "data": {
      "text/plain": [
       "[['A', 'B']]"
      ]
     },
     "execution_count": 29,
     "metadata": {},
     "output_type": "execute_result"
    }
   ],
   "source": [
    "find_all_paths(g, 'A','B')"
   ]
  },
  {
   "cell_type": "code",
   "execution_count": 14,
   "metadata": {
    "collapsed": false
   },
   "outputs": [
    {
     "data": {
      "text/plain": [
       "[[['A'], ['B'], ['C'], ['D'], ['C']], [['A'], ['B'], ['C'], ['D'], ['C']]]"
      ]
     },
     "execution_count": 14,
     "metadata": {},
     "output_type": "execute_result"
    }
   ],
   "source": [
    "find_all_paths(g, 'A','C')"
   ]
  },
  {
   "cell_type": "code",
   "execution_count": 11,
   "metadata": {
    "collapsed": false
   },
   "outputs": [
    {
     "data": {
      "text/plain": [
       "[[['A'],\n",
       "  ['B'],\n",
       "  ['C'],\n",
       "  ['D'],\n",
       "  ['C'],\n",
       "  ['A'],\n",
       "  ['B'],\n",
       "  ['C'],\n",
       "  ['D'],\n",
       "  ['C'],\n",
       "  ['A'],\n",
       "  ['B'],\n",
       "  ['C'],\n",
       "  ['D'],\n",
       "  ['C']],\n",
       " [['A'],\n",
       "  ['B'],\n",
       "  ['C'],\n",
       "  ['D'],\n",
       "  ['C'],\n",
       "  ['A'],\n",
       "  ['B'],\n",
       "  ['C'],\n",
       "  ['D'],\n",
       "  ['C'],\n",
       "  ['A'],\n",
       "  ['B'],\n",
       "  ['C'],\n",
       "  ['D'],\n",
       "  ['C']]]"
      ]
     },
     "execution_count": 11,
     "metadata": {},
     "output_type": "execute_result"
    }
   ],
   "source": [
    "find_all_paths(g, 'A','C')"
   ]
  }
 ],
 "metadata": {
  "kernelspec": {
   "display_name": "Python [Root]",
   "language": "python",
   "name": "Python [Root]"
  },
  "language_info": {
   "codemirror_mode": {
    "name": "ipython",
    "version": 2
   },
   "file_extension": ".py",
   "mimetype": "text/x-python",
   "name": "python",
   "nbconvert_exporter": "python",
   "pygments_lexer": "ipython2",
   "version": "2.7.12"
  }
 },
 "nbformat": 4,
 "nbformat_minor": 0
}
