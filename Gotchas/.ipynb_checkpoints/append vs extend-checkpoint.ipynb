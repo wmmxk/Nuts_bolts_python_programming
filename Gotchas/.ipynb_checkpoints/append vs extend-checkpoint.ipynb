{
 "cells": [
  {
   "cell_type": "code",
   "execution_count": null,
   "metadata": {
    "collapsed": true
   },
   "outputs": [],
   "source": [
    "As you can see, append and += have the same result; they add the item to the list, without producing a new list.\n",
    "Using + adds the two lists and produces a new list."
   ]
  },
  {
   "cell_type": "code",
   "execution_count": 2,
   "metadata": {
    "collapsed": false
   },
   "outputs": [
    {
     "name": "stdout",
     "output_type": "stream",
     "text": [
      "140399363687056\n",
      "140399363687056\n"
     ]
    }
   ],
   "source": [
    "a = []\n",
    "print id(a)\n",
    "\n",
    "a.append(\"hello\")\n",
    "print id(a)\n",
    "\n"
   ]
  },
  {
   "cell_type": "code",
   "execution_count": 5,
   "metadata": {
    "collapsed": false
   },
   "outputs": [
    {
     "name": "stdout",
     "output_type": "stream",
     "text": [
      "140399327747752\n",
      "140399363689360\n"
     ]
    }
   ],
   "source": [
    "b = []\n",
    "print id(b)\n",
    "\n",
    "c = b + [\"hello\"]\n",
    "print id(c)\n",
    "\n"
   ]
  },
  {
   "cell_type": "code",
   "execution_count": 6,
   "metadata": {
    "collapsed": false
   },
   "outputs": [
    {
     "name": "stdout",
     "output_type": "stream",
     "text": [
      "140399327860064\n",
      "140399327860064\n",
      "140399363687344\n"
     ]
    }
   ],
   "source": [
    "b = []\n",
    "print id(b)\n",
    "b += [\"hello\"]\n",
    "print id(b)\n",
    "\n",
    "b = b + [\"hello2\"]\n",
    "print id(b)"
   ]
  }
 ],
 "metadata": {
  "kernelspec": {
   "display_name": "Python 2",
   "language": "python",
   "name": "python2"
  },
  "language_info": {
   "codemirror_mode": {
    "name": "ipython",
    "version": 2
   },
   "file_extension": ".py",
   "mimetype": "text/x-python",
   "name": "python",
   "nbconvert_exporter": "python",
   "pygments_lexer": "ipython2",
   "version": "2.7.12"
  }
 },
 "nbformat": 4,
 "nbformat_minor": 0
}
