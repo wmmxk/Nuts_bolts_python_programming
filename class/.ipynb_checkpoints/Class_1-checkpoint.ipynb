{
 "cells": [
  {
   "cell_type": "markdown",
   "metadata": {},
   "source": [
    "When you try to grab a function, you need to know its argument, operation on the arguments and return.\n",
    "Following this framework, what do you need to know about class"
   ]
  },
  {
   "cell_type": "code",
   "execution_count": null,
   "metadata": {
    "collapsed": true
   },
   "outputs": [],
   "source": [
    "class variables, instance variables, attributes, methods, \n",
    "the syntax for defining a class and instantiating a class\n"
   ]
  },
  {
   "cell_type": "markdown",
   "metadata": {},
   "source": [
    "class variable vs instance variable"
   ]
  },
  {
   "cell_type": "code",
   "execution_count": null,
   "metadata": {
    "collapsed": true
   },
   "outputs": [],
   "source": [
    "Note: But there it is important to remember that if the value of a class variable is changed, \n",
    "    then all instances that call to the class variable will reflect that change.  "
   ]
  },
  {
   "cell_type": "code",
   "execution_count": 1,
   "metadata": {
    "collapsed": true
   },
   "outputs": [],
   "source": [
    "class TestClass(object):\n",
    "    c = 299792458  #this is a class variable\n",
    "\n",
    "    def __init__(self):\n",
    "        self.e = 2.71 #instance variable\n",
    "\n",
    "    def phiFunc(self):\n",
    "        self.phi = 1.618 #will become an instance variable after phiFunc is called\n",
    "        x=224 #this is a method variable and can't be accessed outside this method"
   ]
  },
  {
   "cell_type": "code",
   "execution_count": 4,
   "metadata": {
    "collapsed": false
   },
   "outputs": [],
   "source": [
    "assert TestClass.c == 299792458\n",
    "try:\n",
    "    print TestClass.e #Not defined\n",
    "except AttributeError:\n",
    "    pass"
   ]
  },
  {
   "cell_type": "code",
   "execution_count": 5,
   "metadata": {
    "collapsed": true
   },
   "outputs": [],
   "source": [
    "testInst = TestClass()\n",
    "assert testInst.c == 299792458 #instance gets c, currently a ref to the class var\n",
    "assert testInst.e == 2.71 #got e because of __init__\n",
    "try:\n",
    "    print testInst.phi #error since not defined yet\n",
    "except AttributeError:\n",
    "    pass"
   ]
  },
  {
   "cell_type": "code",
   "execution_count": null,
   "metadata": {
    "collapsed": true
   },
   "outputs": [],
   "source": [
    "\n",
    "\n",
    "\n",
    "\n",
    "testInst.phiFunc()\n",
    "assert testInst.phi == 1.618 #now its here\n",
    "try:\n",
    "    testInst.x #still undefined\n",
    "except AttributeError:\n",
    "    pass"
   ]
  },
  {
   "cell_type": "markdown",
   "metadata": {},
   "source": [
    "The instance variable hides the class variable of that instance if they have the same name\n",
    "assigning creates an instance attribute"
   ]
  },
  {
   "cell_type": "code",
   "execution_count": 6,
   "metadata": {
    "collapsed": true
   },
   "outputs": [],
   "source": [
    "class testClass2 (object):\n",
    "    sqrttwo = 1.41\n",
    "    sqrtthree = 1.73\n",
    "\n",
    "    def __init__(self):\n",
    "        self.sqrttwo = 1\n"
   ]
  },
  {
   "cell_type": "code",
   "execution_count": 8,
   "metadata": {
    "collapsed": false
   },
   "outputs": [
    {
     "data": {
      "text/plain": [
       "True"
      ]
     },
     "execution_count": 8,
     "metadata": {},
     "output_type": "execute_result"
    }
   ],
   "source": [
    "\n",
    "testClass2.sqrttwo == 1.41 #access class variable\n",
    "\n"
   ]
  },
  {
   "cell_type": "code",
   "execution_count": 9,
   "metadata": {
    "collapsed": false
   },
   "outputs": [
    {
     "data": {
      "text/plain": [
       "True"
      ]
     },
     "execution_count": 9,
     "metadata": {},
     "output_type": "execute_result"
    }
   ],
   "source": [
    "testInst2 = testClass2()\n",
    "testInst2.sqrttwo == 1 #the instance variable hides the class variable\n"
   ]
  },
  {
   "cell_type": "code",
   "execution_count": 12,
   "metadata": {
    "collapsed": false
   },
   "outputs": [
    {
     "data": {
      "text/plain": [
       "1.41"
      ]
     },
     "execution_count": 12,
     "metadata": {},
     "output_type": "execute_result"
    }
   ],
   "source": [
    "testClass2.sqrttwo"
   ]
  },
  {
   "cell_type": "code",
   "execution_count": 10,
   "metadata": {
    "collapsed": false,
    "scrolled": true
   },
   "outputs": [
    {
     "data": {
      "text/plain": [
       "True"
      ]
     },
     "execution_count": 10,
     "metadata": {},
     "output_type": "execute_result"
    }
   ],
   "source": [
    "testInst2.sqrtthree = 2 #assigning creates an instance attribute\n",
    "testClass2.sqrtthree == 1.73 #So the value in the class is unchanged"
   ]
  }
 ],
 "metadata": {
  "kernelspec": {
   "display_name": "Python [Root]",
   "language": "python",
   "name": "Python [Root]"
  },
  "language_info": {
   "codemirror_mode": {
    "name": "ipython",
    "version": 2
   },
   "file_extension": ".py",
   "mimetype": "text/x-python",
   "name": "python",
   "nbconvert_exporter": "python",
   "pygments_lexer": "ipython2",
   "version": "2.7.12"
  }
 },
 "nbformat": 4,
 "nbformat_minor": 0
}
