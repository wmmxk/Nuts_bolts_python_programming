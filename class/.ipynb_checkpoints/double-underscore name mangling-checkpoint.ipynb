{
 "cells": [
  {
   "cell_type": "code",
   "execution_count": null,
   "metadata": {
    "collapsed": true
   },
   "outputs": [],
   "source": [
    "motivating use case:\n",
    "    the method of subclass does not override the method of class"
   ]
  },
  {
   "cell_type": "code",
   "execution_count": null,
   "metadata": {
    "collapsed": true
   },
   "outputs": [],
   "source": [
    "# source: http://stackoverflow.com/questions/7841812/inheritance-and-base-class-method-call-python"
   ]
  },
  {
   "cell_type": "code",
   "execution_count": 1,
   "metadata": {
    "collapsed": false,
    "scrolled": true
   },
   "outputs": [
    {
     "name": "stdout",
     "output_type": "stream",
     "text": [
      "initizlizing B\n",
      "('ClassB:', 6)\n",
      "('ClassA:', 6)\n"
     ]
    }
   ],
   "source": [
    "class ClassA(object):\n",
    "    def __init__(self):\n",
    "        print(\"Initializing A\")\n",
    "\n",
    "    # hoping that this function is called by this class's printFnX\n",
    "    def fnX(self, x):\n",
    "        return x**2\n",
    "\n",
    "    def printFnX(self, x):\n",
    "        print(\"ClassA:\",self.fnX(x))\n",
    "\n",
    "# Inherits from ClassA above\n",
    "class ClassB(ClassA):\n",
    "    def __init__(self):\n",
    "        print(\"initizlizing B\")\n",
    "\n",
    "    def fnX(self, x):\n",
    "        return 2*x\n",
    "\n",
    "    def printFnX(self, x):\n",
    "        print(\"ClassB:\", self.fnX(x))\n",
    "        ClassA.printFnX(self,x)\n",
    "\n",
    "bx = ClassB()\n",
    "bx.printFnX(3)"
   ]
  },
  {
   "cell_type": "code",
   "execution_count": null,
   "metadata": {
    "collapsed": true
   },
   "outputs": [],
   "source": [
    "# Base class definition\n",
    "class ClassA(object):\n",
    "    def __init__(self):\n",
    "        print(\"Initializing A\")\n",
    "\n",
    "    # hoping that this function is called by this class's printFnX\n",
    "    def fnX(self, x):\n",
    "        return x**2\n",
    "    __fnX = fnX\n",
    "\n",
    "    def printFnX(self, x):\n",
    "        print(\"ClassA:\",self.__fnX(x))\n",
    "\n",
    "# Inherits from ClassA above\n",
    "class ClassB(ClassA):\n",
    "    def __init__(self):\n",
    "        print(\"initizlizing B\")\n",
    "\n",
    "    def fnX(self, x):\n",
    "        return 2*x\n",
    "\n",
    "    def printFnX(self, x):\n",
    "        print(\"ClassB:\", self.fnX(x))\n",
    "        ClassA.printFnX(self,x)\n",
    "\n",
    "bx = ClassB()\n",
    "bx.printFnX(3)"
   ]
  },
  {
   "cell_type": "code",
   "execution_count": 3,
   "metadata": {
    "collapsed": false
   },
   "outputs": [
    {
     "name": "stdout",
     "output_type": "stream",
     "text": [
      "initizlizing B\n",
      "('ClassB:', 6)\n",
      "('ClassA:', 9)\n"
     ]
    }
   ],
   "source": [
    "class ClassA(object):\n",
    "\n",
    "    def __init__(self):\n",
    "        print(\"Initializing A\")\n",
    "\n",
    "    # hoping that this function is called by this class's printFnX\n",
    "    @classmethod\n",
    "    def fnX(self, x):\n",
    "        return x ** 2\n",
    "\n",
    "    @classmethod\n",
    "    def printFnX(self, x):\n",
    "        print(\"ClassA:\",self.fnX(x))\n",
    "\n",
    "class ClassB(ClassA):\n",
    "    def __init__(self):\n",
    "        print(\"initizlizing B\")\n",
    "\n",
    "    def fnX(self, x):\n",
    "        return 2*x\n",
    "\n",
    "    def printFnX(self, x):\n",
    "        print(\"ClassB:\", self.fnX(x))\n",
    "        ClassA.printFnX(x)\n",
    "\n",
    "\n",
    "bx = ClassB()\n",
    "bx.printFnX(3)"
   ]
  }
 ],
 "metadata": {
  "kernelspec": {
   "display_name": "Python 2",
   "language": "python",
   "name": "python2"
  },
  "language_info": {
   "codemirror_mode": {
    "name": "ipython",
    "version": 2
   },
   "file_extension": ".py",
   "mimetype": "text/x-python",
   "name": "python",
   "nbconvert_exporter": "python",
   "pygments_lexer": "ipython2",
   "version": "2.7.13"
  }
 },
 "nbformat": 4,
 "nbformat_minor": 2
}
