{
 "cells": [
  {
   "cell_type": "code",
   "execution_count": 1,
   "metadata": {
    "collapsed": false
   },
   "outputs": [
    {
     "name": "stdout",
     "output_type": "stream",
     "text": [
      "{'a': [1, 2, 3], 'c': [1], 'b': [1, 2]}\n"
     ]
    }
   ],
   "source": [
    "l = [\n",
    "('a', 1),\n",
    "('a', 2),\n",
    "('a', 3),\n",
    "('b', 1),\n",
    "('b', 2),\n",
    "('c', 1),\n",
    "]\n",
    "\n",
    "d = {}\n",
    "for x, y in l:\n",
    "    d.setdefault(x, []).append(y)\n",
    "print d"
   ]
  }
 ],
 "metadata": {
  "kernelspec": {
   "display_name": "Python [Root]",
   "language": "python",
   "name": "Python [Root]"
  },
  "language_info": {
   "codemirror_mode": {
    "name": "ipython",
    "version": 2
   },
   "file_extension": ".py",
   "mimetype": "text/x-python",
   "name": "python",
   "nbconvert_exporter": "python",
   "pygments_lexer": "ipython2",
   "version": "2.7.12"
  }
 },
 "nbformat": 4,
 "nbformat_minor": 0
}
