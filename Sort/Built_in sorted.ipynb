{
 "cells": [
  {
   "cell_type": "code",
   "execution_count": null,
   "metadata": {
    "collapsed": true
   },
   "outputs": [],
   "source": [
    "# Sorting Complex Structures using a Key\n",
    "#source: http://www.thegeekstuff.com/2014/06/python-sorted/"
   ]
  },
  {
   "cell_type": "code",
   "execution_count": 1,
   "metadata": {
    "collapsed": true
   },
   "outputs": [],
   "source": [
    "  >>> class Person(object):\n",
    "  ...     def __init__(self, name, age):\n",
    "  ...             self.name = name\n",
    "  ...             self.age = age\n",
    "  ...     def __repr__(self):\n",
    "  ...             return \"<name: %s, age: %s>\" % (self.name, self.age)\n",
    "  ... \n",
    "  >>> "
   ]
  },
  {
   "cell_type": "code",
   "execution_count": 2,
   "metadata": {
    "collapsed": true
   },
   "outputs": [],
   "source": [
    "  >>> jack = Person('Jack', 19)\n",
    "  >>> adam = Person('Adam', 43)\n",
    "  >>> becky = Person('Becky', 11)\n",
    "  >>> people = [jack, adam, becky]"
   ]
  },
  {
   "cell_type": "code",
   "execution_count": 3,
   "metadata": {
    "collapsed": true
   },
   "outputs": [],
   "source": [
    "  >>> def byName_key(person):\n",
    "  ...     return person.name\n",
    "  ... "
   ]
  },
  {
   "cell_type": "code",
   "execution_count": 4,
   "metadata": {
    "collapsed": false
   },
   "outputs": [
    {
     "data": {
      "text/plain": [
       "[<name: Adam, age: 43>, <name: Becky, age: 11>, <name: Jack, age: 19>]"
      ]
     },
     "execution_count": 4,
     "metadata": {},
     "output_type": "execute_result"
    }
   ],
   "source": [
    "  >>> sorted(people, key = byName_key)"
   ]
  }
 ],
 "metadata": {
  "kernelspec": {
   "display_name": "Python [Root]",
   "language": "python",
   "name": "Python [Root]"
  },
  "language_info": {
   "codemirror_mode": {
    "name": "ipython",
    "version": 2
   },
   "file_extension": ".py",
   "mimetype": "text/x-python",
   "name": "python",
   "nbconvert_exporter": "python",
   "pygments_lexer": "ipython2",
   "version": "2.7.12"
  }
 },
 "nbformat": 4,
 "nbformat_minor": 0
}
