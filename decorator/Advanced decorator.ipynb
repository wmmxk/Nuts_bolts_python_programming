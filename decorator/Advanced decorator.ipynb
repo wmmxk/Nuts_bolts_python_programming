{
 "cells": [
  {
   "cell_type": "code",
   "execution_count": null,
   "metadata": {
    "collapsed": true
   },
   "outputs": [],
   "source": [
    "#source:https://www.codementor.io/sheena/advanced-use-python-decorators-class-function-du107nxsv"
   ]
  },
  {
   "cell_type": "code",
   "execution_count": null,
   "metadata": {
    "collapsed": true
   },
   "outputs": [],
   "source": [
    "# The original function takes the same arguments as the new_function"
   ]
  },
  {
   "cell_type": "code",
   "execution_count": 3,
   "metadata": {
    "collapsed": false
   },
   "outputs": [
    {
     "name": "stdout",
     "output_type": "stream",
     "text": [
      "Elapsed Time = 0:00:05.005150\n"
     ]
    }
   ],
   "source": [
    "def time_this(original_function):      \n",
    "    def new_function(*args,**kwargs):\n",
    "        import datetime                 \n",
    "        before = datetime.datetime.now()                     \n",
    "        x = original_function(*args,**kwargs)                \n",
    "        after = datetime.datetime.now()                      \n",
    "        print \"Elapsed Time = {0}\".format(after-before)      \n",
    "        return x                                             \n",
    "    return new_function                                   \n",
    "    \n",
    "@time_this\n",
    "def func_a(stuff):\n",
    "    import time\n",
    "    time.sleep(stuff)\n",
    "\n",
    "func_a(5)"
   ]
  },
  {
   "cell_type": "code",
   "execution_count": null,
   "metadata": {
    "collapsed": true
   },
   "outputs": [],
   "source": [
    "# The decorator can also take in other arguments besides the function it is going to decorate"
   ]
  }
 ],
 "metadata": {
  "kernelspec": {
   "display_name": "Python 2",
   "language": "python",
   "name": "python2"
  },
  "language_info": {
   "codemirror_mode": {
    "name": "ipython",
    "version": 2
   },
   "file_extension": ".py",
   "mimetype": "text/x-python",
   "name": "python",
   "nbconvert_exporter": "python",
   "pygments_lexer": "ipython2",
   "version": "2.7.12"
  }
 },
 "nbformat": 4,
 "nbformat_minor": 0
}
