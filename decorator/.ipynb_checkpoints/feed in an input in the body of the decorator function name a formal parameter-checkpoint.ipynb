{
 "cells": [
  {
   "cell_type": "code",
   "execution_count": 54,
   "metadata": {
    "collapsed": false
   },
   "outputs": [
    {
     "data": {
      "text/plain": [
       "'conv_3'"
      ]
     },
     "execution_count": 54,
     "metadata": {},
     "output_type": "execute_result"
    }
   ],
   "source": [
    "layers = {'conv1':None,'conv2':None}\n",
    "prefix = 'conv'\n",
    "id = sum(t.startswith(prefix) for t,_ in layers.items())+1\n",
    "'%s_%d'%(prefix,id)"
   ]
  },
  {
   "cell_type": "code",
   "execution_count": 55,
   "metadata": {
    "collapsed": true
   },
   "outputs": [],
   "source": [
    "def get_unique_name(prefix):\n",
    "    id = sum(t.startswith(prefix) for t,_ in layers.items())+1\n",
    "    return '%s_%d'%(prefix,id)"
   ]
  },
  {
   "cell_type": "code",
   "execution_count": 90,
   "metadata": {
    "collapsed": false
   },
   "outputs": [],
   "source": [
    "from random import randint"
   ]
  },
  {
   "cell_type": "code",
   "execution_count": 91,
   "metadata": {
    "collapsed": true
   },
   "outputs": [],
   "source": [
    "def layer(op):\n",
    "    def layer_decorated(*args,**kwargs):\n",
    "        name = kwargs.setdefault('name',get_unique_name(op.__name__))\n",
    "        print kwargs\n",
    "        input = randint(0, 9)\n",
    "        out = op(input,*args,**kwargs)\n",
    "        layers[name] = out\n",
    "        return layers\n",
    "    return layer_decorated"
   ]
  },
  {
   "cell_type": "code",
   "execution_count": 92,
   "metadata": {
    "collapsed": false
   },
   "outputs": [],
   "source": [
    "@layer\n",
    "def conv(input,k_h,k_w,name):\n",
    "    print name\n",
    "    return input"
   ]
  },
  {
   "cell_type": "code",
   "execution_count": 93,
   "metadata": {
    "collapsed": false
   },
   "outputs": [
    {
     "name": "stdout",
     "output_type": "stream",
     "text": [
      "{'name': 'conv1_1'}\n",
      "conv1_1\n"
     ]
    },
    {
     "data": {
      "text/plain": [
       "{'conv1': None, 'conv1_1': 6, 'conv2': None}"
      ]
     },
     "execution_count": 93,
     "metadata": {},
     "output_type": "execute_result"
    }
   ],
   "source": [
    "conv(5,5,name=\"conv1_1\")"
   ]
  },
  {
   "cell_type": "code",
   "execution_count": 94,
   "metadata": {
    "collapsed": false
   },
   "outputs": [
    {
     "data": {
      "text/plain": [
       "{'conv1': None, 'conv1_1': 6, 'conv2': None}"
      ]
     },
     "execution_count": 94,
     "metadata": {},
     "output_type": "execute_result"
    }
   ],
   "source": [
    "layers"
   ]
  }
 ],
 "metadata": {
  "kernelspec": {
   "display_name": "Python 2",
   "language": "python",
   "name": "python2"
  },
  "language_info": {
   "codemirror_mode": {
    "name": "ipython",
    "version": 2
   },
   "file_extension": ".py",
   "mimetype": "text/x-python",
   "name": "python",
   "nbconvert_exporter": "python",
   "pygments_lexer": "ipython2",
   "version": "2.7.12"
  }
 },
 "nbformat": 4,
 "nbformat_minor": 0
}
