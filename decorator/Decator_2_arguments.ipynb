{
 "cells": [
  {
   "cell_type": "code",
   "execution_count": null,
   "metadata": {
    "collapsed": true
   },
   "outputs": [],
   "source": [
    "# the number of arguments before and after decoration can be different"
   ]
  },
  {
   "cell_type": "code",
   "execution_count": 1,
   "metadata": {
    "collapsed": true
   },
   "outputs": [],
   "source": [
    "def myFunction(in_function):\n",
    "   def out_function():\n",
    "      print \"Entry: \", in_function.__name__\n",
    "      in_function()\n",
    "      print \"Exit: \", in_function.__name__\n",
    "   return out_function"
   ]
  },
  {
   "cell_type": "code",
   "execution_count": 4,
   "metadata": {
    "collapsed": true
   },
   "outputs": [],
   "source": [
    "@myFunction\n",
    "def simple_function():\n",
    "   print \"codes before extension\""
   ]
  },
  {
   "cell_type": "code",
   "execution_count": 5,
   "metadata": {
    "collapsed": false,
    "scrolled": true
   },
   "outputs": [
    {
     "name": "stdout",
     "output_type": "stream",
     "text": [
      "Entry:  simple_function\n",
      "codes before extension\n",
      "Exit:  simple_function\n"
     ]
    }
   ],
   "source": [
    "simple_function()"
   ]
  },
  {
   "cell_type": "code",
   "execution_count": 11,
   "metadata": {
    "collapsed": false
   },
   "outputs": [
    {
     "name": "stdout",
     "output_type": "stream",
     "text": [
      "amount 3\n",
      "tax_rate 1\n",
      "$11\n"
     ]
    }
   ],
   "source": [
    "def dollar(fn):\n",
    "    def new(*args,**kwargs):\n",
    "        # the 'input' argument for fn is hardcoded here\n",
    "        return '$' + str(fn(2,*args,**kwargs))\n",
    "    return new\n",
    "\n",
    "@dollar\n",
    "def price(input,amount, tax_rate,d1=2,d2=3):\n",
    "    print \"amount\", amount\n",
    "    print \"tax_rate\",tax_rate\n",
    "    return input+amount*tax_rate+d1+d2\n",
    "   \n",
    "print price(3,1,2,4)"
   ]
  },
  {
   "cell_type": "code",
   "execution_count": 12,
   "metadata": {
    "collapsed": false
   },
   "outputs": [
    {
     "data": {
      "text/plain": [
       "10"
      ]
     },
     "execution_count": 12,
     "metadata": {},
     "output_type": "execute_result"
    }
   ],
   "source": [
    "\n"
   ]
  }
 ],
 "metadata": {
  "kernelspec": {
   "display_name": "Python 2",
   "language": "python",
   "name": "python2"
  },
  "language_info": {
   "codemirror_mode": {
    "name": "ipython",
    "version": 2
   },
   "file_extension": ".py",
   "mimetype": "text/x-python",
   "name": "python",
   "nbconvert_exporter": "python",
   "pygments_lexer": "ipython2",
   "version": "2.7.12"
  }
 },
 "nbformat": 4,
 "nbformat_minor": 2
}
