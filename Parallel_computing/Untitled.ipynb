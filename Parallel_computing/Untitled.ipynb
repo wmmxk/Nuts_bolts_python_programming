{
 "cells": [
  {
   "cell_type": "code",
   "execution_count": null,
   "metadata": {
    "collapsed": true
   },
   "outputs": [],
   "source": [
    "source:http://sebastianraschka.com/Articles/2014_multiprocessing.html"
   ]
  },
  {
   "cell_type": "code",
   "execution_count": 17,
   "metadata": {
    "collapsed": false
   },
   "outputs": [
    {
     "name": "stdout",
     "output_type": "stream",
     "text": [
      "0.808487176895\n"
     ]
    }
   ],
   "source": [
    "import multiprocessing as mp\n",
    "import random\n",
    "import string\n",
    "import time\n",
    "def cube(x):\n",
    "    return x**3\n",
    "n=7000\n",
    "\n",
    "t0 = time.time()\n",
    "pool = mp.Pool(processes=2)\n",
    "results = [pool.apply(cube, args=(x,)) for x in range(1,n)]\n",
    "\n",
    "t1 = time.time()\n",
    "total = t1-t0\n",
    "print total"
   ]
  },
  {
   "cell_type": "code",
   "execution_count": 18,
   "metadata": {
    "collapsed": false
   },
   "outputs": [
    {
     "name": "stdout",
     "output_type": "stream",
     "text": [
      "0.0065279006958\n"
     ]
    }
   ],
   "source": [
    "\n",
    "t0 = time.time()\n",
    "results=[]\n",
    "for i in range(1,n):\n",
    "    results.append(cube(x))\n",
    "t1 = time.time()\n",
    "total = t1-t0\n",
    "print total"
   ]
  }
 ],
 "metadata": {
  "kernelspec": {
   "display_name": "Python [Root]",
   "language": "python",
   "name": "Python [Root]"
  },
  "language_info": {
   "codemirror_mode": {
    "name": "ipython",
    "version": 2
   },
   "file_extension": ".py",
   "mimetype": "text/x-python",
   "name": "python",
   "nbconvert_exporter": "python",
   "pygments_lexer": "ipython2",
   "version": "2.7.12"
  }
 },
 "nbformat": 4,
 "nbformat_minor": 0
}
