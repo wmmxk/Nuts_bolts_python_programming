{
 "cells": [
  {
   "cell_type": "code",
   "execution_count": null,
   "metadata": {
    "collapsed": true
   },
   "outputs": [],
   "source": [
    "what is __name__?\n",
    "Before executing the code, it will define a few special variables. It the python interpreter is running that\n",
    "source file as the main program, it sets the special __name__ variable to have a value \"__main__\"\n",
    "\n",
    "It this file is being imported from another module, __name__ will be set to the module's name.\n"
   ]
  },
  {
   "cell_type": "code",
   "execution_count": null,
   "metadata": {
    "collapsed": true
   },
   "outputs": [],
   "source": [
    "When your script is run by passing it as a command to the Python interpreter,\n",
    "all of the code that is at indentation level 0 gets executed. Functions and classes taht are defined but none\n",
    "of their code gets ran."
   ]
  },
  {
   "cell_type": "code",
   "execution_count": null,
   "metadata": {
    "collapsed": true
   },
   "outputs": [],
   "source": [
    "run mymodule.py in terminal\n",
    "python mymodule.py"
   ]
  },
  {
   "cell_type": "code",
   "execution_count": 2,
   "metadata": {
    "collapsed": false,
    "scrolled": true
   },
   "outputs": [
    {
     "name": "stdout",
     "output_type": "stream",
     "text": [
      "i am from my_module.py\n",
      "my_module\n"
     ]
    }
   ],
   "source": [
    "import my_module\n",
    "my_module.hello()\n",
    "print my_module.__name__"
   ]
  },
  {
   "cell_type": "code",
   "execution_count": 3,
   "metadata": {
    "collapsed": false
   },
   "outputs": [
    {
     "name": "stdout",
     "output_type": "stream",
     "text": [
      "Executing as main program\n",
      "('Value of __name__ is: ', '__main__')\n",
      "i am from my_module.py\n"
     ]
    }
   ],
   "source": [
    "%run my_module.py # this is equivalent to python mymodule.py"
   ]
  }
 ],
 "metadata": {
  "kernelspec": {
   "display_name": "Python [Root]",
   "language": "python",
   "name": "Python [Root]"
  },
  "language_info": {
   "codemirror_mode": {
    "name": "ipython",
    "version": 2
   },
   "file_extension": ".py",
   "mimetype": "text/x-python",
   "name": "python",
   "nbconvert_exporter": "python",
   "pygments_lexer": "ipython2",
   "version": "2.7.12"
  }
 },
 "nbformat": 4,
 "nbformat_minor": 0
}
