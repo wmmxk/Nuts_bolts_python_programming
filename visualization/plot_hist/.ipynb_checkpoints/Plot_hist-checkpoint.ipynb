{
 "cells": [
  {
   "cell_type": "code",
   "execution_count": 3,
   "metadata": {
    "collapsed": true
   },
   "outputs": [],
   "source": [
    "import pylab as pl\n",
    "import numpy as np\n",
    "\n",
    "data = np.random.normal(size=10000)\n",
    "pl.hist(data, bins=np.logspace(0.1, 1.0, 50))\n",
    "pl.gca().set_xscale(\"log\")\n",
    "pl.show()"
   ]
  },
  {
   "cell_type": "code",
   "execution_count": 5,
   "metadata": {
    "collapsed": true
   },
   "outputs": [],
   "source": [
    "\"\"\"\n",
    "Make a histogram of normally distributed random numbers and plot the\n",
    "analytic PDF over it\n",
    "\"\"\"\n",
    "import numpy as np\n",
    "import matplotlib.pyplot as plt\n",
    "import matplotlib.mlab as mlab\n",
    "\n",
    "mu, sigma = 100, 15\n",
    "x = mu + sigma * np.random.randn(10000)\n",
    "\n",
    "fig = plt.figure()\n",
    "ax = fig.add_subplot(111)\n",
    "\n",
    "# the histogram of the data\n",
    "n, bins, patches = ax.hist(x, 50, normed=1, facecolor='green', alpha=0.75)\n",
    "\n",
    "# hist uses np.histogram under the hood to create 'n' and 'bins'.\n",
    "# np.histogram returns the bin edges, so there will be 50 probability\n",
    "# density values in n, 51 bin edges in bins and 50 patches.  To get\n",
    "# everything lined up, we'll compute the bin centers\n",
    "bincenters = 0.5*(bins[1:]+bins[:-1])\n",
    "# add a 'best fit' line for the normal PDF\n",
    "#y = mlab.normpdf( bincenters, mu, sigma)\n",
    "#l = ax.plot(bincenters, y, 'r--', linewidth=1)\n",
    "\n",
    "ax.set_xlabel('Smarts')\n",
    "ax.set_ylabel('Probability')\n",
    "#ax.set_title(r'$\\mathrm{Histogram\\ of\\ IQ:}\\ \\mu=100,\\ \\sigma=15$')\n",
    "ax.set_xlim(40, 160)\n",
    "ax.set_ylim(0, 0.03)\n",
    "ax.grid(True)\n",
    "\n",
    "plt.show()"
   ]
  },
  {
   "cell_type": "code",
   "execution_count": 6,
   "metadata": {
    "collapsed": true
   },
   "outputs": [],
   "source": [
    "import numpy as np\n",
    "import matplotlib.pyplot as plt\n",
    "\n",
    "mu, sigma = 100, 15\n",
    "x = mu + sigma * np.random.randn(10000)\n",
    "\n",
    "bins, edges = np.histogram(x, 50, normed=1)\n",
    "left,right = edges[:-1],edges[1:]\n",
    "X = np.array([left,right]).T.flatten()\n",
    "Y = np.array([bins,bins]).T.flatten()\n",
    "\n",
    "plt.plot(X,Y)\n",
    "plt.show()"
   ]
  }
 ],
 "metadata": {
  "kernelspec": {
   "display_name": "Python [Root]",
   "language": "python",
   "name": "Python [Root]"
  },
  "language_info": {
   "codemirror_mode": {
    "name": "ipython",
    "version": 2
   },
   "file_extension": ".py",
   "mimetype": "text/x-python",
   "name": "python",
   "nbconvert_exporter": "python",
   "pygments_lexer": "ipython2",
   "version": "2.7.12"
  }
 },
 "nbformat": 4,
 "nbformat_minor": 0
}
