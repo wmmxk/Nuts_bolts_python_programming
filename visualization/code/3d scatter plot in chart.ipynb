{
 "cells": [
  {
   "cell_type": "code",
   "execution_count": null,
   "metadata": {
    "collapsed": true
   },
   "outputs": [],
   "source": [
    "source: http://www.advsofteng.com/doc/cdpydoc/threedscatter.htm"
   ]
  },
  {
   "cell_type": "code",
   "execution_count": null,
   "metadata": {
    "collapsed": true
   },
   "outputs": [],
   "source": [
    "python中要使用pychartdir的绘图的话需要安装pychartdir模块，其安装方法不同于其他python模块的安装。\n",
    "\n",
    "1.先下载pychartdir，可从官网http://www.advsofteng.com/download.html下载对应的zip包\n",
    "2. uncompress and add the path, /ChartDirector/lib, to python import path"
   ]
  },
  {
   "cell_type": "code",
   "execution_count": null,
   "metadata": {
    "collapsed": true
   },
   "outputs": [],
   "source": [
    "from pychartdir import *\n",
    "\n",
    "# The XYZ data for the 3D scatter chart as 3 random data series\n",
    "r = RanSeries(0)\n",
    "xData = r.getSeries2(100, 100, -10, 10)\n",
    "yData = r.getSeries2(100, 0, 0, 20)\n",
    "zData = r.getSeries2(100, 100, -10, 10)\n",
    "\n",
    "# Create a ThreeDScatterChart object of size 720 x 600 pixels\n",
    "c = ThreeDScatterChart(720, 600)\n",
    "\n",
    "# Add a title to the chart using 20 points Times New Roman Italic font\n",
    "c.addTitle(\"3D Scatter Chart (1)  \", \"timesi.ttf\", 20)\n",
    "\n",
    "# Set the center of the plot region at (350, 280), and set width x depth x height to 360 x 360 x 270\n",
    "# pixels\n",
    "c.setPlotRegion(350, 280, 360, 360, 270)\n",
    "\n",
    "# Add a scatter group to the chart using 11 pixels glass sphere symbols, in which the color depends\n",
    "# on the z value of the symbol\n",
    "c.addScatterGroup(xData, yData, zData, \"\", GlassSphere2Shape, 11, SameAsMainColor)\n",
    "\n",
    "# Add a color axis (the legend) in which the left center is anchored at (645, 270). Set the length\n",
    "# to 200 pixels and the labels on the right side.\n",
    "c.setColorAxis(645, 270, Left, 200, Right)\n",
    "\n",
    "# Set the x, y and z axis titles using 10 points Arial Bold font\n",
    "c.xAxis().setTitle(\"X-Axis Place Holder\", \"arialbd.ttf\", 10)\n",
    "c.yAxis().setTitle(\"Y-Axis Place Holder\", \"arialbd.ttf\", 10)\n",
    "c.zAxis().setTitle(\"Z-Axis Place Holder\", \"arialbd.ttf\", 10)\n",
    "\n",
    "# Output the chart\n",
    "c.makeChart(\"threedscatter.png\")"
   ]
  }
 ],
 "metadata": {
  "kernelspec": {
   "display_name": "Python [Root]",
   "language": "python",
   "name": "Python [Root]"
  },
  "language_info": {
   "codemirror_mode": {
    "name": "ipython",
    "version": 2
   },
   "file_extension": ".py",
   "mimetype": "text/x-python",
   "name": "python",
   "nbconvert_exporter": "python",
   "pygments_lexer": "ipython2",
   "version": "2.7.12"
  }
 },
 "nbformat": 4,
 "nbformat_minor": 2
}
