{
 "cells": [
  {
   "cell_type": "markdown",
   "metadata": {},
   "source": [
    "#source: https://stackoverflow.com/questions/13781025/matplotlib-contour-from-xyz-data-griddata-invalid-index"
   ]
  },
  {
   "cell_type": "code",
   "execution_count": 1,
   "metadata": {
    "collapsed": false
   },
   "outputs": [],
   "source": [
    "import numpy as np\n",
    "import matplotlib.pyplot as plt\n",
    "import matplotlib.mlab as ml\n",
    "\n",
    "ndata = 10\n",
    "ny, nx = 100, 200\n",
    "xmin, xmax = 1, 10\n",
    "ymin, ymax = 1, 10\n",
    "# x = np.linspace(1, 10, ndata)\n",
    "# y = np.linspace(1, 10, ndata)\n",
    "\n",
    "x = np.random.randint(xmin, xmax, ndata)\n",
    "y = np.random.randint(ymin, ymax, ndata)\n",
    "z = np.random.random(ndata)\n",
    "\n",
    "xi = np.linspace(xmin, xmax, nx)\n",
    "yi = np.linspace(ymin, ymax, ny)\n",
    "zi = ml.griddata(x, y, z, xi, yi,interp='linear')\n",
    "plt.contour(xi, yi, zi, 15, linewidths = 0.5, colors = 'k')\n",
    "plt.pcolormesh(xi, yi, zi, cmap = plt.get_cmap('rainbow'))\n",
    "\n",
    "plt.colorbar() \n",
    "plt.scatter(x, y, marker = 'o', c = 'b', s = 5, zorder = 10)\n",
    "plt.xlim(xmin, xmax)\n",
    "plt.ylim(ymin, ymax)\n",
    "plt.show()\n"
   ]
  },
  {
   "cell_type": "code",
   "execution_count": 2,
   "metadata": {
    "collapsed": true
   },
   "outputs": [],
   "source": [
    "\n",
    "# on your data"
   ]
  },
  {
   "cell_type": "code",
   "execution_count": 3,
   "metadata": {
    "collapsed": false
   },
   "outputs": [],
   "source": [
    "\n",
    "import numpy as np\n",
    "import matplotlib.pyplot as plt\n",
    "import matplotlib.mlab as ml\n",
    "import pandas as pd\n",
    "data = pd.read_csv('../data/Duration_fixed.csv').values[:30001,]\n",
    "# the nubmer of data points matters. Sometimes it spit an error\n"
   ]
  },
  {
   "cell_type": "code",
   "execution_count": 4,
   "metadata": {
    "collapsed": true
   },
   "outputs": [],
   "source": [
    "x,y, z = data[:,0], data[:,1], data[:,2]\n",
    "xmin, xmax = np.min(x), np.max(x)\n",
    "ymin, ymax = np.min(y), np.max(y)"
   ]
  },
  {
   "cell_type": "code",
   "execution_count": 5,
   "metadata": {
    "collapsed": false
   },
   "outputs": [],
   "source": [
    "\n",
    "ny, nx = 200,100\n",
    "\n",
    "xi = np.linspace(xmin, xmax, nx)\n",
    "yi = np.linspace(ymin, ymax, ny)\n",
    "\n",
    "zi = ml.griddata(x, y, z, xi, yi,interp='linear')\n"
   ]
  },
  {
   "cell_type": "code",
   "execution_count": null,
   "metadata": {
    "collapsed": true
   },
   "outputs": [],
   "source": [
    "f = plt.figure()\n",
    "plt.contour(xi, yi, zi, 15, linewidths = 0.5, colors = 'k')\n",
    "plt.pcolormesh(xi, yi, zi, cmap = plt.get_cmap('Pastel2'))\n",
    "\n",
    "plt.colorbar() \n",
    "plt.scatter(1.49, 42.5, marker = '*', color = 'b', s = 12, zorder = 10)\n",
    "plt.scatter(0.32, 43.9, marker = '*', color = 'r', s = 12, zorder = 10)\n",
    "\n",
    "plt.xlim(xmin, xmax)\n",
    "plt.ylim(ymin, ymax)\n",
    "#plt.show()\n",
    "\n",
    "\n",
    "f.savefig(\"../out_fig/foo.pdf\", bbox_inches='tight')"
   ]
  },
  {
   "cell_type": "code",
   "execution_count": null,
   "metadata": {
    "collapsed": true
   },
   "outputs": [],
   "source": []
  }
 ],
 "metadata": {
  "kernelspec": {
   "display_name": "Python [Root]",
   "language": "python",
   "name": "Python [Root]"
  },
  "language_info": {
   "codemirror_mode": {
    "name": "ipython",
    "version": 2
   },
   "file_extension": ".py",
   "mimetype": "text/x-python",
   "name": "python",
   "nbconvert_exporter": "python",
   "pygments_lexer": "ipython2",
   "version": "2.7.12"
  }
 },
 "nbformat": 4,
 "nbformat_minor": 2
}
