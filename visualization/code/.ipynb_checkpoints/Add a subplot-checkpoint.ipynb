{
 "cells": [
  {
   "cell_type": "code",
   "execution_count": null,
   "metadata": {
    "collapsed": true
   },
   "outputs": [],
   "source": [
    "import numpy as np\n",
    "from matplotlib import pyplot as plt\n",
    "\n",
    "# Generate the main data\n",
    "X = np.linspace(-6, 6, 1024)\n",
    "Y = np.sinc(X)\n",
    "\n",
    "# Generate data for the zoomed portion\n",
    "X_detail = np.linspace(-3, 3, 1024)\n",
    "Y_detail = np.sinc(X_detail)\n",
    "\n",
    "# plot the main figure\n",
    "plt.plot(X, Y, c = 'k')  \n",
    "\n",
    "\n",
    "\n",
    " # location for the zoomed portion \n",
    "sub_axes = plt.axes([.6, .6, .25, .25]) \n",
    "\n",
    "# plot the zoomed portion\n",
    "sub_axes.plot(X_detail, Y_detail, c = 'k') \n",
    "sub_axes.set_ylim([0.5,1])\n",
    "# insert the zoomed figure\n",
    "# plt.setp(sub_axes)\n",
    "\n",
    "plt.show()"
   ]
  }
 ],
 "metadata": {
  "kernelspec": {
   "display_name": "Python [tf0.12]",
   "language": "python",
   "name": "Python [tf0.12]"
  }
 },
 "nbformat": 4,
 "nbformat_minor": 2
}
