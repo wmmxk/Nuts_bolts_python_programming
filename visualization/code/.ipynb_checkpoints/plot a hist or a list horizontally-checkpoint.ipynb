{
 "cells": [
  {
   "cell_type": "code",
   "execution_count": 1,
   "metadata": {},
   "outputs": [],
   "source": [
    "import matplotlib.pyplot as plt\n",
    "\n",
    "\n",
    "def count_freq(data):\n",
    "    freq = {}\n",
    "    for each in data:\n",
    "        try:\n",
    "            freq[each]+=1\n",
    "        except:\n",
    "            freq[each]=1\n",
    "    return freq\n",
    "\n"
   ]
  },
  {
   "cell_type": "code",
   "execution_count": 3,
   "metadata": {},
   "outputs": [],
   "source": [
    "# create a dict and ge the count for each key\n",
    "data=[\"good\", \"good\", \"bad\", \"bad\", \"bad\", \"OK\"]\n",
    "freqs = count_freq(data)\n",
    "keys, values = zip(*sorted(freqs.items(), key=lambda x: x[1], reverse=True))"
   ]
  },
  {
   "cell_type": "code",
   "execution_count": 7,
   "metadata": {},
   "outputs": [
    {
     "data": {
      "image/png": "[encoded data removed]",
      "text/plain": [
       "<Figure size 640x480 with 1 Axes>"
      ]
     },
     "metadata": {},
     "output_type": "display_data"
    }
   ],
   "source": [
    "plt.rcdefaults()\n",
    "fig, ax = plt.subplots()\n",
    "\n",
    "\n",
    "y_pos = range(len(keys))\n",
    "\n",
    "ax.barh(y_pos, values, align='center')\n",
    "ax.set_yticks(y_pos)\n",
    "ax.set_yticklabels(keys)\n",
    "\n",
    "ax.invert_yaxis() \n",
    "ax.set_xlabel('Performance')\n",
    "\n",
    "\n",
    "plt.show()"
   ]
  }
 ],
 "metadata": {
  "kernelspec": {
   "display_name": "Python 3",
   "language": "python",
   "name": "python3"
  },
  "language_info": {
   "codemirror_mode": {
    "name": "ipython",
    "version": 3
   },
   "file_extension": ".py",
   "mimetype": "text/x-python",
   "name": "python",
   "nbconvert_exporter": "python",
   "pygments_lexer": "ipython3",
   "version": "3.6.5"
  }
 },
 "nbformat": 4,
 "nbformat_minor": 2
}
