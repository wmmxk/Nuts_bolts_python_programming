{
 "cells": [
  {
   "cell_type": "code",
   "execution_count": 5,
   "metadata": {
    "collapsed": true
   },
   "outputs": [],
   "source": [
    "import numpy as np\n",
    "import matplotlib.pyplot as plt\n",
    "import matplotlib\n",
    "\n",
    "font = {'family': 'normal',\n",
    "        'size': 16}\n",
    "matplotlib.rc('font', **font)\n",
    "matplotlib.rcParams['axes.linewidth'] = 0.2\n",
    "matplotlib.rcParams['xtick.major.width'] = 0.2\n",
    "matplotlib.rcParams['ytick.major.width'] = 0.2"
   ]
  },
  {
   "cell_type": "code",
   "execution_count": 37,
   "metadata": {},
   "outputs": [],
   "source": [
    "num = 10\n",
    "# the data to visualize\n",
    "data = [np.random.rand(5,num), np.random.rand(5,num)]\n",
    "\n",
    "colors = [['red'] * num, ['cyan']*num]\n",
    "\n",
    "group_width = 5\n",
    "box_width = 1.5\n",
    "\n",
    "positions_1 = [i for i in range(1,group_width*data[0].shape[1]+1,group_width)]\n",
    "positions_2 = [i + box_width + 0.2 for i in positions_1]\n",
    "\n",
    "positions = [positions_1, positions_2]\n",
    "labels = [\"Male\",\"Female\"]"
   ]
  },
  {
   "cell_type": "code",
   "execution_count": 41,
   "metadata": {},
   "outputs": [
    {
     "name": "stderr",
     "output_type": "stream",
     "text": [
      "/home/wxk/anaconda2/envs/py3/lib/python3.6/site-packages/matplotlib/font_manager.py:1320: UserWarning: findfont: Font family ['normal'] not found. Falling back to DejaVu Sans\n",
      "  (prop.get_family(), self.defaultFamily[fontext]))\n"
     ]
    },
    {
     "data": {
      "image/png": "[encoded data removed]",
      "text/plain": [
       "<matplotlib.figure.Figure at 0x7f4d73500588>"
      ]
     },
     "metadata": {},
     "output_type": "display_data"
    }
   ],
   "source": [
    "\n",
    "\n",
    "\n",
    "xtick_positions = [i+box_width for i in positions_1[::group_width]]\n",
    "xticks = [1+i//group_width for i in positions_1[::group_width]]\n",
    "\n",
    "\n",
    "linewidth = 0.7\n",
    "marksize = 0.5\n",
    "\n",
    "\n",
    "fig, ax = plt.subplots(figsize=(12,8))\n",
    "bps = []\n",
    "\n",
    "for i in range(2):\n",
    "    bp = plt.boxplot(data[i],positions= positions[i],widths = box_width,patch_artist=True)\n",
    "    bps.append(bp)\n",
    "\n",
    "    # customize the box plot color except the box width\n",
    "    # color each box\n",
    "    for patch, color in zip(bp['boxes'], colors[i]):\n",
    "        patch.set_facecolor(color)\n",
    "\n",
    "        # set the box color half-transparent, so the meadian bar is visible even if it is the same color\n",
    "        patch.set_alpha(0.5)\n",
    "\n",
    "    for element in ['boxes','whiskers', 'fliers', 'means', 'medians', 'caps']:\n",
    "        plt.setp(bp[element], color= colors[i][0],linewidth = linewidth)\n",
    "    plt.setp(bp[\"fliers\"], markeredgecolor= colors[i][0],markersize=marksize)\n",
    "    \n",
    "ax.legend([bps[0][\"boxes\"][0], bps[1][\"boxes\"][0]], labels, loc='upper right')\n",
    "\n",
    "# plot the labels\n",
    "plt.xlabel('Number of samples')\n",
    "plt.ylabel('Gap in MAE')\n",
    "#plot the xticks\n",
    "plt.xticks(xtick_positions, xticks)\n",
    "\n",
    "# set the range of the figure\n",
    "plt.xlim(xtick_positions[0]-3, positions[1][-1])\n",
    "\n",
    "plt.show()"
   ]
  },
  {
   "cell_type": "code",
   "execution_count": null,
   "metadata": {
    "collapsed": true
   },
   "outputs": [],
   "source": []
  }
 ],
 "metadata": {
  "kernelspec": {
   "display_name": "Python 3",
   "language": "python",
   "name": "python3"
  },
  "language_info": {
   "codemirror_mode": {
    "name": "ipython",
    "version": 3
   },
   "file_extension": ".py",
   "mimetype": "text/x-python",
   "name": "python",
   "nbconvert_exporter": "python",
   "pygments_lexer": "ipython3",
   "version": "3.6.1"
  }
 },
 "nbformat": 4,
 "nbformat_minor": 2
}
