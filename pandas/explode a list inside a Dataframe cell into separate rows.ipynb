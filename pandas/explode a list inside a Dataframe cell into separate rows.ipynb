{
 "cells": [
  {
   "cell_type": "code",
   "execution_count": 5,
   "metadata": {
    "collapsed": true
   },
   "outputs": [],
   "source": [
    "import pandas as pd\n",
    "df = (pd.DataFrame({'name': ['A.J. Price'] * 3, \n",
    "                    'opponent': ['76ers', 'blazers', 'bobcats'], \n",
    "                    'nearest_neighbors': [['Zach LaVine', 'Jeremy Lin', 'Nate Robinson', 'Isaia'],\n",
    "                                         ['Zach LaVine', 'Jeremy Lin', 'Nate Robinson', 'Isaia'],\n",
    "                                         ['Zach LaVine', 'Jeremy Lin', 'Nate Robinson']]})\n",
    "      .set_index(['name', 'opponent']))"
   ]
  },
  {
   "cell_type": "code",
   "execution_count": 6,
   "metadata": {
    "collapsed": false,
    "scrolled": true
   },
   "outputs": [
    {
     "data": {
      "text/html": [
       "<div>\n",
       "<table border=\"1\" class=\"dataframe\">\n",
       "  <thead>\n",
       "    <tr style=\"text-align: right;\">\n",
       "      <th></th>\n",
       "      <th></th>\n",
       "      <th>nearest_neighbors</th>\n",
       "    </tr>\n",
       "    <tr>\n",
       "      <th>name</th>\n",
       "      <th>opponent</th>\n",
       "      <th></th>\n",
       "    </tr>\n",
       "  </thead>\n",
       "  <tbody>\n",
       "    <tr>\n",
       "      <th rowspan=\"3\" valign=\"top\">A.J. Price</th>\n",
       "      <th>76ers</th>\n",
       "      <td>[Zach LaVine, Jeremy Lin, Nate Robinson, Isaia]</td>\n",
       "    </tr>\n",
       "    <tr>\n",
       "      <th>blazers</th>\n",
       "      <td>[Zach LaVine, Jeremy Lin, Nate Robinson, Isaia]</td>\n",
       "    </tr>\n",
       "    <tr>\n",
       "      <th>bobcats</th>\n",
       "      <td>[Zach LaVine, Jeremy Lin, Nate Robinson]</td>\n",
       "    </tr>\n",
       "  </tbody>\n",
       "</table>\n",
       "</div>"
      ],
      "text/plain": [
       "                                                   nearest_neighbors\n",
       "name       opponent                                                 \n",
       "A.J. Price 76ers     [Zach LaVine, Jeremy Lin, Nate Robinson, Isaia]\n",
       "           blazers   [Zach LaVine, Jeremy Lin, Nate Robinson, Isaia]\n",
       "           bobcats          [Zach LaVine, Jeremy Lin, Nate Robinson]"
      ]
     },
     "execution_count": 6,
     "metadata": {},
     "output_type": "execute_result"
    }
   ],
   "source": [
    "df"
   ]
  },
  {
   "cell_type": "code",
   "execution_count": 7,
   "metadata": {
    "collapsed": false,
    "scrolled": true
   },
   "outputs": [
    {
     "data": {
      "text/html": [
       "<div>\n",
       "<table border=\"1\" class=\"dataframe\">\n",
       "  <thead>\n",
       "    <tr style=\"text-align: right;\">\n",
       "      <th></th>\n",
       "      <th>name</th>\n",
       "      <th>opponent</th>\n",
       "      <th>nearest_neighbors</th>\n",
       "    </tr>\n",
       "  </thead>\n",
       "  <tbody>\n",
       "    <tr>\n",
       "      <th>0</th>\n",
       "      <td>A.J. Price</td>\n",
       "      <td>76ers</td>\n",
       "      <td>[Zach LaVine, Jeremy Lin, Nate Robinson, Isaia]</td>\n",
       "    </tr>\n",
       "    <tr>\n",
       "      <th>1</th>\n",
       "      <td>A.J. Price</td>\n",
       "      <td>blazers</td>\n",
       "      <td>[Zach LaVine, Jeremy Lin, Nate Robinson, Isaia]</td>\n",
       "    </tr>\n",
       "    <tr>\n",
       "      <th>2</th>\n",
       "      <td>A.J. Price</td>\n",
       "      <td>bobcats</td>\n",
       "      <td>[Zach LaVine, Jeremy Lin, Nate Robinson]</td>\n",
       "    </tr>\n",
       "  </tbody>\n",
       "</table>\n",
       "</div>"
      ],
      "text/plain": [
       "         name opponent                                nearest_neighbors\n",
       "0  A.J. Price    76ers  [Zach LaVine, Jeremy Lin, Nate Robinson, Isaia]\n",
       "1  A.J. Price  blazers  [Zach LaVine, Jeremy Lin, Nate Robinson, Isaia]\n",
       "2  A.J. Price  bobcats         [Zach LaVine, Jeremy Lin, Nate Robinson]"
      ]
     },
     "execution_count": 7,
     "metadata": {},
     "output_type": "execute_result"
    }
   ],
   "source": [
    "df.reset_index(inplace=True)\n",
    "df"
   ]
  },
  {
   "cell_type": "code",
   "execution_count": 8,
   "metadata": {
    "collapsed": false
   },
   "outputs": [
    {
     "data": {
      "text/plain": [
       "[['A.J. Price', '76ers', 'Zach LaVine'],\n",
       " ['A.J. Price', '76ers', 'Jeremy Lin'],\n",
       " ['A.J. Price', '76ers', 'Nate Robinson'],\n",
       " ['A.J. Price', '76ers', 'Isaia'],\n",
       " ['A.J. Price', 'blazers', 'Zach LaVine'],\n",
       " ['A.J. Price', 'blazers', 'Jeremy Lin'],\n",
       " ['A.J. Price', 'blazers', 'Nate Robinson'],\n",
       " ['A.J. Price', 'blazers', 'Isaia'],\n",
       " ['A.J. Price', 'bobcats', 'Zach LaVine'],\n",
       " ['A.J. Price', 'bobcats', 'Jeremy Lin'],\n",
       " ['A.J. Price', 'bobcats', 'Nate Robinson']]"
      ]
     },
     "execution_count": 8,
     "metadata": {},
     "output_type": "execute_result"
    }
   ],
   "source": [
    "\n",
    "rows = []\n",
    "_ = df.apply(lambda row: [rows.append([row['name'], row['opponent'], nn]) \n",
    "                         for nn in row.nearest_neighbors], axis=1)\n",
    "\n",
    "rows"
   ]
  },
  {
   "cell_type": "code",
   "execution_count": 9,
   "metadata": {
    "collapsed": true
   },
   "outputs": [],
   "source": [
    "\n",
    "\n",
    "df_new = pd.DataFrame(rows, columns=df.columns).set_index(['name', 'opponent'])"
   ]
  },
  {
   "cell_type": "code",
   "execution_count": 10,
   "metadata": {
    "collapsed": false,
    "scrolled": true
   },
   "outputs": [
    {
     "data": {
      "text/html": [
       "<div>\n",
       "<table border=\"1\" class=\"dataframe\">\n",
       "  <thead>\n",
       "    <tr style=\"text-align: right;\">\n",
       "      <th></th>\n",
       "      <th></th>\n",
       "      <th>nearest_neighbors</th>\n",
       "    </tr>\n",
       "    <tr>\n",
       "      <th>name</th>\n",
       "      <th>opponent</th>\n",
       "      <th></th>\n",
       "    </tr>\n",
       "  </thead>\n",
       "  <tbody>\n",
       "    <tr>\n",
       "      <th rowspan=\"11\" valign=\"top\">A.J. Price</th>\n",
       "      <th>76ers</th>\n",
       "      <td>Zach LaVine</td>\n",
       "    </tr>\n",
       "    <tr>\n",
       "      <th>76ers</th>\n",
       "      <td>Jeremy Lin</td>\n",
       "    </tr>\n",
       "    <tr>\n",
       "      <th>76ers</th>\n",
       "      <td>Nate Robinson</td>\n",
       "    </tr>\n",
       "    <tr>\n",
       "      <th>76ers</th>\n",
       "      <td>Isaia</td>\n",
       "    </tr>\n",
       "    <tr>\n",
       "      <th>blazers</th>\n",
       "      <td>Zach LaVine</td>\n",
       "    </tr>\n",
       "    <tr>\n",
       "      <th>blazers</th>\n",
       "      <td>Jeremy Lin</td>\n",
       "    </tr>\n",
       "    <tr>\n",
       "      <th>blazers</th>\n",
       "      <td>Nate Robinson</td>\n",
       "    </tr>\n",
       "    <tr>\n",
       "      <th>blazers</th>\n",
       "      <td>Isaia</td>\n",
       "    </tr>\n",
       "    <tr>\n",
       "      <th>bobcats</th>\n",
       "      <td>Zach LaVine</td>\n",
       "    </tr>\n",
       "    <tr>\n",
       "      <th>bobcats</th>\n",
       "      <td>Jeremy Lin</td>\n",
       "    </tr>\n",
       "    <tr>\n",
       "      <th>bobcats</th>\n",
       "      <td>Nate Robinson</td>\n",
       "    </tr>\n",
       "  </tbody>\n",
       "</table>\n",
       "</div>"
      ],
      "text/plain": [
       "                    nearest_neighbors\n",
       "name       opponent                  \n",
       "A.J. Price 76ers          Zach LaVine\n",
       "           76ers           Jeremy Lin\n",
       "           76ers        Nate Robinson\n",
       "           76ers                Isaia\n",
       "           blazers        Zach LaVine\n",
       "           blazers         Jeremy Lin\n",
       "           blazers      Nate Robinson\n",
       "           blazers              Isaia\n",
       "           bobcats        Zach LaVine\n",
       "           bobcats         Jeremy Lin\n",
       "           bobcats      Nate Robinson"
      ]
     },
     "execution_count": 10,
     "metadata": {},
     "output_type": "execute_result"
    }
   ],
   "source": [
    "df_new"
   ]
  },
  {
   "cell_type": "code",
   "execution_count": null,
   "metadata": {
    "collapsed": true
   },
   "outputs": [],
   "source": [
    "#案例２"
   ]
  },
  {
   "cell_type": "code",
   "execution_count": 12,
   "metadata": {
    "collapsed": false,
    "scrolled": true
   },
   "outputs": [
    {
     "data": {
      "text/html": [
       "<div>\n",
       "<table border=\"1\" class=\"dataframe\">\n",
       "  <thead>\n",
       "    <tr style=\"text-align: right;\">\n",
       "      <th></th>\n",
       "      <th>name</th>\n",
       "      <th>opponent</th>\n",
       "      <th>nearest_neighbors</th>\n",
       "    </tr>\n",
       "  </thead>\n",
       "  <tbody>\n",
       "    <tr>\n",
       "      <th>0</th>\n",
       "      <td>A.J. Price</td>\n",
       "      <td>76ers</td>\n",
       "      <td>Zach LaVine,Jeremy Lin,Nate Robinson,Isaia</td>\n",
       "    </tr>\n",
       "    <tr>\n",
       "      <th>1</th>\n",
       "      <td>A.J. Price</td>\n",
       "      <td>blazers</td>\n",
       "      <td>Zach LaVine,Jeremy Lin,Nate Robinson,Isaia</td>\n",
       "    </tr>\n",
       "    <tr>\n",
       "      <th>2</th>\n",
       "      <td>A.J. Price</td>\n",
       "      <td>bobcats</td>\n",
       "      <td>Zach LaVine,Jeremy Lin,Nate Robinson</td>\n",
       "    </tr>\n",
       "  </tbody>\n",
       "</table>\n",
       "</div>"
      ],
      "text/plain": [
       "         name opponent                           nearest_neighbors\n",
       "0  A.J. Price    76ers  Zach LaVine,Jeremy Lin,Nate Robinson,Isaia\n",
       "1  A.J. Price  blazers  Zach LaVine,Jeremy Lin,Nate Robinson,Isaia\n",
       "2  A.J. Price  bobcats        Zach LaVine,Jeremy Lin,Nate Robinson"
      ]
     },
     "execution_count": 12,
     "metadata": {},
     "output_type": "execute_result"
    }
   ],
   "source": [
    "import pandas as pd\n",
    "df = (pd.DataFrame({'name': ['A.J. Price'] * 3, \n",
    "                    'opponent': ['76ers', 'blazers', 'bobcats'], \n",
    "                    'nearest_neighbors': ['Zach LaVine,Jeremy Lin,Nate Robinson,Isaia',\n",
    "                                         'Zach LaVine,Jeremy Lin,Nate Robinson,Isaia',\n",
    "                                         'Zach LaVine,Jeremy Lin,Nate Robinson']})\n",
    "      .set_index(['name', 'opponent']))\n",
    "df.reset_index(inplace=True)\n",
    "df"
   ]
  },
  {
   "cell_type": "code",
   "execution_count": 15,
   "metadata": {
    "collapsed": false
   },
   "outputs": [
    {
     "data": {
      "text/plain": [
       "[['A.J. Price', '76ers', 'Zach LaVine'],\n",
       " ['A.J. Price', '76ers', 'Jeremy Lin'],\n",
       " ['A.J. Price', '76ers', 'Nate Robinson'],\n",
       " ['A.J. Price', '76ers', 'Isaia'],\n",
       " ['A.J. Price', 'blazers', 'Zach LaVine'],\n",
       " ['A.J. Price', 'blazers', 'Jeremy Lin'],\n",
       " ['A.J. Price', 'blazers', 'Nate Robinson'],\n",
       " ['A.J. Price', 'blazers', 'Isaia'],\n",
       " ['A.J. Price', 'bobcats', 'Zach LaVine'],\n",
       " ['A.J. Price', 'bobcats', 'Jeremy Lin'],\n",
       " ['A.J. Price', 'bobcats', 'Nate Robinson']]"
      ]
     },
     "execution_count": 15,
     "metadata": {},
     "output_type": "execute_result"
    }
   ],
   "source": [
    "rows = []\n",
    "_ = df.apply(lambda row: [rows.append([row['name'], row['opponent'], nn]) \n",
    "                         for nn in row.nearest_neighbors.split(\",\")], axis=1)\n",
    "\n",
    "rows"
   ]
  }
 ],
 "metadata": {
  "kernelspec": {
   "display_name": "Python [Root]",
   "language": "python",
   "name": "Python [Root]"
  },
  "language_info": {
   "codemirror_mode": {
    "name": "ipython",
    "version": 2
   },
   "file_extension": ".py",
   "mimetype": "text/x-python",
   "name": "python",
   "nbconvert_exporter": "python",
   "pygments_lexer": "ipython2",
   "version": "2.7.12"
  }
 },
 "nbformat": 4,
 "nbformat_minor": 0
}
