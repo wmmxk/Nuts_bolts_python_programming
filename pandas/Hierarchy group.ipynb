{
 "cells": [
  {
   "cell_type": "code",
   "execution_count": 1,
   "metadata": {
    "collapsed": true
   },
   "outputs": [],
   "source": [
    "import io\n",
    "import numpy as np\n",
    "import pandas as pd\n",
    "\n",
    "content = '''\n",
    "     Number1 Event        Number2  Number3\n",
    "0      20    clouds        30        404\n",
    "1      22    lightening    32        404\n",
    "2      23    playing       33        405\n",
    "3      25    clouds        35        410\n",
    "4      24    sleeping      34        407\n",
    "5      26    lightening    36        410\n",
    "6      21    rain          31        404\n",
    "7      27    rain          37        410'''\n",
    "\n",
    "df = pd.read_table(io.BytesIO(content), sep='\\s+')"
   ]
  },
  {
   "cell_type": "code",
   "execution_count": 2,
   "metadata": {
    "collapsed": false
   },
   "outputs": [
    {
     "data": {
      "text/html": [
       "<div>\n",
       "<table border=\"1\" class=\"dataframe\">\n",
       "  <thead>\n",
       "    <tr style=\"text-align: right;\">\n",
       "      <th></th>\n",
       "      <th>Number1</th>\n",
       "      <th>Event</th>\n",
       "      <th>Number2</th>\n",
       "      <th>Number3</th>\n",
       "    </tr>\n",
       "  </thead>\n",
       "  <tbody>\n",
       "    <tr>\n",
       "      <th>0</th>\n",
       "      <td>20</td>\n",
       "      <td>clouds</td>\n",
       "      <td>30</td>\n",
       "      <td>404</td>\n",
       "    </tr>\n",
       "    <tr>\n",
       "      <th>1</th>\n",
       "      <td>22</td>\n",
       "      <td>lightening</td>\n",
       "      <td>32</td>\n",
       "      <td>404</td>\n",
       "    </tr>\n",
       "    <tr>\n",
       "      <th>2</th>\n",
       "      <td>23</td>\n",
       "      <td>playing</td>\n",
       "      <td>33</td>\n",
       "      <td>405</td>\n",
       "    </tr>\n",
       "    <tr>\n",
       "      <th>3</th>\n",
       "      <td>25</td>\n",
       "      <td>clouds</td>\n",
       "      <td>35</td>\n",
       "      <td>410</td>\n",
       "    </tr>\n",
       "    <tr>\n",
       "      <th>4</th>\n",
       "      <td>24</td>\n",
       "      <td>sleeping</td>\n",
       "      <td>34</td>\n",
       "      <td>407</td>\n",
       "    </tr>\n",
       "    <tr>\n",
       "      <th>5</th>\n",
       "      <td>26</td>\n",
       "      <td>lightening</td>\n",
       "      <td>36</td>\n",
       "      <td>410</td>\n",
       "    </tr>\n",
       "    <tr>\n",
       "      <th>6</th>\n",
       "      <td>21</td>\n",
       "      <td>rain</td>\n",
       "      <td>31</td>\n",
       "      <td>404</td>\n",
       "    </tr>\n",
       "    <tr>\n",
       "      <th>7</th>\n",
       "      <td>27</td>\n",
       "      <td>rain</td>\n",
       "      <td>37</td>\n",
       "      <td>410</td>\n",
       "    </tr>\n",
       "  </tbody>\n",
       "</table>\n",
       "</div>"
      ],
      "text/plain": [
       "   Number1       Event  Number2  Number3\n",
       "0       20      clouds       30      404\n",
       "1       22  lightening       32      404\n",
       "2       23     playing       33      405\n",
       "3       25      clouds       35      410\n",
       "4       24    sleeping       34      407\n",
       "5       26  lightening       36      410\n",
       "6       21        rain       31      404\n",
       "7       27        rain       37      410"
      ]
     },
     "execution_count": 2,
     "metadata": {},
     "output_type": "execute_result"
    }
   ],
   "source": [
    "df"
   ]
  }
 ],
 "metadata": {
  "kernelspec": {
   "display_name": "Python [Root]",
   "language": "python",
   "name": "Python [Root]"
  },
  "language_info": {
   "codemirror_mode": {
    "name": "ipython",
    "version": 2
   },
   "file_extension": ".py",
   "mimetype": "text/x-python",
   "name": "python",
   "nbconvert_exporter": "python",
   "pygments_lexer": "ipython2",
   "version": "2.7.12"
  }
 },
 "nbformat": 4,
 "nbformat_minor": 0
}
