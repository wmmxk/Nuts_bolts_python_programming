{
 "cells": [
  {
   "cell_type": "code",
   "execution_count": null,
   "metadata": {
    "collapsed": true
   },
   "outputs": [],
   "source": [
    "import numpy as np\n",
    "\n",
    "datafile_path = \"/your/data/output/directory/datafile.txt\"\n",
    "datafile_id = open(datafile_path, 'w+')\n",
    "#here you open the ascii file\n",
    "\n",
    "xarray = np.array([0,1,2,3,4,5])\n",
    "yarray = np.array([0,10,20,30,40,50])\n",
    "#here is your data, in two numpy arrays\n",
    "\n",
    "data = np.array([xarray, yarray])\n",
    "data = data.T\n",
    "#here you transpose your data, so to have it in two columns\n",
    "\n",
    "np.savetxt(datafile_id, data, fmt=['%d','%d'])\n",
    "#here the ascii file is populated. \n",
    "\n",
    "datafile_id.close()"
   ]
  }
 ],
 "metadata": {
  "kernelspec": {
   "display_name": "Python [Root]",
   "language": "python",
   "name": "Python [Root]"
  },
  "language_info": {
   "codemirror_mode": {
    "name": "ipython",
    "version": 2
   },
   "file_extension": ".py",
   "mimetype": "text/x-python",
   "name": "python",
   "nbconvert_exporter": "python",
   "pygments_lexer": "ipython2",
   "version": "2.7.12"
  }
 },
 "nbformat": 4,
 "nbformat_minor": 0
}
