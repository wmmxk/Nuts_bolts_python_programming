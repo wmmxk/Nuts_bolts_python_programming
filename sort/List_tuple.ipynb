{
 "cells": [
  {
   "cell_type": "code",
   "execution_count": null,
   "metadata": {
    "collapsed": true
   },
   "outputs": [],
   "source": [
    "Since tuples are arrays that you cannot modify, \n",
    "they don't have an in-place sort function that can be called directly on them.\n",
    "They must always use the sorted \n",
    "function to return a sorted list. Keeping that in mind, here's how to do it:"
   ]
  },
  {
   "cell_type": "code",
   "execution_count": null,
   "metadata": {
    "collapsed": true
   },
   "outputs": [],
   "source": [
    "source: http://pythoncentral.io/how-to-sort-a-list-tuple-or-object-with-sorted-in-python/"
   ]
  },
  {
   "cell_type": "code",
   "execution_count": null,
   "metadata": {
    "collapsed": true
   },
   "outputs": [],
   "source": [
    "sorted 结合key 这个argument可以，sort a class according to an attribute.\n",
    "你需要定一个getKey这个function"
   ]
  },
  {
   "cell_type": "code",
   "execution_count": null,
   "metadata": {
    "collapsed": true
   },
   "outputs": [],
   "source": [
    "# sort a list of lists or tuples"
   ]
  },
  {
   "cell_type": "code",
   "execution_count": 1,
   "metadata": {
    "collapsed": false,
    "scrolled": false
   },
   "outputs": [
    {
     "data": {
      "text/plain": [
       "[[1, 43], [2, 3], [3, 34], [6, 7], [24, 64]]"
      ]
     },
     "execution_count": 1,
     "metadata": {},
     "output_type": "execute_result"
    }
   ],
   "source": [
    "\n",
    ">>> def getKey(item):\n",
    "        return item[0]\n",
    ">>> l = [[2, 3], [6, 7], [3, 34], [24, 64], [1, 43]]\n",
    ">>> sorted(l, key=getKey)"
   ]
  },
  {
   "cell_type": "code",
   "execution_count": null,
   "metadata": {
    "collapsed": true
   },
   "outputs": [],
   "source": [
    "#define a function on the fly\n",
    "intervals = [[2,3],[1,10],[4,7],[5,8]]\n",
    "intervals.sort(key = lambda x: x[0]) "
   ]
  },
  {
   "cell_type": "code",
   "execution_count": null,
   "metadata": {
    "collapsed": true
   },
   "outputs": [],
   "source": [
    "# sort a custom objects. You can define a getKey function. Or you define a __cmp__ function in it.\n",
    "# with __cmp__ you can call sorted on the object directly"
   ]
  },
  {
   "cell_type": "code",
   "execution_count": 2,
   "metadata": {
    "collapsed": true
   },
   "outputs": [],
   "source": [
    "class Custom(object):\n",
    "    def __init__(self, name, number):\n",
    "        self.name = name\n",
    "        self.number = number\n",
    " \n",
    "    def __repr__(self):\n",
    "        return '{}: {} {}'.format(self.__class__.__name__,\n",
    "                                  self.name,\n",
    "                                  self.number)\n",
    " \n",
    "    def __cmp__(self, other):\n",
    "        if hasattr(other, 'number'):\n",
    "            return self.number.__cmp__(other.number)"
   ]
  },
  {
   "cell_type": "code",
   "execution_count": 3,
   "metadata": {
    "collapsed": true
   },
   "outputs": [],
   "source": [
    "customlist = [\n",
    "    Custom('object', 99),\n",
    "    Custom('michael', 1),\n",
    "    Custom('theodore the great', 59),\n",
    "    Custom('life', 42)\n",
    "]"
   ]
  },
  {
   "cell_type": "code",
   "execution_count": 4,
   "metadata": {
    "collapsed": false,
    "scrolled": true
   },
   "outputs": [
    {
     "data": {
      "text/plain": [
       "[Custom: michael 1,\n",
       " Custom: life 42,\n",
       " Custom: theodore the great 59,\n",
       " Custom: object 99]"
      ]
     },
     "execution_count": 4,
     "metadata": {},
     "output_type": "execute_result"
    }
   ],
   "source": [
    "sorted(customlist)"
   ]
  },
  {
   "cell_type": "code",
   "execution_count": null,
   "metadata": {
    "collapsed": true
   },
   "outputs": [],
   "source": [
    "也可以sorted(customelist, cmp=customFunction)"
   ]
  }
 ],
 "metadata": {
  "kernelspec": {
   "display_name": "Python [Root]",
   "language": "python",
   "name": "Python [Root]"
  },
  "language_info": {
   "codemirror_mode": {
    "name": "ipython",
    "version": 2
   },
   "file_extension": ".py",
   "mimetype": "text/x-python",
   "name": "python",
   "nbconvert_exporter": "python",
   "pygments_lexer": "ipython2",
   "version": "2.7.12"
  }
 },
 "nbformat": 4,
 "nbformat_minor": 0
}
