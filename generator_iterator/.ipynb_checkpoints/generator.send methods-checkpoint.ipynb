{
 "cells": [
  {
   "cell_type": "code",
   "execution_count": null,
   "metadata": {
    "collapsed": true
   },
   "outputs": [],
   "source": [
    "#source: http://www.bogotobogo.com/python/python_function_with_generator_send_method_yield_keyword_iterator_next.php"
   ]
  },
  {
   "cell_type": "code",
   "execution_count": null,
   "metadata": {
    "collapsed": true
   },
   "outputs": [],
   "source": [
    "What the next() does is clear: \n",
    "    the execution continues to the next yield expression. \n",
    "    The send(value) sends a value into the generator function. \n",
    "    The value argument becomes the result of the current yield expression."
   ]
  },
  {
   "cell_type": "code",
   "execution_count": 6,
   "metadata": {
    "collapsed": false
   },
   "outputs": [
    {
     "name": "stdout",
     "output_type": "stream",
     "text": [
      "10\n",
      "5.0\n",
      "None\n"
     ]
    }
   ],
   "source": [
    "def f():\n",
    "   while True:\n",
    "        val = yield\n",
    "        yield val*10\n",
    "g = f()\n",
    "g.next()\n",
    "print g.send(1)\n",
    "g.next()\n",
    "print g.send(0.5)\n",
    "print g.send(0.5)"
   ]
  }
 ],
 "metadata": {
  "kernelspec": {
   "display_name": "Python 2",
   "language": "python",
   "name": "python2"
  },
  "language_info": {
   "codemirror_mode": {
    "name": "ipython",
    "version": 2
   },
   "file_extension": ".py",
   "mimetype": "text/x-python",
   "name": "python",
   "nbconvert_exporter": "python",
   "pygments_lexer": "ipython2",
   "version": "2.7.13"
  }
 },
 "nbformat": 4,
 "nbformat_minor": 2
}
