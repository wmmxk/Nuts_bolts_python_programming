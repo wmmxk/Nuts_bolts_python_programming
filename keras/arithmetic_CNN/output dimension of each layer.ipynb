{
 "cells": [
  {
   "cell_type": "markdown",
   "metadata": {},
   "source": [
    "https://github.com/sadeepj/crfasrnn_keras/blob/master/crfrnn_model.py"
   ]
  },
  {
   "cell_type": "code",
   "execution_count": 53,
   "metadata": {
    "collapsed": true
   },
   "outputs": [],
   "source": [
    "from keras.models import Model\n",
    "from keras.layers import Conv2D, MaxPooling2D, Input, ZeroPadding2D, \\\n",
    "    Dropout, Conv2DTranspose, Cropping2D, Add"
   ]
  },
  {
   "cell_type": "code",
   "execution_count": 54,
   "metadata": {
    "collapsed": false
   },
   "outputs": [
    {
     "name": "stdout",
     "output_type": "stream",
     "text": [
      "Tensor(\"zero_padding2d_10/Pad:0\", shape=(?, 700, 700, 3), dtype=float32)\n",
      "Tensor(\"conv1_1_9/Relu:0\", shape=(?, 698, 698, 64), dtype=float32)\n",
      "Tensor(\"conv1_2_9/Relu:0\", shape=(?, 698, 698, 64), dtype=float32)\n",
      "Tensor(\"pool1_9/MaxPool:0\", shape=(?, 349, 349, 64), dtype=float32)\n"
     ]
    }
   ],
   "source": [
    "channels, height, weight = 3, 500, 500\n",
    "# Input\n",
    "input_shape = (height, weight, 3)\n",
    "img_input = Input(shape=input_shape)\n",
    "\n",
    "# Add plenty of zero padding\n",
    "x = ZeroPadding2D(padding=(100, 100))(img_input)\n",
    "\n",
    "print x\n",
    "# VGG-16 convolution block 1\n",
    "x = Conv2D(64, (3, 3), activation='relu', padding='valid', name='conv1_1')(x)\n",
    "print x\n",
    "x = Conv2D(64, (3, 3), activation='relu', padding='same', name='conv1_2')(x)\n",
    "print x\n",
    "x = MaxPooling2D((2, 2), strides=(2, 2), name='pool1')(x)\n",
    "print x\n"
   ]
  },
  {
   "cell_type": "code",
   "execution_count": 55,
   "metadata": {
    "collapsed": false
   },
   "outputs": [
    {
     "name": "stdout",
     "output_type": "stream",
     "text": [
      "Tensor(\"conv2_1_7/Relu:0\", shape=(?, 349, 349, 128), dtype=float32)\n",
      "Tensor(\"conv2_2_7/Relu:0\", shape=(?, 349, 349, 128), dtype=float32)\n",
      "Tensor(\"pool2_7/MaxPool:0\", shape=(?, 175, 175, 128), dtype=float32)\n"
     ]
    }
   ],
   "source": [
    "# VGG-16 convolution block 2\n",
    "x = Conv2D(128, (3, 3), activation='relu', padding='same', name='conv2_1')(x)\n",
    "print x\n",
    "x = Conv2D(128, (3, 3), activation='relu', padding='same', name='conv2_2')(x)\n",
    "print x\n",
    "x = MaxPooling2D((2, 2), strides=(2, 2), name='pool2', padding='same')(x)\n",
    "print x"
   ]
  },
  {
   "cell_type": "code",
   "execution_count": 56,
   "metadata": {
    "collapsed": false
   },
   "outputs": [
    {
     "name": "stdout",
     "output_type": "stream",
     "text": [
      "Tensor(\"conv3_1_7/Relu:0\", shape=(?, 175, 175, 256), dtype=float32)\n",
      "Tensor(\"conv3_2_7/Relu:0\", shape=(?, 175, 175, 256), dtype=float32)\n",
      "Tensor(\"conv3_3_7/Relu:0\", shape=(?, 175, 175, 256), dtype=float32)\n",
      "Tensor(\"pool3_7/MaxPool:0\", shape=(?, 88, 88, 256), dtype=float32)\n"
     ]
    }
   ],
   "source": [
    "# VGG-16 convolution block 3\n",
    "x = Conv2D(256, (3, 3), activation='relu', padding='same', name='conv3_1')(x)\n",
    "print x\n",
    "x = Conv2D(256, (3, 3), activation='relu', padding='same', name='conv3_2')(x)\n",
    "print x\n",
    "x = Conv2D(256, (3, 3), activation='relu', padding='same', name='conv3_3')(x)\n",
    "print x\n",
    "x = MaxPooling2D((2, 2), strides=(2, 2), name='pool3', padding='same')(x)\n",
    "print x\n",
    "pool3 = x"
   ]
  },
  {
   "cell_type": "code",
   "execution_count": 57,
   "metadata": {
    "collapsed": false
   },
   "outputs": [
    {
     "name": "stdout",
     "output_type": "stream",
     "text": [
      "Tensor(\"conv4_1_7/Relu:0\", shape=(?, 88, 88, 512), dtype=float32)\n",
      "Tensor(\"conv4_2_7/Relu:0\", shape=(?, 88, 88, 512), dtype=float32)\n",
      "Tensor(\"conv4_3_7/Relu:0\", shape=(?, 88, 88, 512), dtype=float32)\n",
      "Tensor(\"pool4_7/MaxPool:0\", shape=(?, 44, 44, 512), dtype=float32)\n"
     ]
    }
   ],
   "source": [
    "# VGG-16 convolution block 4\n",
    "x = Conv2D(512, (3, 3), activation='relu', padding='same', name='conv4_1')(x)\n",
    "print x\n",
    "x = Conv2D(512, (3, 3), activation='relu', padding='same', name='conv4_2')(x)\n",
    "print x\n",
    "x = Conv2D(512, (3, 3), activation='relu', padding='same', name='conv4_3')(x)\n",
    "print x\n",
    "x = MaxPooling2D((2, 2), strides=(2, 2), name='pool4', padding='same')(x)\n",
    "print x\n",
    "pool4 = x\n"
   ]
  },
  {
   "cell_type": "code",
   "execution_count": 58,
   "metadata": {
    "collapsed": false
   },
   "outputs": [
    {
     "name": "stdout",
     "output_type": "stream",
     "text": [
      "Tensor(\"conv5_1_5/Relu:0\", shape=(?, 44, 44, 512), dtype=float32)\n",
      "Tensor(\"conv5_2_5/Relu:0\", shape=(?, 44, 44, 512), dtype=float32)\n",
      "Tensor(\"conv5_3_5/Relu:0\", shape=(?, 44, 44, 512), dtype=float32)\n",
      "Tensor(\"pool5_5/MaxPool:0\", shape=(?, 22, 22, 512), dtype=float32)\n"
     ]
    }
   ],
   "source": [
    "# VGG-16 convolution block 5\n",
    "x = Conv2D(512, (3, 3), activation='relu', padding='same', name='conv5_1')(x)\n",
    "print x\n",
    "x = Conv2D(512, (3, 3), activation='relu', padding='same', name='conv5_2')(x)\n",
    "print x\n",
    "x = Conv2D(512, (3, 3), activation='relu', padding='same', name='conv5_3')(x)\n",
    "print x\n",
    "x = MaxPooling2D((2, 2), strides=(2, 2), name='pool5', padding='same')(x)\n",
    "print x"
   ]
  },
  {
   "cell_type": "code",
   "execution_count": 59,
   "metadata": {
    "collapsed": false
   },
   "outputs": [
    {
     "name": "stdout",
     "output_type": "stream",
     "text": [
      "Tensor(\"fc6_6/Relu:0\", shape=(?, 16, 16, 4096), dtype=float32)\n",
      "Tensor(\"dropout_13/cond/Merge:0\", shape=(?, 16, 16, 4096), dtype=float32)\n",
      "Tensor(\"fc7_6/Relu:0\", shape=(?, 16, 16, 4096), dtype=float32)\n",
      "Tensor(\"score-fr_6/BiasAdd:0\", shape=(?, 16, 16, 21), dtype=float32)\n"
     ]
    }
   ],
   "source": [
    "x = Conv2D(4096, (7, 7), activation='relu', padding='valid', name='fc6')(x)\n",
    "print x\n",
    "x = Dropout(0.5)(x)\n",
    "print x\n",
    "x = Conv2D(4096, (1, 1), activation='relu', padding='valid', name='fc7')(x)\n",
    "print x\n",
    "x = Dropout(0.5)(x)\n",
    "x = Conv2D(21, (1, 1), padding='valid', name='score-fr')(x)\n",
    "print x"
   ]
  },
  {
   "cell_type": "code",
   "execution_count": 60,
   "metadata": {
    "collapsed": false
   },
   "outputs": [
    {
     "name": "stdout",
     "output_type": "stream",
     "text": [
      "Tensor(\"score2_7/BiasAdd:0\", shape=(?, ?, ?, 21), dtype=float32)\n"
     ]
    }
   ],
   "source": [
    "score2 = Conv2DTranspose(21, (4, 4), strides=2, name='score2')(x)\n",
    "print score2"
   ]
  },
  {
   "cell_type": "code",
   "execution_count": 61,
   "metadata": {
    "collapsed": false
   },
   "outputs": [
    {
     "name": "stdout",
     "output_type": "stream",
     "text": [
      "Tensor(\"pool4_7/MaxPool:0\", shape=(?, 44, 44, 512), dtype=float32)\n",
      "Tensor(\"score-pool4_8/BiasAdd:0\", shape=(?, 44, 44, 21), dtype=float32)\n",
      "Tensor(\"cropping2d_9/strided_slice:0\", shape=(?, 34, 34, 21), dtype=float32)\n",
      "Tensor(\"add_9/add:0\", shape=(?, 34, 34, 21), dtype=float32)\n",
      "Tensor(\"score4_2/conv2d_transpose:0\", shape=(?, ?, ?, ?), dtype=float32)\n"
     ]
    }
   ],
   "source": [
    "print pool4\n",
    "score_pool4 = Conv2D(21, (1, 1), name='score-pool4')(pool4)\n",
    "print score_pool4\n",
    "score_pool4c = Cropping2D((5, 5))(score_pool4)\n",
    "print score_pool4c\n",
    "score_fused = Add()([score2, score_pool4c])\n",
    "print score_fused\n",
    "\n",
    "score4 = Conv2DTranspose(21, (4, 4), strides=2, name='score4', use_bias=False)(score_fused)\n",
    "print score4"
   ]
  },
  {
   "cell_type": "code",
   "execution_count": 67,
   "metadata": {
    "collapsed": false
   },
   "outputs": [
    {
     "name": "stdout",
     "output_type": "stream",
     "text": [
      "Tensor(\"pool3_7/MaxPool:0\", shape=(?, 88, 88, 256), dtype=float32)\n",
      "Tensor(\"score-pool3_4/BiasAdd:0\", shape=(?, 88, 88, 21), dtype=float32)\n",
      "Tensor(\"cropping2d_19/strided_slice:0\", shape=(?, 70, 70, 21), dtype=float32)\n",
      "Tensor(\"add_15/add:0\", shape=(?, 70, 70, 21), dtype=float32)\n",
      "Tensor(\"upsample_4/conv2d_transpose:0\", shape=(?, ?, ?, ?), dtype=float32)\n",
      "Tensor(\"cropping2d_20/strided_slice:0\", shape=(?, ?, ?, ?), dtype=float32)\n"
     ]
    }
   ],
   "source": [
    "# Skip connections from pool3\n",
    "print pool3\n",
    "score_pool3 = Conv2D(21, (1, 1), name='score-pool3')(pool3)\n",
    "print score_pool3\n",
    "score_pool3c = Cropping2D((9, 9))(score_pool3)\n",
    "print score_pool3c\n",
    "\n",
    "# Fuse things together\n",
    "score_final = Add()([score4, score_pool3c])\n",
    "print score_final\n",
    "\n",
    "# Final up-sampling and cropping\n",
    "upsample = Conv2DTranspose(21, (16, 16), strides=8, name='upsample', use_bias=False)(score_final)\n",
    "print upsample\n",
    "upscore = Cropping2D(((31, 37), (31, 37)))(upsample)\n",
    "print upscore"
   ]
  },
  {
   "cell_type": "code",
   "execution_count": 71,
   "metadata": {
    "collapsed": false
   },
   "outputs": [
    {
     "ename": "ValueError",
     "evalue": "Operands could not be broadcast together with shapes (500, 500, 21) (568, 568, 21)",
     "output_type": "error",
     "traceback": [
      "\u001b[1;31m---------------------------------------------------------------------------\u001b[0m",
      "\u001b[1;31mValueError\u001b[0m                                Traceback (most recent call last)",
      "\u001b[1;32m<ipython-input-71-41cdcb691df0>\u001b[0m in \u001b[0;36m<module>\u001b[1;34m()\u001b[0m\n\u001b[1;32m----> 1\u001b[1;33m \u001b[0mupscore2\u001b[0m \u001b[1;33m=\u001b[0m \u001b[0mAdd\u001b[0m\u001b[1;33m(\u001b[0m\u001b[1;33m)\u001b[0m\u001b[1;33m(\u001b[0m\u001b[1;33m[\u001b[0m\u001b[0mupscore\u001b[0m\u001b[1;33m,\u001b[0m\u001b[0mupsample\u001b[0m\u001b[1;33m]\u001b[0m\u001b[1;33m)\u001b[0m\u001b[1;33m\u001b[0m\u001b[0m\n\u001b[0m",
      "\u001b[1;32m/home/wxk/anaconda2/lib/python2.7/site-packages/keras/engine/topology.pyc\u001b[0m in \u001b[0;36m__call__\u001b[1;34m(self, inputs, **kwargs)\u001b[0m\n\u001b[0;32m    569\u001b[0m                     \u001b[0mself\u001b[0m\u001b[1;33m.\u001b[0m\u001b[0mbuild\u001b[0m\u001b[1;33m(\u001b[0m\u001b[0minput_shapes\u001b[0m\u001b[1;33m[\u001b[0m\u001b[1;36m0\u001b[0m\u001b[1;33m]\u001b[0m\u001b[1;33m)\u001b[0m\u001b[1;33m\u001b[0m\u001b[0m\n\u001b[0;32m    570\u001b[0m                 \u001b[1;32melse\u001b[0m\u001b[1;33m:\u001b[0m\u001b[1;33m\u001b[0m\u001b[0m\n\u001b[1;32m--> 571\u001b[1;33m                     \u001b[0mself\u001b[0m\u001b[1;33m.\u001b[0m\u001b[0mbuild\u001b[0m\u001b[1;33m(\u001b[0m\u001b[0minput_shapes\u001b[0m\u001b[1;33m)\u001b[0m\u001b[1;33m\u001b[0m\u001b[0m\n\u001b[0m\u001b[0;32m    572\u001b[0m                 \u001b[0mself\u001b[0m\u001b[1;33m.\u001b[0m\u001b[0mbuilt\u001b[0m \u001b[1;33m=\u001b[0m \u001b[0mTrue\u001b[0m\u001b[1;33m\u001b[0m\u001b[0m\n\u001b[0;32m    573\u001b[0m \u001b[1;33m\u001b[0m\u001b[0m\n",
      "\u001b[1;32m/home/wxk/anaconda2/lib/python2.7/site-packages/keras/layers/merge.pyc\u001b[0m in \u001b[0;36mbuild\u001b[1;34m(self, input_shape)\u001b[0m\n\u001b[0;32m     82\u001b[0m             \u001b[1;32melse\u001b[0m\u001b[1;33m:\u001b[0m\u001b[1;33m\u001b[0m\u001b[0m\n\u001b[0;32m     83\u001b[0m                 \u001b[0mshape\u001b[0m \u001b[1;33m=\u001b[0m \u001b[0minput_shape\u001b[0m\u001b[1;33m[\u001b[0m\u001b[0mi\u001b[0m\u001b[1;33m]\u001b[0m\u001b[1;33m[\u001b[0m\u001b[1;36m1\u001b[0m\u001b[1;33m:\u001b[0m\u001b[1;33m]\u001b[0m\u001b[1;33m\u001b[0m\u001b[0m\n\u001b[1;32m---> 84\u001b[1;33m             \u001b[0moutput_shape\u001b[0m \u001b[1;33m=\u001b[0m \u001b[0mself\u001b[0m\u001b[1;33m.\u001b[0m\u001b[0m_compute_elemwise_op_output_shape\u001b[0m\u001b[1;33m(\u001b[0m\u001b[0moutput_shape\u001b[0m\u001b[1;33m,\u001b[0m \u001b[0mshape\u001b[0m\u001b[1;33m)\u001b[0m\u001b[1;33m\u001b[0m\u001b[0m\n\u001b[0m\u001b[0;32m     85\u001b[0m         \u001b[1;31m# If the inputs have different ranks, we have to reshape them\u001b[0m\u001b[1;33m\u001b[0m\u001b[1;33m\u001b[0m\u001b[0m\n\u001b[0;32m     86\u001b[0m         \u001b[1;31m# to make them broadcastable.\u001b[0m\u001b[1;33m\u001b[0m\u001b[1;33m\u001b[0m\u001b[0m\n",
      "\u001b[1;32m/home/wxk/anaconda2/lib/python2.7/site-packages/keras/layers/merge.pyc\u001b[0m in \u001b[0;36m_compute_elemwise_op_output_shape\u001b[1;34m(self, shape1, shape2)\u001b[0m\n\u001b[0;32m     53\u001b[0m                     raise ValueError('Operands could not be broadcast '\n\u001b[0;32m     54\u001b[0m                                      \u001b[1;34m'together with shapes '\u001b[0m \u001b[1;33m+\u001b[0m\u001b[1;33m\u001b[0m\u001b[0m\n\u001b[1;32m---> 55\u001b[1;33m                                      str(shape1) + ' ' + str(shape2))\n\u001b[0m\u001b[0;32m     56\u001b[0m                 \u001b[0moutput_shape\u001b[0m\u001b[1;33m.\u001b[0m\u001b[0mappend\u001b[0m\u001b[1;33m(\u001b[0m\u001b[0mi\u001b[0m\u001b[1;33m)\u001b[0m\u001b[1;33m\u001b[0m\u001b[0m\n\u001b[0;32m     57\u001b[0m         \u001b[1;32mreturn\u001b[0m \u001b[0mtuple\u001b[0m\u001b[1;33m(\u001b[0m\u001b[0moutput_shape\u001b[0m\u001b[1;33m)\u001b[0m\u001b[1;33m\u001b[0m\u001b[0m\n",
      "\u001b[1;31mValueError\u001b[0m: Operands could not be broadcast together with shapes (500, 500, 21) (568, 568, 21)"
     ]
    }
   ],
   "source": [
    "upscore2 = Add()([upscore,upsample])"
   ]
  },
  {
   "cell_type": "code",
   "execution_count": 70,
   "metadata": {
    "collapsed": false
   },
   "outputs": [
    {
     "data": {
      "text/plain": [
       "<tf.Tensor 'add_16/add:0' shape=(?, ?, ?, ?) dtype=float32>"
      ]
     },
     "execution_count": 70,
     "metadata": {},
     "output_type": "execute_result"
    }
   ],
   "source": [
    "upscore2"
   ]
  }
 ],
 "metadata": {
  "kernelspec": {
   "display_name": "Python 2",
   "language": "python",
   "name": "python2"
  },
  "language_info": {
   "codemirror_mode": {
    "name": "ipython",
    "version": 2
   },
   "file_extension": ".py",
   "mimetype": "text/x-python",
   "name": "python",
   "nbconvert_exporter": "python",
   "pygments_lexer": "ipython2",
   "version": "2.7.12"
  }
 },
 "nbformat": 4,
 "nbformat_minor": 0
}
