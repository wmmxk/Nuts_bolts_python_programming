{
 "cells": [
  {
   "cell_type": "markdown",
   "metadata": {},
   "source": [
    "source: http://www.jakob-aungiers.com/articles/a/LSTM-Neural-Network-for-Time-Series-Prediction"
   ]
  },
  {
   "cell_type": "code",
   "execution_count": 1,
   "metadata": {
    "collapsed": true
   },
   "outputs": [],
   "source": [
    "# only works on keras==1.2.2 tf==0.12.1"
   ]
  },
  {
   "cell_type": "code",
   "execution_count": 2,
   "metadata": {
    "collapsed": false
   },
   "outputs": [
    {
     "name": "stderr",
     "output_type": "stream",
     "text": [
      "Using TensorFlow backend.\n"
     ]
    }
   ],
   "source": [
    "import os\n",
    "import time\n",
    "import warnings\n",
    "import numpy as np\n",
    "from numpy import newaxis\n",
    "from keras.layers.core import Dense, Activation, Dropout\n",
    "from keras.layers.recurrent import LSTM\n",
    "from keras.models import Sequential\n",
    "\n",
    "from numpy import newaxis"
   ]
  },
  {
   "cell_type": "code",
   "execution_count": 3,
   "metadata": {
    "collapsed": true
   },
   "outputs": [],
   "source": [
    "filename = 'sp500.csv'\n",
    "seq_len = 50\n",
    "normalise_window = True"
   ]
  },
  {
   "cell_type": "code",
   "execution_count": 156,
   "metadata": {
    "collapsed": true
   },
   "outputs": [],
   "source": [
    "os.environ['TF_CPP_MIN_LOG_LEVEL'] = '3' #Hide messy TensorFlow warnings\n",
    "warnings.filterwarnings(\"ignore\") #Hide messy Numpy warnings\n",
    "\n",
    "def load_data(filename, seq_len, normalise_window,ratio):\n",
    "    f = open(filename, 'rb').read()\n",
    "    data = f.decode().split('\\n')[:-1]\n",
    "\n",
    "    sequence_length = seq_len + 1\n",
    "    result = []\n",
    "    for index in range(len(data) - sequence_length):\n",
    "        result.append(data[index: index + sequence_length])\n",
    "    \n",
    "    np.random.seed(42)\n",
    "    \n",
    "    result = np.array(result)\n",
    "    np.random.shuffle(result)\n",
    "    \n",
    "    \n",
    "    if normalise_window:\n",
    "        result = normalise_windows(result)\n",
    "\n",
    "    result = np.array(result)\n",
    "\n",
    "    row = round(ratio * result.shape[0])\n",
    "    print(\"row\",row)\n",
    "    train = result[:int(row), :]\n",
    "    np.random.shuffle(train)\n",
    "    x_train = train[:, :-1]\n",
    "    y_train = train[:, -1]\n",
    "    x_test = result[int(row):, :-1]\n",
    "    y_test = result[int(row):, -1]\n",
    "\n",
    "    \n",
    "    x_train = np.reshape(x_train, (x_train.shape[0], x_train.shape[1], 1))\n",
    "\n",
    "    x_test = np.reshape(x_test, (x_test.shape[0], x_test.shape[1], 1))  \n",
    "\n",
    "    return [x_train, y_train, x_test, y_test]\n",
    "\n",
    "def normalise_windows(window_data):\n",
    "    normalised_data = []\n",
    "    for window in window_data:\n",
    "        normalised_window = [((float(p) / float(window[0])) - 1) for p in window]\n",
    "        normalised_data.append(normalised_window)\n",
    "    return normalised_data"
   ]
  },
  {
   "cell_type": "code",
   "execution_count": 157,
   "metadata": {
    "collapsed": true
   },
   "outputs": [],
   "source": [
    "def build_model():\n",
    "    model = Sequential()\n",
    "\n",
    "    model.add(LSTM(\n",
    "        input_dim= 1,\n",
    "        output_dim= 50,\n",
    "        return_sequences=False))\n",
    "    model.add(Dropout(0.4))\n",
    "\n",
    "    model.add(Dense(\n",
    "        output_dim= 1))\n",
    "    model.add(Activation(\"linear\"))\n",
    "\n",
    "    start = time.time()\n",
    "    model.compile(loss=\"mse\", optimizer=\"rmsprop\")\n",
    "    print(\"> Compilation Time : \", time.time() - start)\n",
    "    return model"
   ]
  },
  {
   "cell_type": "code",
   "execution_count": 176,
   "metadata": {
    "collapsed": false,
    "scrolled": true
   },
   "outputs": [
    {
     "name": "stdout",
     "output_type": "stream",
     "text": [
      "('row', 21.0)\n",
      "> Data Loaded. Compiling...\n",
      "('> Compilation Time : ', 0.025809049606323242)\n",
      "('one datapoint from X_train: ', array([-0.00768479]))\n",
      "Train on 19 samples, validate on 2 samples\n",
      "Epoch 1/10\n",
      "19/19 [==============================] - 3s - loss: 0.0162 - val_loss: 0.0127\n",
      "Epoch 2/10\n",
      "19/19 [==============================] - 0s - loss: 0.0068 - val_loss: 0.0124\n",
      "Epoch 3/10\n",
      "19/19 [==============================] - 0s - loss: 0.0071 - val_loss: 0.0090\n",
      "Epoch 4/10\n",
      "19/19 [==============================] - 0s - loss: 0.0074 - val_loss: 0.0084\n",
      "Epoch 5/10\n",
      "19/19 [==============================] - 0s - loss: 0.0042 - val_loss: 0.0065\n",
      "Epoch 6/10\n",
      "19/19 [==============================] - 0s - loss: 0.0026 - val_loss: 0.0058\n",
      "Epoch 7/10\n",
      "19/19 [==============================] - 0s - loss: 0.0035 - val_loss: 0.0050\n",
      "Epoch 8/10\n",
      "19/19 [==============================] - 0s - loss: 0.0030 - val_loss: 0.0015\n",
      "Epoch 9/10\n",
      "19/19 [==============================] - 0s - loss: 0.0038 - val_loss: 0.0047\n",
      "Epoch 10/10\n",
      "19/19 [==============================] - 0s - loss: 0.0013 - val_loss: 0.0019\n",
      "('row', 41.0)\n",
      "> Data Loaded. Compiling...\n",
      "('> Compilation Time : ', 0.026337862014770508)\n",
      "('one datapoint from X_train: ', array([-0.00768479]))\n",
      "Train on 38 samples, validate on 3 samples\n",
      "Epoch 1/10\n",
      "38/38 [==============================] - 3s - loss: 0.0017 - val_loss: 0.0020\n",
      "Epoch 2/10\n",
      "38/38 [==============================] - 0s - loss: 9.2200e-04 - val_loss: 5.7666e-04\n",
      "Epoch 3/10\n",
      "38/38 [==============================] - 0s - loss: 0.0018 - val_loss: 7.0222e-04\n",
      "Epoch 4/10\n",
      "38/38 [==============================] - 0s - loss: 5.8234e-04 - val_loss: 1.8950e-04\n",
      "Epoch 5/10\n",
      "38/38 [==============================] - 0s - loss: 5.9798e-04 - val_loss: 5.6393e-04\n",
      "Epoch 6/10\n",
      "38/38 [==============================] - 0s - loss: 0.0011 - val_loss: 2.3159e-04\n",
      "Epoch 7/10\n",
      "38/38 [==============================] - 0s - loss: 6.5748e-04 - val_loss: 6.7820e-04\n",
      "Epoch 8/10\n",
      "38/38 [==============================] - 0s - loss: 8.8910e-04 - val_loss: 2.5215e-04\n",
      "Epoch 9/10\n",
      "38/38 [==============================] - 0s - loss: 4.9012e-04 - val_loss: 1.7069e-04\n",
      "Epoch 10/10\n",
      "38/38 [==============================] - 0s - loss: 8.4784e-04 - val_loss: 5.9293e-04\n",
      "('row', 62.0)\n",
      "> Data Loaded. Compiling...\n",
      "('> Compilation Time : ', 0.025913000106811523)\n",
      "('one datapoint from X_train: ', array([ 0.00623012]))\n",
      "Train on 58 samples, validate on 4 samples\n",
      "Epoch 1/10\n",
      "58/58 [==============================] - 2s - loss: 0.0019 - val_loss: 0.0019\n",
      "Epoch 2/10\n",
      "58/58 [==============================] - 0s - loss: 0.0022 - val_loss: 5.5549e-04\n",
      "Epoch 3/10\n",
      "58/58 [==============================] - 0s - loss: 0.0016 - val_loss: 5.0876e-04\n",
      "Epoch 4/10\n",
      "58/58 [==============================] - 0s - loss: 0.0011 - val_loss: 2.4000e-04\n",
      "Epoch 5/10\n",
      "58/58 [==============================] - 0s - loss: 7.8441e-04 - val_loss: 2.0344e-04\n",
      "Epoch 6/10\n",
      "58/58 [==============================] - 0s - loss: 8.7548e-04 - val_loss: 1.5225e-04\n",
      "Epoch 7/10\n",
      "58/58 [==============================] - 0s - loss: 8.4289e-04 - val_loss: 2.2150e-04\n",
      "Epoch 8/10\n",
      "58/58 [==============================] - 0s - loss: 7.8229e-04 - val_loss: 1.9278e-04\n",
      "Epoch 9/10\n",
      "58/58 [==============================] - 0s - loss: 8.2245e-04 - val_loss: 1.0194e-04\n",
      "Epoch 10/10\n",
      "58/58 [==============================] - 0s - loss: 6.8138e-04 - val_loss: 4.1201e-04\n",
      "('row', 824.0)\n",
      "> Data Loaded. Compiling...\n",
      "('> Compilation Time : ', 0.024765968322753906)\n",
      "('one datapoint from X_train: ', array([ 0.00930682]))\n",
      "Train on 782 samples, validate on 42 samples\n",
      "Epoch 1/10\n",
      "782/782 [==============================] - 3s - loss: 0.0017 - val_loss: 7.6519e-04\b\b\b\b\b\b\b\b\b\b\b\b\b\b\b\b\b\b\b\b\b\b\b\b\b\b\b\b\b\b\b\b\b\b\b\b\b\b\b\b\b\b\b\b\b\b\b\n",
      "Epoch 2/10\n",
      "782/782 [==============================] - 0s - loss: 0.0015 - val_loss: 4.2458e-04\b\b\b\b\b\b\b\b\b\b\b\b\b\b\b\b\b\b\b\b\b\b\b\b\b\b\b\b\b\b\b\b\b\b\b\b\b\b\b\b\b\b\b\b\b\b\b\n",
      "Epoch 3/10\n",
      "782/782 [==============================] - 0s - loss: 9.4962e-04 - val_loss: 4.2484e-04\b\b\b\b\b\b\b\b\b\b\b\b\b\b\b\b\b\b\b\b\b\b\b\b\b\b\b\b\b\b\b\b\b\b\b\b\b\b\b\b\b\b\b\n",
      "Epoch 4/10\n",
      "782/782 [==============================] - 0s - loss: 8.3976e-04 - val_loss: 3.9182e-04\b\b\b\b\b\b\b\b\b\b\b\b\b\b\b\b\b\b\b\b\b\b\b\b\b\b\b\b\b\b\b\b\b\b\b\b\b\b\b\b\b\b\b\b\b\b\b\b\b\b\b\n",
      "Epoch 5/10\n",
      "782/782 [==============================] - 0s - loss: 7.9956e-04 - val_loss: 3.9846e-04\b\b\b\b\b\b\b\b\b\b\b\b\b\b\b\b\b\b\b\b\b\b\b\b\b\b\b\b\b\b\b\b\b\b\b\b\b\b\b\b\b\b\b\b\b\b\b\b\b\b\b\n",
      "Epoch 6/10\n",
      "782/782 [==============================] - 0s - loss: 7.8715e-04 - val_loss: 3.9060e-04\b\b\b\b\b\b\b\b\b\b\b\b\b\b\b\b\b\b\b\b\b\b\b\b\b\b\b\b\b\b\b\b\b\b\b\b\b\b\b\b\b\b\b\b\b\b\b\b\b\b\b\n",
      "Epoch 7/10\n",
      "782/782 [==============================] - 0s - loss: 7.5274e-04 - val_loss: 4.1479e-04\b\b\b\b\b\b\b\b\b\b\b\b\b\b\b\b\b\b\b\b\b\b\b\b\b\b\b\b\b\b\b\b\b\b\b\b\b\b\b\b\b\b\b\b\b\b\b\b\b\b\b\n",
      "Epoch 8/10\n",
      "782/782 [==============================] - 0s - loss: 6.8565e-04 - val_loss: 3.5451e-04\b\b\b\b\b\b\b\b\b\b\b\b\b\b\b\b\b\b\b\b\b\b\b\b\b\b\b\b\b\b\b\b\b\b\b\b\b\b\b\b\b\b\b\b\b\b\b\b\b\b\b\n",
      "Epoch 9/10\n",
      "782/782 [==============================] - 0s - loss: 7.2529e-04 - val_loss: 3.9357e-04\b\b\b\b\b\b\b\b\b\b\b\b\b\b\b\b\b\b\b\b\b\b\b\b\b\b\b\b\b\b\b\b\b\b\b\b\b\b\b\b\b\b\b\b\b\b\b\b\b\b\b\n",
      "Epoch 10/10\n",
      "782/782 [==============================] - 0s - loss: 7.8879e-04 - val_loss: 4.1667e-04\b\b\b\b\b\b\b\b\b\b\b\b\b\b\b\b\b\b\b\b\b\b\b\b\b\b\b\b\b\b\b\b\b\b\b\b\b\b\b\b\b\b\b\b\b\b\b\b\b\b\b\n",
      "('row', 1648.0)\n",
      "> Data Loaded. Compiling...\n",
      "('> Compilation Time : ', 0.025051116943359375)\n",
      "('one datapoint from X_train: ', array([ 0.00128301]))\n",
      "Train on 1565 samples, validate on 83 samples\n",
      "Epoch 1/10\n",
      "1565/1565 [==============================] - 3s - loss: 0.0038 - val_loss: 0.0017\b\b\b\b\b\b\b\b\b\b\b\b\b\b\b\b\b\b\b\b\b\b\b\b\b\b\b\b\b\b\b\b\b\b\b\b\b\b\b\b\b\b\b\b\b\b\b\b\b\b\b\b\b\b\b\b\b\b\b\b\b\b\b\b\b\b\b\b\b\b\b\b\b\b\b\b\b\b\b\b\b\b\b\b\b\b\b\b\b\b\b\b\b\b\b\b\b\b\b\b\b\b\b\b\b\b\b\b\b\b\b\b\b\b\b\b\b\b\b\b\b\b\b\b\b\b\b\b\b\b\b\b\b\b\b\b\b\b\b\b\b\b\b\b\b\b\b\b\b\b\b\b\b\b\b\b\b\b\b\b\b\b\b\b\b\b\b\b\b\b\b\b\b\b\b\b\b\b\b\b\b\b\b\b\b\b\b\n",
      "Epoch 2/10\n",
      "1565/1565 [==============================] - 0s - loss: 0.0018 - val_loss: 0.0014\b\b\b\b\b\b\b\b\b\b\b\b\b\b\b\b\b\b\b\b\b\b\b\b\b\b\b\b\b\b\b\b\b\b\b\b\b\b\b\b\b\b\b\b\b\b\b\b\b\b\b\b\b\b\b\b\b\b\b\b\b\b\b\b\b\b\b\b\b\b\b\b\b\b\b\b\b\b\b\b\b\b\b\b\b\b\b\b\b\b\b\b\b\b\b\b\b\b\b\b\b\b\b\b\b\b\b\b\b\b\b\b\b\b\b\b\b\b\b\b\b\b\b\b\b\b\b\b\b\b\b\b\b\b\b\b\b\b\b\b\b\b\b\b\b\b\b\b\b\b\b\b\b\b\b\b\b\b\b\b\b\b\b\b\b\b\b\b\b\b\b\b\b\b\b\b\b\b\b\b\b\b\b\b\b\b\b\n",
      "Epoch 3/10\n",
      "1565/1565 [==============================] - 0s - loss: 0.0015 - val_loss: 9.8977e-04\b\b\b\b\b\b\b\b\b\b\b\b\b\b\b\b\b\b\b\b\b\b\b\b\b\b\b\b\b\b\b\b\b\b\b\b\b\b\b\b\b\b\b\b\b\b\b\b\b\b\b\b\b\b\b\b\b\b\b\b\b\b\b\b\b\b\b\b\b\b\b\b\b\b\b\b\b\b\b\b\b\b\b\b\b\b\b\b\b\b\b\b\b\b\b\b\b\b\b\b\b\b\b\b\b\b\b\b\b\b\b\b\b\b\b\b\b\b\b\b\b\b\b\b\b\b\b\b\b\b\b\b\b\b\b\b\b\b\b\b\b\b\b\b\b\b\b\b\b\b\b\b\b\b\b\b\b\b\b\b\b\b\b\b\b\b\b\b\b\b\b\b\b\b\b\b\b\b\b\b\b\b\b\n",
      "Epoch 4/10\n",
      "1565/1565 [==============================] - 0s - loss: 0.0012 - val_loss: 8.8567e-04\b\b\b\b\b\b\b\b\b\b\b\b\b\b\b\b\b\b\b\b\b\b\b\b\b\b\b\b\b\b\b\b\b\b\b\b\b\b\b\b\b\b\b\b\b\b\b\b\b\b\b\b\b\b\b\b\b\b\b\b\b\b\b\b\b\b\b\b\b\b\b\b\b\b\b\b\b\b\b\b\b\b\b\b\b\b\b\b\b\b\b\b\b\b\b\b\b\b\b\b\b\b\b\b\b\b\b\b\b\b\b\b\b\b\b\b\b\b\b\b\b\b\b\b\b\b\b\b\b\b\b\b\b\b\b\b\b\b\b\b\b\b\b\b\b\b\b\b\b\b\b\b\b\b\b\b\b\b\b\b\b\b\b\b\b\b\b\b\b\b\b\b\b\b\b\b\b\b\b\b\b\b\b\n",
      "Epoch 5/10\n",
      "1565/1565 [==============================] - 0s - loss: 0.0011 - val_loss: 8.8270e-04\b\b\b\b\b\b\b\b\b\b\b\b\b\b\b\b\b\b\b\b\b\b\b\b\b\b\b\b\b\b\b\b\b\b\b\b\b\b\b\b\b\b\b\b\b\b\b\b\b\b\b\b\b\b\b\b\b\b\b\b\b\b\b\b\b\b\b\b\b\b\b\b\b\b\b\b\b\b\b\b\b\b\b\b\b\b\b\b\b\b\b\b\b\b\b\b\b\b\b\b\b\b\b\b\b\b\b\b\b\b\b\b\b\b\b\b\b\b\b\b\b\b\b\b\b\b\b\b\b\b\b\b\b\b\b\b\b\b\b\b\b\b\b\b\b\b\b\b\b\b\b\b\b\b\b\b\b\b\b\b\b\b\b\b\b\b\b\b\b\b\b\b\b\b\b\b\b\b\b\b\b\b\b\n",
      "Epoch 6/10\n",
      "1565/1565 [==============================] - 0s - loss: 9.2306e-04 - val_loss: 7.9065e-04\b\b\b\b\b\b\b\b\b\b\b\b\b\b\b\b\b\b\b\b\b\b\b\b\b\b\b\b\b\b\b\b\b\b\b\b\b\b\b\b\b\b\b\b\b\b\b\b\b\b\b\b\b\b\b\b\b\b\b\b\b\b\b\b\b\b\b\b\b\b\b\b\b\b\b\b\b\b\b\b\b\b\b\b\b\b\b\b\b\b\b\b\b\b\b\b\b\b\b\b\b\b\b\b\b\b\b\b\b\b\b\b\b\b\b\b\b\b\b\b\b\b\b\b\b\b\b\b\b\b\b\b\b\b\b\b\b\b\b\b\b\b\b\b\b\b\b\b\b\b\b\b\b\b\b\b\b\b\b\b\b\b\b\b\b\b\b\b\b\b\b\b\b\b\b\b\b\b\b\b\b\b\b\b\b\b\b\b\b\b\b\b\b\b\b\n",
      "Epoch 7/10\n",
      "1565/1565 [==============================] - 0s - loss: 8.4532e-04 - val_loss: 7.1394e-04\b\b\b\b\b\b\b\b\b\b\b\b\b\b\b\b\b\b\b\b\b\b\b\b\b\b\b\b\b\b\b\b\b\b\b\b\b\b\b\b\b\b\b\b\b\b\b\b\b\b\b\b\b\b\b\b\b\b\b\b\b\b\b\b\b\b\b\b\b\b\b\b\b\b\b\b\b\b\b\b\b\b\b\b\b\b\b\b\b\b\b\b\b\b\b\b\b\b\b\b\b\b\b\b\b\b\b\b\b\b\b\b\b\b\b\b\b\b\b\b\b\b\b\b\b\b\b\b\b\b\b\b\b\b\b\b\b\b\b\b\b\b\b\b\b\b\b\b\b\b\b\b\b\b\b\b\b\b\b\b\b\b\b\b\b\b\b\b\b\b\b\b\b\b\b\b\b\b\b\b\b\b\b\b\b\b\b\b\b\b\b\b\b\b\b\n",
      "Epoch 8/10\n",
      "1565/1565 [==============================] - 0s - loss: 7.8767e-04 - val_loss: 8.5518e-04\b\b\b\b\b\b\b\b\b\b\b\b\b\b\b\b\b\b\b\b\b\b\b\b\b\b\b\b\b\b\b\b\b\b\b\b\b\b\b\b\b\b\b\b\b\b\b\b\b\b\b\b\b\b\b\b\b\b\b\b\b\b\b\b\b\b\b\b\b\b\b\b\b\b\b\b\b\b\b\b\b\b\b\b\b\b\b\b\b\b\b\b\b\b\b\b\b\b\b\b\b\b\b\b\b\b\b\b\b\b\b\b\b\b\b\b\b\b\b\b\b\b\b\b\b\b\b\b\b\b\b\b\b\b\b\b\b\b\b\b\b\b\b\b\b\b\b\b\b\b\b\b\b\b\b\b\b\b\b\b\b\b\b\b\b\b\b\b\b\b\b\b\b\b\b\b\b\b\b\b\b\b\b\b\b\b\b\b\b\b\b\b\b\b\b\n",
      "Epoch 9/10\n",
      "1565/1565 [==============================] - 0s - loss: 8.0534e-04 - val_loss: 6.7163e-04\b\b\b\b\b\b\b\b\b\b\b\b\b\b\b\b\b\b\b\b\b\b\b\b\b\b\b\b\b\b\b\b\b\b\b\b\b\b\b\b\b\b\b\b\b\b\b\b\b\b\b\b\b\b\b\b\b\b\b\b\b\b\b\b\b\b\b\b\b\b\b\b\b\b\b\b\b\b\b\b\b\b\b\b\b\b\b\b\b\b\b\b\b\b\b\b\b\b\b\b\b\b\b\b\b\b\b\b\b\b\b\b\b\b\b\b\b\b\b\b\b\b\b\b\b\b\b\b\b\b\b\b\b\b\b\b\b\b\b\b\b\b\b\b\b\b\b\b\b\b\b\b\b\b\b\b\b\b\b\b\b\b\b\b\b\b\b\b\b\b\b\b\b\b\b\b\b\b\b\b\b\b\b\b\b\b\b\b\b\b\b\b\b\b\b\n",
      "Epoch 10/10\n",
      "1565/1565 [==============================] - 0s - loss: 7.3782e-04 - val_loss: 6.5650e-04\b\b\b\b\b\b\b\b\b\b\b\b\b\b\b\b\b\b\b\b\b\b\b\b\b\b\b\b\b\b\b\b\b\b\b\b\b\b\b\b\b\b\b\b\b\b\b\b\b\b\b\b\b\b\b\b\b\b\b\b\b\b\b\b\b\b\b\b\b\b\b\b\b\b\b\b\b\b\b\b\b\b\b\b\b\b\b\b\b\b\b\b\b\b\b\b\b\b\b\b\b\b\b\b\b\b\b\b\b\b\b\b\b\b\b\b\b\b\b\b\b\b\b\b\b\b\b\b\b\b\b\b\b\b\b\b\b\b\b\b\b\b\b\b\b\b\b\b\b\b\b\b\b\b\b\b\b\b\b\b\b\b\b\b\b\b\b\b\b\b\b\b\b\b\b\b\b\b\b\b\b\b\b\b\b\b\b\b\b\b\b\b\b\b\b\n"
     ]
    }
   ],
   "source": [
    "errors = []\n",
    "for ratio in [0.005,0.01,0.015,0.2,0.4]:\n",
    "    X_train, y_train, X_test, y_test = load_data(filename, seq_len, True,ratio)\n",
    "\n",
    "    # num = 50\n",
    "    # X_train = X_train[:num,]\n",
    "    # y_train = y_train[:num]\n",
    "    print('> Data Loaded. Compiling...')\n",
    "\n",
    "    model = build_model()\n",
    "    print(\"one datapoint from X_train: \", X_train[0][1])\n",
    "\n",
    "    model.fit(\n",
    "        X_train,\n",
    "        y_train,\n",
    "        batch_size=512,\n",
    "        nb_epoch=10,\n",
    "        validation_split=0.05)\n",
    "\n",
    "\n",
    "\n",
    "    y_te_pred = model.predict(X_test)\n",
    "\n",
    "    error = np.abs(y_test.reshape((-1,1)) - y_te_pred)\n",
    "\n",
    "    errors.append(sum(error)/X_test.shape[0])"
   ]
  },
  {
   "cell_type": "code",
   "execution_count": 177,
   "metadata": {
    "collapsed": false,
    "scrolled": false
   },
   "outputs": [
    {
     "name": "stdout",
     "output_type": "stream",
     "text": [
      "[array([ 0.02972256]), array([ 0.01486013]), array([ 0.01827429]), array([ 0.01594325]), array([ 0.01599582])]\n"
     ]
    }
   ],
   "source": [
    "print errors"
   ]
  },
  {
   "cell_type": "markdown",
   "metadata": {},
   "source": [
    "import matplotlib.pyplot as plt\n",
    "plt.plot(range(len(y_test)),y_te_pred)\n",
    "plt.plot(range(len(y_test)),y_test)\n",
    "plt.show()"
   ]
  },
  {
   "cell_type": "code",
   "execution_count": 114,
   "metadata": {
    "collapsed": false,
    "scrolled": false
   },
   "outputs": [],
   "source": [
    "plt.scatter(y_test,error_per)\n",
    "plt.show()"
   ]
  },
  {
   "cell_type": "code",
   "execution_count": 87,
   "metadata": {
    "collapsed": false
   },
   "outputs": [
    {
     "data": {
      "text/plain": [
       "0.055818890911989341"
      ]
     },
     "execution_count": 87,
     "metadata": {},
     "output_type": "execute_result"
    }
   ],
   "source": [
    "np.sqrt(np.mean(error**2))/0.56"
   ]
  },
  {
   "cell_type": "code",
   "execution_count": null,
   "metadata": {
    "collapsed": true
   },
   "outputs": [],
   "source": []
  }
 ],
 "metadata": {
  "kernelspec": {
   "display_name": "Python 2",
   "language": "python",
   "name": "python2"
  },
  "language_info": {
   "codemirror_mode": {
    "name": "ipython",
    "version": 2
   },
   "file_extension": ".py",
   "mimetype": "text/x-python",
   "name": "python",
   "nbconvert_exporter": "python",
   "pygments_lexer": "ipython2",
   "version": "2.7.12"
  }
 },
 "nbformat": 4,
 "nbformat_minor": 1
}
