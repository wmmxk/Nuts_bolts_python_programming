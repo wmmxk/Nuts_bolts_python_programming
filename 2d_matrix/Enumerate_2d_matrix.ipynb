{
 "cells": [
  {
   "cell_type": "code",
   "execution_count": 9,
   "metadata": {
    "collapsed": true
   },
   "outputs": [],
   "source": [
    "def enumerate2(np_array):\n",
    "    for y, row in enumerate(np_array):\n",
    "        for x, element in enumerate(row):\n",
    "            yield (x, y, element)"
   ]
  },
  {
   "cell_type": "code",
   "execution_count": 8,
   "metadata": {
    "collapsed": false
   },
   "outputs": [],
   "source": [
    "import random\n",
    "nums = [[random.randint(1,100) for i in range(5)] for j in range(5)]"
   ]
  },
  {
   "cell_type": "code",
   "execution_count": 10,
   "metadata": {
    "collapsed": false
   },
   "outputs": [
    {
     "data": {
      "text/plain": [
       "[(0, 0, 75),\n",
       " (1, 0, 98),\n",
       " (2, 0, 75),\n",
       " (3, 0, 53),\n",
       " (4, 0, 73),\n",
       " (0, 1, 24),\n",
       " (1, 1, 85),\n",
       " (2, 1, 36),\n",
       " (3, 1, 20),\n",
       " (4, 1, 79),\n",
       " (0, 2, 71),\n",
       " (1, 2, 57),\n",
       " (2, 2, 34),\n",
       " (3, 2, 76),\n",
       " (4, 2, 92),\n",
       " (0, 3, 14),\n",
       " (1, 3, 62),\n",
       " (2, 3, 18),\n",
       " (3, 3, 75),\n",
       " (4, 3, 90),\n",
       " (0, 4, 87),\n",
       " (1, 4, 60),\n",
       " (2, 4, 38),\n",
       " (3, 4, 47),\n",
       " (4, 4, 86)]"
      ]
     },
     "execution_count": 10,
     "metadata": {},
     "output_type": "execute_result"
    }
   ],
   "source": [
    "list(enumerate2(nums))"
   ]
  }
 ],
 "metadata": {
  "kernelspec": {
   "display_name": "Python [Root]",
   "language": "python",
   "name": "Python [Root]"
  },
  "language_info": {
   "codemirror_mode": {
    "name": "ipython",
    "version": 2
   },
   "file_extension": ".py",
   "mimetype": "text/x-python",
   "name": "python",
   "nbconvert_exporter": "python",
   "pygments_lexer": "ipython2",
   "version": "2.7.12"
  }
 },
 "nbformat": 4,
 "nbformat_minor": 0
}
