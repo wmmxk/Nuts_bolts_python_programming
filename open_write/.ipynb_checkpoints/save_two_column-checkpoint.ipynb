{
 "cells": [
  {
   "cell_type": "code",
   "execution_count": 6,
   "metadata": {
    "collapsed": true
   },
   "outputs": [],
   "source": [
    "import os\n",
    "homepath = os.path.dirname(os.getcwd())"
   ]
  },
  {
   "cell_type": "code",
   "execution_count": 8,
   "metadata": {
    "collapsed": true
   },
   "outputs": [],
   "source": [
    "import numpy as np\n",
    "\n",
    "datafile_path = homepath+'/out_data/two_columns.txt'\n",
    "datafile_id = open(datafile_path, 'w+')\n",
    "#The '+' in 'w+' in the open() command means 'create if non existent'\n",
    "\n",
    "xarray = np.array([0,1,2,3,4,5])\n",
    "yarray = np.array([0,10,20,30,40,50])\n",
    "#here is your data, in two numpy arrays\n",
    "\n",
    "data = np.array([xarray, yarray])\n"
   ]
  },
  {
   "cell_type": "code",
   "execution_count": 11,
   "metadata": {
    "collapsed": false
   },
   "outputs": [
    {
     "name": "stdout",
     "output_type": "stream",
     "text": [
      "(6, 2)\n"
     ]
    }
   ],
   "source": [
    "xarray.shape\n",
    "print data.shape"
   ]
  },
  {
   "cell_type": "code",
   "execution_count": null,
   "metadata": {
    "collapsed": true
   },
   "outputs": [],
   "source": [
    "data = data.T\n",
    "#here you transpose your data, so to have it in two columns\n",
    "\n",
    "np.savetxt(datafile_id, data, fmt=['%d','%d'])\n",
    "#here the ascii file is populated. \n",
    "\n",
    "datafile_id.close()"
   ]
  },
  {
   "cell_type": "code",
   "execution_count": null,
   "metadata": {
    "collapsed": true
   },
   "outputs": [],
   "source": [
    "# Extract two columns and save it with open and close"
   ]
  },
  {
   "cell_type": "code",
   "execution_count": 23,
   "metadata": {
    "collapsed": true
   },
   "outputs": [],
   "source": [
    "df1 = np.random.rand(3,5)\n",
    "df2 = np.random.rand(3,5)\n",
    "out = np.array([df1[:,1],df2[:,1]])\n",
    "out = out.T"
   ]
  },
  {
   "cell_type": "code",
   "execution_count": 26,
   "metadata": {
    "collapsed": false
   },
   "outputs": [],
   "source": [
    "datafile_path = homepath+'/out_data/two_columns_2.txt'\n",
    "np.savetxt(datafile_path,out,fmt=['%d','%.2f'])"
   ]
  }
 ],
 "metadata": {
  "kernelspec": {
   "display_name": "Python [Root]",
   "language": "python",
   "name": "Python [Root]"
  },
  "language_info": {
   "codemirror_mode": {
    "name": "ipython",
    "version": 2
   },
   "file_extension": ".py",
   "mimetype": "text/x-python",
   "name": "python",
   "nbconvert_exporter": "python",
   "pygments_lexer": "ipython2",
   "version": "2.7.12"
  }
 },
 "nbformat": 4,
 "nbformat_minor": 0
}
